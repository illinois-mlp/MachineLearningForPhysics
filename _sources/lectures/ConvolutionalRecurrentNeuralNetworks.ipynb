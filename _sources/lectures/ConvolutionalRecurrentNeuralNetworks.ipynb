{
  "cells": [
    {
      "cell_type": "markdown",
      "metadata": {
        "id": "JWJA7ZtrbZxT"
      },
      "source": [
        "# Convolutional and Recurrent Neural Networks"
      ]
    },
    {
      "cell_type": "code",
      "execution_count": null,
      "metadata": {
        "id": "oWChhLTIbZxU"
      },
      "outputs": [],
      "source": [
        "%matplotlib inline\n",
        "import matplotlib.pyplot as plt\n",
        "import seaborn as sns; sns.set()\n",
        "import numpy as np\n",
        "import pandas as pd\n",
        "import os.path\n",
        "import subprocess\n",
        "import matplotlib.collections\n",
        "import scipy.signal\n",
        "from sklearn import model_selection\n",
        "import warnings\n",
        "warnings.filterwarnings('ignore')"
      ]
    },
    {
      "cell_type": "code",
      "execution_count": null,
      "metadata": {
        "colab": {
          "base_uri": "https://localhost:8080/"
        },
        "id": "zMOvSQpCbZxV",
        "outputId": "20ceffd3-5323-489d-ee9d-5742d3ce14b6"
      },
      "outputs": [],
      "source": [
        "# Use CPU rather than GPU for keras neural networks\n",
        "import os\n",
        "os.environ[\"CUDA_DEVICE_ORDER\"] = \"PCI_BUS_ID\"\n",
        "os.environ[\"CUDA_VISIBLE_DEVICES\"] = \"\"\n",
        "from tensorflow import keras\n",
        "from tqdm.keras import TqdmCallback"
      ]
    },
    {
      "cell_type": "markdown",
      "metadata": {},
      "source": [
        "## <span style=\"color:Orange\">Recurrent Networks</span>"
      ]
    },
    {
      "cell_type": "markdown",
      "metadata": {},
      "source": [
        "All the architectures we have seen so far are **feed-foward** networks, with input data always from left (input layer) to right (output layer). A <span style=\"color:Violet\">recurrent neural network</span> (RNN) adds links that feed back into a previous layer. This simple modification adds significant complexity but also expressive power (comparable to the electronics revolution associated with the idea of transistor feedback).\n",
        "\n",
        "Architectures with feedback are still maturing but some useful building blocks have emerged, such as the [long short-term memory unit](https://en.wikipedia.org/wiki/Long_short-term_memory), which allows a network to remember some internal state but also forget it based on new input.\n",
        "\n",
        "Some practical considerations for RNN designs:\n",
        " - The order of training data is now significant and defines a \"model time\", but the network can be reset whenever needed.\n",
        "\n",
        " - Input data can be packaged into variable-length messages that generate variable (and different) length output messages. This is exactly what language translation needs.\n",
        "\n",
        " - Optimization of the weights using gradients is still possible but requires \"unrolling\" the network by cloning it enough times to process the longest allowed messages.\n",
        "\n",
        "A feed-foward network implements a universal approximating function. Since the internal state of an RNN acts like local variables, you can think of an RNN as a universal approximating program.\n",
        "\n",
        "See this [blog post](http://karpathy.github.io/2015/05/21/rnn-effectiveness/) for an example based on natural language synthesis."
      ]
    },
    {
      "cell_type": "markdown",
      "metadata": {},
      "source": [
        "A \"recurrent\" neural network is not exactly feedforward.\n",
        "There are a variety of forms for a recurrent network, but using the previous diagramming method, we can write the most common form as:\n",
        "\n",
        "![](https://raw.githubusercontent.com/GDS-Education-Community-of-Practice/DSECOP/main/Time_Series_Analysis_and_Forecasting/diagrams/recurrent_nn_loop.drawio.svg)\n",
        "\n",
        "As you can see, there is a loop (the recurrent part) which passes information from one evaluation of the function to the next time the function is evaluated.\n",
        "This might seem strange at first glance but makes more sense when you consider a sequence of events.\n",
        "For example, words.\n",
        "If we have three words of a sentence, predicting the next word likely depends on all three words rather than only the previous."
      ]
    },
    {
      "cell_type": "markdown",
      "metadata": {},
      "source": [
        "### <span style=\"color:LightGreen\">Stucture</span>"
      ]
    },
    {
      "cell_type": "markdown",
      "metadata": {},
      "source": [
        "The \"looped\" diagram shown above can also be written in an \"unrolled\" form as follows:\n",
        "\n",
        "___<span style=\"color:Tan\">Many-to-many</span>___\n",
        "\n",
        "![](https://raw.githubusercontent.com/GDS-Education-Community-of-Practice/DSECOP/main/Time_Series_Analysis_and_Forecasting/diagrams/recurrent_nn1.drawio.svg)\n",
        "\n",
        "Note that this form of recurrent neural network requires inputs at each step and gives outputs at each step.\n",
        "This is is not strictly necessary and you could instead have only the end output or only one input and one output as show below:\n",
        "\n",
        "___<span style=\"color:Tan\">Many-to-one</span>___\n",
        "![](https://raw.githubusercontent.com/GDS-Education-Community-of-Practice/DSECOP/main/Time_Series_Analysis_and_Forecasting/diagrams/recurrent_nn2.drawio.svg)\n",
        "\n",
        "___<span style=\"color:Tan\">One-to-one</span>___\n",
        "![](https://raw.githubusercontent.com/GDS-Education-Community-of-Practice/DSECOP/main/Time_Series_Analysis_and_Forecasting/diagrams/recurrent_nn3.drawio.svg)\n",
        "\n",
        "\n",
        "Each of the demonstrated diagrams features a very simple version of the neural network, but it could have many layers at each step such as the following:\n",
        "\n",
        "![](https://raw.githubusercontent.com/GDS-Education-Community-of-Practice/DSECOP/main/Time_Series_Analysis_and_Forecasting/diagrams/recurrent_nn_loop2.drawio.svg)\n",
        "\n",
        "Fortunately, these can all be easily implemented using the `keras` framework.\n",
        "Let's return to our example of input data of the form $[\\sin(t),\\cos(t)]$ and outputs of the form $\\sin(t)\\cos(t)$ but lets try to use 2 values of $t$ to get the next value.\n",
        "So, we will pass in something like\n",
        "\n",
        "$$ \\Large\n",
        "\\begin{bmatrix}\n",
        "\\sin(t_1) & \\cos(t_1) \\\\\n",
        "\\sin(t_2) & \\cos(t_2)\n",
        "\\end{bmatrix}\n",
        "$$\n",
        "\n",
        "to get the output $\\sin(t_3)\\cos(t_3)$.\n",
        "We'll use two layers.\n",
        "See below for examples of these recurrent neural network forms:"
      ]
    },
    {
      "cell_type": "code",
      "execution_count": null,
      "metadata": {},
      "outputs": [],
      "source": [
        "keras.utils.set_random_seed(0)\n",
        "\n",
        "# Make input layer of appropriate size (2 samples of size 2 or 1 sample of size 2)\n",
        "x_many   = keras.layers.Input(shape=(2,2))\n",
        "x_one    = keras.layers.Input(shape=(1,2))\n",
        "\n",
        "# Pass input x into first layer of size 3 x 2\n",
        "# return_sequences=True means there is an output for each input\n",
        "y_many = keras.layers.SimpleRNN(3,activation=\"tanh\", return_sequences=True)(x_many)\n",
        "y_one  = keras.layers.SimpleRNN(3,activation=\"tanh\", return_sequences=True)(x_one)\n",
        "y_many_to_many = keras.layers.SimpleRNN(1,activation=\"tanh\", return_sequences=True)(y_many)\n",
        "y_many_to_one  = keras.layers.SimpleRNN(1,activation=\"tanh\", return_sequences=False)(y_many)\n",
        "y_one_to_one   = keras.layers.SimpleRNN(1,activation=\"tanh\", return_sequences=False)(y_one)\n",
        "\n",
        "many_to_many = keras.Model(inputs=x_many,outputs=y_many_to_many)\n",
        "many_to_one  = keras.Model(inputs=x_many,outputs=y_many_to_one)\n",
        "one_to_one   = keras.Model(inputs=x_one ,outputs=y_one_to_one)"
      ]
    },
    {
      "cell_type": "code",
      "execution_count": null,
      "metadata": {},
      "outputs": [],
      "source": [
        "# 1 batch of 2 random samples of size 2\n",
        "sample_many = np.random.random(size=(1,2,2))\n",
        "sample_one  = np.random.random(size=(1,1,2))\n",
        "\n",
        "print(\"Sample of 2: \\n{}\".format(sample_many))\n",
        "print(\"Many to many output: \\n{}\".format(many_to_many(sample_many)))\n",
        "print(\"Many to one output: \\n{}\".format(many_to_one(sample_many)))\n",
        "print(\"Sample of 1: \\n{}\".format(sample_one))\n",
        "print(\"One to one output: \\n{}\".format(one_to_one(sample_one)))"
      ]
    },
    {
      "cell_type": "markdown",
      "metadata": {},
      "source": [
        "The number passed into the `SimpleRNN` is the number of loops performed.\n",
        "In the case described above, we want to take samples at times $t_1$ and $t_2$ and output the value of the function at time $t_3$.\n",
        "This is a \"many-to-one\" case.\n",
        "\n",
        "In order to train the network to perform well in this case, we need to arrange our data in pairs of\n",
        "\n",
        "$$ \\Large\n",
        "\\begin{bmatrix}\n",
        "\\sin(t_i) & \\cos(t_{i}) \\\\\n",
        "\\sin(t_{i+1}) & \\cos(t_{i+1})\n",
        "\\end{bmatrix}\n",
        "$$\n",
        "\n",
        "aligned with outputs $\\sin(t_{i+2})\\cos(t_{i+2})$:"
      ]
    },
    {
      "cell_type": "code",
      "execution_count": null,
      "metadata": {},
      "outputs": [],
      "source": [
        "# Arrange our data samples\n",
        "input_samples = []\n",
        "output_samples = []\n",
        "for i in range(98):\n",
        "  # Take two samples at time t_i and t_{i+1}\n",
        "  input_samples.append(samples[i:i+2])\n",
        "  # Get function output at time t_{i+2}\n",
        "  output_samples.append(output_values[i+2])\n",
        "\n",
        "input_samples = np.array(input_samples)\n",
        "output_samples = np.array(output_samples)"
      ]
    },
    {
      "cell_type": "markdown",
      "metadata": {},
      "source": [
        "We can now compile the many to one model and train it on this test data."
      ]
    },
    {
      "cell_type": "code",
      "execution_count": null,
      "metadata": {},
      "outputs": [],
      "source": [
        "# Train model\n",
        "many_to_one.compile(\n",
        "    optimizer = keras.optimizers.Adam(),\n",
        "    loss = keras.losses.MeanSquaredError()\n",
        ")\n",
        "history = many_to_one.fit(\n",
        "    input_samples,\n",
        "    output_samples,\n",
        "    batch_size=10,         # The training takes groups of samples (in this case 10 samples at a time)\n",
        "    epochs=500,            # The number of times to iterate through our dataset\n",
        "    validation_split = 0.2,# Use 20% of data to check accuracy\n",
        "    verbose=0,             # Don't print info as it trains\n",
        "    callbacks=[TqdmCallback(verbose=0)]\n",
        ")\n",
        "\n",
        "# Plot prediction and the true values\n",
        "plt.close('all')\n",
        "plt.figure(figsize=(8,6))\n",
        "plt.plot(t_values, output_values, label=\"$\\sin(t)\\cos(t)$\")\n",
        "plt.plot(t_values[2:], many_to_one(input_samples), label=\"many_to_one(t)\")\n",
        "plt.legend()\n",
        "plt.xlabel(\"t\")\n",
        "plt.show()"
      ]
    },
    {
      "cell_type": "markdown",
      "metadata": {
        "id": "wse-rkOqbZxX"
      },
      "source": [
        "## <span style=\"color:Orange\">Convolutional Networks</span>"
      ]
    },
    {
      "cell_type": "markdown",
      "metadata": {
        "id": "_I3_D-nwbZxf"
      },
      "source": [
        "A _<span style=\"color:Violet\">Convolutional Neural Network</span>_ (CNN) is a special architecture that:\n",
        " - Assumes that input features measure some property on a grid. The grid is usually spatial or temporal, but this is not required. For example, a 1D spectrum or time series, a 2D monochrome image, or a 3D stack of 2D images in different filters (RGB, etc).\n",
        "\n",
        " - Performs translation-invariant learning efficiently. For example, identifying a galaxy wherever it appears in an image, or a transient pulse wherever it appears in a time series. The main efficiency is a much reduced number of parameters compared to the number of input features, relative to the dense fully connected networks we have seen so far.\n",
        "\n",
        "As we saw in the previous lecture, Neural Networks receive an input (a single vector), and transform it through a series of hidden layers. Each hidden layer is made up of a set of neurons, where each neuron is fully connected to all neurons in the previous layer, and where neurons in a single layer function completely independently and do not share any connections. The last fully-connected layer is called the “output layer” and in classification settings it represents the class scores.\n",
        "\n",
        "The fully-connected, feed-forward neural networks we have studied thus far do not scale well to large image data. For example, a modest 200 $\\times$ 200 $\\times$ 3 (x-pixels, y-pixels, 3 colors) image would lead to neurons that have 200 $\\times$ 200 $\\times$ 3 = 120,000 weights. Moreover, we would almost certainly want to have several such neurons, so the parameters would add up quickly! Clearly, this full connectivity is wasteful and the huge number of parameters would quickly lead to overfitting.\n",
        "\n",
        "Convolutional Neural Networks take advantage of the fact that the input consists of images and they constrain the architecture in a more sensible way to reduce the number of parameters. In particular, unlike a regular Neural Network, the layers of a CNN have neurons arranged in 3 dimensions: width, height, depth. \n",
        "\n",
        "(Note that the word \"depth\" here refers to the third dimension of an activation volume, not to the depth of a full Neural Network, which can refer to the total number of layers in a network...) \n",
        "\n",
        "The neurons in a CNN layer will only be connected to a small region of the layer before it, instead of all of the neurons in a fully-connected manner.\n",
        "\n",
        "A CNN is made up of layers of different types (convolutions, pooling, fully-connected), in general. Every layer has a simple API: It transforms an input 3D volume to an output 3D volume with some differentiable function that may or may not have parameters."
      ]
    },
    {
      "cell_type": "markdown",
      "metadata": {
        "id": "sODlPGCebZxg"
      },
      "source": [
        "We will use the following problem to motivate and demonstration a CNN:\n",
        "\n",
        " - The input data consists of triplets of digitized waveforms.\n",
        "\n",
        " - Each waveform has a slowly varying level with some narrow pulses superimposed.\n",
        "\n",
        " - Each triplet has a single pulse that is synchronized (coincident) in all three waveforms.\n",
        "\n",
        " - Waveforms also contain a random number of unsynchronized \"background\" pulses.\n",
        "\n",
        " - Synchronized and unsynchronized pulses can overlap in time and between traces.\n",
        "\n",
        "The goal is to identify the location of the synchronized pulses in each triplet. This is a simplified version of a common task in data acquisition trigger systems and transient analysis pipelines."
      ]
    },
    {
      "cell_type": "code",
      "execution_count": null,
      "metadata": {
        "id": "Pp5-HfnxbZxg"
      },
      "outputs": [],
      "source": [
        "def generate(N=10000, ntrace=3, nt=100, nbg=1., A=5., nsmooth=3, T=1., seed=123):\n",
        "    gen = np.random.RandomState(seed=seed)\n",
        "    t_grid = np.linspace(0., T, nt)\n",
        "    # Generate the smooth background shapes as superpositions of random cosines.\n",
        "    wlen = 2 * T * gen.lognormal(mean=0., sigma=0.2, size=(nsmooth, N, ntrace, 1))\n",
        "    phase = gen.uniform(size=wlen.shape)\n",
        "    X = np.cos(2 * np.pi * (t_grid + phase * wlen) / wlen).sum(axis=0)\n",
        "    # Superimpose short pulses.\n",
        "    sigma = 0.02 * T\n",
        "    tsig = T * gen.uniform(0.05, 0.95, size=N)\n",
        "    y = np.empty(N, dtype=int)\n",
        "    nbg = gen.poisson(lam=nbg, size=(N, ntrace))\n",
        "    for i in range(N):\n",
        "        # Add a coincident pulse to all traces.\n",
        "        xsig = A * np.exp(-0.5 * (t_grid - tsig[i]) ** 2 / sigma ** 2)\n",
        "        y[i] = np.argmax(xsig)\n",
        "        X[i] += xsig\n",
        "        # Add non-coincident background pulses to each trace.\n",
        "        for j in range(ntrace):\n",
        "            if nbg[i, j] > 0:\n",
        "                t0 = T * gen.uniform(size=(nbg[i, j], 1))\n",
        "                X[i, j] += (A * np.exp(-0.5 * (t_grid - t0) ** 2 / sigma ** 2)).sum(axis=0)\n",
        "    return X.astype(np.float32), y\n",
        "\n",
        "X, y = generate()"
      ]
    },
    {
      "cell_type": "code",
      "execution_count": null,
      "metadata": {
        "colab": {
          "base_uri": "https://localhost:8080/",
          "height": 771
        },
        "id": "kpUkpdFnbZxg",
        "outputId": "74f79bce-05d9-4c0d-a8bd-b0f6f704aac5"
      },
      "outputs": [],
      "source": [
        "def plot_traces(X, y):\n",
        "    Nsample, Ntrace, D = X.shape\n",
        "    _, ax = plt.subplots(Nsample, 1, figsize=(9, 1.5 * Nsample))\n",
        "    t = np.linspace(0., 1., 100)\n",
        "    dt = t[1] - t[0]\n",
        "    for i in range(Nsample):\n",
        "        for j in range(Ntrace):\n",
        "            ax[i].plot(t, X[i, j], lw=1)\n",
        "        ax[i].axvline(t[y[i]], c='k', ls=':')\n",
        "        ax[i].set_yticks([])\n",
        "        ax[i].set_xticks([])\n",
        "        ax[i].set_xlim(-0.5 * dt, 1 + 0.5 * dt)\n",
        "    plt.subplots_adjust(left=0.01, right=0.99, bottom=0.01, top=0.99, hspace=0.1)\n",
        "\n",
        "plot_traces(X[:5], y[:5])"
      ]
    },
    {
      "cell_type": "markdown",
      "metadata": {
        "id": "1NZRn3WtbZxg"
      },
      "source": [
        "The derivative of $f(x)$ can be approximated as\n",
        "\n",
        "$$ \\Large\n",
        "f'(x) \\simeq \\frac{f(x + \\delta) - f(x - \\delta)}{2\\delta}\n",
        "$$\n",
        "\n",
        "for small $\\delta$. We can use this approximation to convert an array of $f(n \\Delta x)$ values into an array of estimated $f'(n \\Delta x)$ values using:\n",
        "```\n",
        "K = np.array([-1, 0, +1]) / ( 2 * dx)\n",
        "fp[0] = K.dot(f[[0,1,2]])\n",
        "fp[1] = K.dot(f[[1,2,3]])\n",
        "...\n",
        "fp[N-2] = K.dot(f[[N-3,N-2,N-1]]\n",
        "```\n",
        "The numpy [convolve function](https://docs.scipy.org/doc/numpy-1.14.0/reference/generated/numpy.convolve.html) automates this process of sliding an arbitrary <span style=\"color:Violet\">kernel</span> $K$ along an input array like this. The result only estimates a first (or higher-order) derivative when the kernel contains [special values](https://en.wikipedia.org/wiki/Finite_difference_coefficient) (and you should normally use the numpy [gradient function](https://docs.scipy.org/doc/numpy-1.14.0/reference/generated/numpy.gradient.html) for this), but any convolution is a valid and potentially useful transformation.\n",
        "\n",
        "A clarifying word about terminology: In the context of convolutional networks, <span style=\"color:Violet\">kernel</span> is a simple group of weights shared all over the input space that is engineered to determine what specific features are to be detected. The kernel is also sometimes referred to as a \"feature map\" or \"filter\" in this context.\n",
        "\n",
        "See for example the application of a kernel in convolution over a simple black-and-white image:\n",
        "[here](https://i.stack.imgur.com/9Iu89.gif).\n",
        "\n",
        "\n",
        "The kernel needs to completely overlap the input array it is being convolved with, which means that the output array is smaller and offset. Alternatively, you can pad the input array with zeros to extend the output array. There are three different conventions for handling these edge effects via the `mode` parameter to `np.convolve`:\n",
        " - **valid**: no zero padding, so output length is $N - K + 1$ and offset is $(K-1)/2$.\n",
        "\n",
        " - **same**: apply zero padding and trim so output length equals input length $N$, and offset is zero.\n",
        "\n",
        " - **full**: apply zero padding without trimming, so output length is $N + K - 1$ and offset is $-(K-1)/2$.\n",
        "\n",
        "(Here $N$ and $K$ are the input and kernel lengths, respectively).\n",
        "\n",
        "We can use a convolution to identify features in our input data:"
      ]
    },
    {
      "cell_type": "code",
      "execution_count": null,
      "metadata": {
        "id": "yxqkGpVQbZxg"
      },
      "outputs": [],
      "source": [
        "def plot_convolved(x, kernel, smax=50):\n",
        "    t = np.arange(len(x))\n",
        "    plt.plot(t, x, lw=1, c='gray')\n",
        "    z = np.convolve(x, kernel, mode='same')\n",
        "    for sel, c in zip(((z > 0), (z < 0)), 'rb'):\n",
        "        plt.scatter(t[sel], x[sel], c=c, s=smax * np.abs(z[sel]), lw=0)\n",
        "    plt.gca()\n",
        "    plt.grid(False)"
      ]
    },
    {
      "cell_type": "markdown",
      "metadata": {
        "id": "-cyYvvxWbZxg"
      },
      "source": [
        "First, let's pick out regions of large positive (red) or negative slope (notice how the edge padding causes some artifacts):"
      ]
    },
    {
      "cell_type": "code",
      "execution_count": null,
      "metadata": {
        "colab": {
          "base_uri": "https://localhost:8080/",
          "height": 434
        },
        "id": "lhyV5i-vbZxg",
        "outputId": "75483b2d-f30d-4dda-ae90-e92cc72146b7"
      },
      "outputs": [],
      "source": [
        "plot_convolved(X[1, 1], [0.5,0,-0.5])"
      ]
    },
    {
      "cell_type": "markdown",
      "metadata": {
        "id": "6rE9zEc0bZxg"
      },
      "source": [
        "We can also pick out regions of large curvature (using the finite-difference coefficients for a second derivative):"
      ]
    },
    {
      "cell_type": "code",
      "execution_count": null,
      "metadata": {
        "colab": {
          "base_uri": "https://localhost:8080/",
          "height": 434
        },
        "id": "JWB0G0z9bZxg",
        "outputId": "3158d607-f7f2-485b-d460-341dbbe5b146"
      },
      "outputs": [],
      "source": [
        "plot_convolved(X[1, 1], [1.,-2.,1.])"
      ]
    },
    {
      "cell_type": "markdown",
      "metadata": {
        "id": "GzABiL7SbZxg"
      },
      "source": [
        "We can apply both of these convolutions to transform our input data to a new representation that highlights regions of large first or second derivative. Use a `tanh` activation to accentuate the effect:"
      ]
    },
    {
      "cell_type": "code",
      "execution_count": null,
      "metadata": {
        "id": "G1ModXuAbZxg"
      },
      "outputs": [],
      "source": [
        "def apply_convolutions(X, *kernels):\n",
        "    N1, N2, D = X.shape\n",
        "    out = []\n",
        "    for i in range(N1):\n",
        "        sample = []\n",
        "        for j in range(N2):\n",
        "            for K in kernels:\n",
        "                sample.append(np.tanh(np.convolve(X[i, j], K, mode='valid')))\n",
        "        out.append(sample)\n",
        "    return np.asarray(out)"
      ]
    },
    {
      "cell_type": "code",
      "execution_count": null,
      "metadata": {
        "id": "hOdCr2LNbZxg"
      },
      "outputs": [],
      "source": [
        "out = apply_convolutions(X, [0.5,0,-0.5], [1.,-2.,1.])"
      ]
    },
    {
      "cell_type": "markdown",
      "metadata": {
        "id": "SfICVs0AbZxg"
      },
      "source": [
        "The resulting array can be viewed as a synthetic image and offers an easy way to visually identify individual narrow peaks and their correlations between traces:"
      ]
    },
    {
      "cell_type": "code",
      "execution_count": null,
      "metadata": {
        "colab": {
          "base_uri": "https://localhost:8080/",
          "height": 526
        },
        "id": "i70i1DQLbZxg",
        "outputId": "36624edd-5528-47c6-c772-6e8e2166de9c"
      },
      "outputs": [],
      "source": [
        "def plot_synthetic(Z):\n",
        "    _, ax = plt.subplots(len(Z), 1, figsize=(9, len(Z)))\n",
        "    for i, z in enumerate(Z):\n",
        "        ax[i].imshow(z, aspect='auto', origin='upper', interpolation='none',\n",
        "                   cmap='coolwarm', vmin=-1, vmax=+1);\n",
        "        ax[i].grid(False)\n",
        "        ax[i].axis('off')\n",
        "    plt.subplots_adjust(left=0.01, right=0.99, bottom=0.01, top=0.99, hspace=0.1)\n",
        "\n",
        "plot_synthetic(out[:5])"
      ]
    },
    {
      "cell_type": "markdown",
      "metadata": {
        "id": "ZOHasz3UbZxg"
      },
      "source": [
        "The patterns that identify individual and coincident peaks are all translation invariant so can be identified in this array using a new convolution, but now in the 2D space of these synthetic images.\n",
        "\n",
        "Since matrix convolution is a linear operation, it is a special case of our general neural network unit,\n",
        "\n",
        "$$ \\Large\n",
        "\\mathbf{f}(\\mathbf{x}) = W\\mathbf{x} + \\mathbf{b} \\; ,\n",
        "$$\n",
        "\n",
        "but with the matrix $W$ now having many repeated elements so its effective number of dimensions is greatly reduced in typical applications.\n",
        "\n",
        "A <span style=\"color:Violet\">convolutional layer</span> takes an arbitrary input array and applies a number of filters with the same shape in parallel. By default, the filter kernels march with single-element steps through the input array, but you can also specify larger <span style=\"color:Violet\">stride vector</span>.\n",
        "\n",
        "In the general case, the input array, kernels and stride vector are all multidimensional, but with the same dimension. Tensorflow provides convenience functions for 1D, 2D and 3D convolutional layers, for example:\n",
        "```\n",
        "hidden = tf.layers.Conv2D(\n",
        "    filters=3, kernel_size=[4, 5], strides=[2, 1],\n",
        "    padding='same', activation=tf.nn.relu)\n",
        "```\n",
        "Note that `padding` specifies how edges effects are handled, but only `same` and `valid` are supported (and `valid` is the default). You can also implement higher-dimensional convolutional layers using the lower-level APIs.\n",
        "\n",
        "A _<span style=\"color:Violet\">convolutional neural network</span>_ (CNN) is a network containing convolutional layers. A typical architecture starts with convolutional layers, processing the input, then finishes with some fully connected dense layers to calculate the output. Since one of the goals of a CNN is reduce the number of parameters, a CNN often also incorporates [pooling layers](https://en.wikipedia.org/wiki/Convolutional_neural_network#Pooling_layer) to reduce the size of the array fed to to later layers by \"downsampling\" (typically using a maximum or mean value). See [these Stanford CS231n notes](http://cs231n.github.io/convolutional-networks/) for more details in the context of image classification."
      ]
    },
    {
      "cell_type": "code",
      "execution_count": null,
      "metadata": {
        "id": "qQek69A0bZxh"
      },
      "outputs": [],
      "source": [
        "def pulse_model(features, labels, mode, params):\n",
        "    \"\"\"Build a graph to TRAIN/TEST/PREDICT a pulse coincidence detection model.\n",
        "    \"\"\"\n",
        "    D = params['time_steps']\n",
        "    M = params['number_of_traces']\n",
        "    n1 = params['conv1_width']\n",
        "    n2 = params['conv2_width']\n",
        "    eta = params['learning_rate']\n",
        "    assert n1 % 2 == 1 and n2 % 2 == 1\n",
        "\n",
        "    # Build the input layer.\n",
        "    inputs = tf.reshape(features['X'], [-1, M, D, 1])\n",
        "    # Add the first convolutional layer.\n",
        "    conv1 = tf.layers.conv2d(\n",
        "        inputs=inputs, filters=2, kernel_size=[1, n1],\n",
        "        padding='same', activation=tf.tanh, name='conv1')\n",
        "    # Add the second convolutional (and output) layer.\n",
        "    logits = tf.layers.conv2d(\n",
        "        inputs=conv1, filters=1, kernel_size=[M, n2],\n",
        "        padding='valid', activation=None, name='conv2')\n",
        "    # Flatten the outputs.\n",
        "    logits = tf.reshape(logits, [-1, D - n2 + 1])\n",
        "\n",
        "    # Calculate the offset between input labels and the output-layer node index\n",
        "    # that is introduced by using padding='valid' for the output layer below.\n",
        "    offset = (n2 - 1) // 2\n",
        "\n",
        "    # Calculate the network's predicted best label.\n",
        "    predicted_labels = tf.argmax(logits, axis=1) + offset\n",
        "\n",
        "    # Calculate the network's predicted probability of each label.\n",
        "    probs = tf.nn.softmax(logits)\n",
        "\n",
        "    # Calculate the network's predicted mean label.\n",
        "    bins = tf.range(0., D - n2 + 1., dtype=np.float32) + offset\n",
        "    mean_labels = tf.reduce_sum(bins * probs, axis=-1)\n",
        "\n",
        "    # Return predicted labels and probabilities in PREDICT mode.\n",
        "    if mode == tf.estimator.ModeKeys.PREDICT:\n",
        "        return tf.estimator.EstimatorSpec(mode, predictions={\n",
        "            'label': predicted_labels,\n",
        "            'probs': tf.nn.softmax(logits)\n",
        "        })\n",
        "\n",
        "    # Calculate the loss for TRAIN and EVAL modes. We need to offset the labels\n",
        "    # used here so they correspond to output-layer node indices.\n",
        "    loss = tf.losses.sparse_softmax_cross_entropy(labels=labels - offset, logits=logits)\n",
        "\n",
        "    # Compute evaluation metrics.\n",
        "    if mode == tf.estimator.ModeKeys.EVAL:\n",
        "        accuracy = tf.metrics.accuracy(labels=labels, predictions=predicted_labels)\n",
        "        rmse = tf.metrics.root_mean_squared_error(\n",
        "            labels=tf.cast(labels, np.float32), predictions=mean_labels)\n",
        "        return tf.estimator.EstimatorSpec(\n",
        "            mode, loss=loss, eval_metric_ops={'accuracy': accuracy, 'rmse': rmse})\n",
        "\n",
        "    # Create optimizer.\n",
        "    assert mode == tf.estimator.ModeKeys.TRAIN\n",
        "    optimizer = tf.train.AdamOptimizer(learning_rate=eta)\n",
        "    step = optimizer.minimize(loss, global_step=tf.train.get_global_step())\n",
        "    return tf.estimator.EstimatorSpec(mode, loss=loss, train_op=step)"
      ]
    },
    {
      "cell_type": "code",
      "execution_count": null,
      "metadata": {
        "id": "4xSOIC7tbZxh"
      },
      "outputs": [],
      "source": [
        "import tensorflow.compat.v1 as tf\n",
        "tf.disable_v2_behavior()\n",
        "print(tf.__version__)\n",
        "\n",
        "tf.logging.set_verbosity(tf.logging.WARN)"
      ]
    },
    {
      "cell_type": "code",
      "execution_count": null,
      "metadata": {
        "id": "eEAOdm9sbZxh"
      },
      "outputs": [],
      "source": [
        "!rm -rf tfs/pulses"
      ]
    },
    {
      "cell_type": "code",
      "execution_count": null,
      "metadata": {
        "id": "JWfjhMZKbZxh"
      },
      "outputs": [],
      "source": [
        "config = tf.estimator.RunConfig(\n",
        "    model_dir='tfs/pulses',\n",
        "    tf_random_seed=123\n",
        ")"
      ]
    },
    {
      "cell_type": "code",
      "execution_count": null,
      "metadata": {
        "id": "vCRoOtlGbZxh"
      },
      "outputs": [],
      "source": [
        "pulse = tf.estimator.Estimator(\n",
        "    config=config,\n",
        "    model_fn=pulse_model,\n",
        "    params = dict(\n",
        "        time_steps=100,\n",
        "        number_of_traces=3,\n",
        "        conv1_width=3,\n",
        "        conv2_width=7,\n",
        "        learning_rate=0.01))"
      ]
    },
    {
      "cell_type": "code",
      "execution_count": null,
      "metadata": {
        "id": "SOwQ8zvYbZxh"
      },
      "outputs": [],
      "source": [
        "X_train, X_test, y_train, y_test = model_selection.train_test_split(\n",
        "    X, y, test_size=0.4, random_state=123)"
      ]
    },
    {
      "cell_type": "code",
      "execution_count": null,
      "metadata": {
        "colab": {
          "base_uri": "https://localhost:8080/"
        },
        "id": "qom0tYGObZxh",
        "outputId": "71c77c78-872d-42ac-9f3d-8f86c5e06f4a"
      },
      "outputs": [],
      "source": [
        "pulse.train(\n",
        "    input_fn=tf.estimator.inputs.numpy_input_fn(\n",
        "        x={'X': X_train}, y=y_train,\n",
        "        batch_size=500, num_epochs=None, shuffle=True),\n",
        "    steps=500);"
      ]
    },
    {
      "cell_type": "markdown",
      "metadata": {
        "id": "dipdNbXGbZxh"
      },
      "source": [
        "Evaluate how well the trained network performs on the test data:"
      ]
    },
    {
      "cell_type": "code",
      "execution_count": null,
      "metadata": {
        "id": "avTi4DmrbZxh"
      },
      "outputs": [],
      "source": [
        "results = pulse.evaluate(\n",
        "    input_fn=tf.estimator.inputs.numpy_input_fn(\n",
        "        x={'X': X_test}, y=y_test,\n",
        "        num_epochs=1, shuffle=False))"
      ]
    },
    {
      "cell_type": "markdown",
      "metadata": {
        "id": "5ooj4PixbZxh"
      },
      "source": [
        "We find that about 95% of test samples are classified \"correctly\", defined as the network predicting the bin containing the the coincidence maximum exactly.  However, The RMS error between the predicted and true bins is only 0.4 bins, indicating that the network usually predicts a neighboring bin in the 5% of \"incorrect\" test cases."
      ]
    },
    {
      "cell_type": "code",
      "execution_count": null,
      "metadata": {
        "colab": {
          "base_uri": "https://localhost:8080/"
        },
        "id": "VRObvcK6bZxh",
        "outputId": "f1d87762-c1d0-4ac3-ffd9-e32e342e1300"
      },
      "outputs": [],
      "source": [
        "results"
      ]
    },
    {
      "cell_type": "markdown",
      "metadata": {
        "id": "j7c9bEKjbZxh"
      },
      "source": [
        "Finally, compare the predicted (gray histogram) and true (dotted line) coincidence locations for a few test samples:"
      ]
    },
    {
      "cell_type": "code",
      "execution_count": null,
      "metadata": {
        "colab": {
          "base_uri": "https://localhost:8080/",
          "height": 845
        },
        "id": "9C39bAeJbZxh",
        "outputId": "e6d83335-4d00-480e-ebbe-e7a42fb5c9c5"
      },
      "outputs": [],
      "source": [
        "def plot_predictions(X, y):\n",
        "    # Calculate predicted labels and PDFs over labels.\n",
        "    predictions = pulse.predict(\n",
        "        input_fn=tf.estimator.inputs.numpy_input_fn(\n",
        "            x={'X': X}, y=None, num_epochs=1, shuffle=False))\n",
        "    Nsample, Ntrace, D = X.shape\n",
        "    t = np.linspace(0., 1., 100)\n",
        "    dt = t[1] - t[0]\n",
        "    bins = np.linspace(-0.5 * dt, 1 + 0.5 * dt, len(t) + 1)\n",
        "    probs = np.zeros(D)\n",
        "    # Plot input data, truth, and predictions.\n",
        "    _, ax = plt.subplots(Nsample, 1, figsize=(9, 1.5 * Nsample))\n",
        "    for i, pred in enumerate(predictions):\n",
        "        label = pred['label']\n",
        "        # Plot the input traces.\n",
        "        for x in X[i]:\n",
        "            ax[i].plot(t, x, lw=1)\n",
        "        # Indicate the true coincidence position.\n",
        "        ax[i].axvline(t[y[i]], c='k', ls=':')\n",
        "        # Indicate the predicted probability distribution.\n",
        "        n2 = D - len(pred['probs']) + 1\n",
        "        offset = (n2 - 1) // 2\n",
        "        probs[offset:-offset] = pred['probs']\n",
        "        rhs = ax[i].twinx()\n",
        "        rhs.hist(t, weights=probs, bins=bins, histtype='stepfilled', alpha=0.25, color='k')\n",
        "        rhs.set_ylim(0., 1.)\n",
        "        rhs.set_xlim(bins[0], bins[-1])\n",
        "        rhs.set_yticks([])\n",
        "        ax[i].set_xticks([])\n",
        "        ax[i].set_yticks([])\n",
        "        ax[i].grid(False)\n",
        "        ax[i].set_xlim(bins[0], bins[-1])\n",
        "    plt.subplots_adjust(left=0.01, right=0.99, bottom=0.01, top=0.99, hspace=0.1)\n",
        "\n",
        "plot_predictions(X_test[:5], y_test[:5])"
      ]
    },
    {
      "cell_type": "markdown",
      "metadata": {
        "id": "pcqBM8Q2bZxi"
      },
      "source": [
        "Note that our loss function does not know that consecutive labels are close and being off by one is almost as good as getting the right label. We could change this by treating this as a regression problem, but a nice feature of our multi-category approach is that we can predict a a full probability density over labels (the gray histograms above) which is often useful."
      ]
    },
    {
      "cell_type": "markdown",
      "metadata": {},
      "source": [
        "## <span style=\"color:Orange\">Acknowledgments</span>\n",
        "\n",
        "* Initial version: Mark Neubauer\n",
        "\n",
        "© Copyright 2024"
      ]
    }
  ],
  "metadata": {
    "colab": {
      "provenance": []
    },
    "kernelspec": {
      "display_name": "Python 3 (ipykernel)",
      "language": "python",
      "name": "python3"
    },
    "language_info": {
      "codemirror_mode": {
        "name": "ipython",
        "version": 3
      },
      "file_extension": ".py",
      "mimetype": "text/x-python",
      "name": "python",
      "nbconvert_exporter": "python",
      "pygments_lexer": "ipython3",
      "version": "3.11.2"
    }
  },
  "nbformat": 4,
  "nbformat_minor": 0
}
