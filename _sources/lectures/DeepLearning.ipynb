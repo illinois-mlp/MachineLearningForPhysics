{
 "cells": [
  {
   "cell_type": "markdown",
   "metadata": {},
   "source": [
    "# Deep Learning"
   ]
  },
  {
   "cell_type": "markdown",
   "metadata": {},
   "source": [
    "## <span style=\"color:Orange\">Deep Learning Outlook</span>"
   ]
  },
  {
   "cell_type": "markdown",
   "metadata": {},
   "source": [
    "The depth of \"deep learning\" comes primarily from network architectures that stack many layers. In another sense, deep learning is very shallow since it often performs well using little to no specific knowledge about the problem it is solving, using generic building blocks.\n",
    "\n",
    "The field of modern deep learning [started around 2012](https://papers.nips.cc/paper/4824-imagenet-classification-with-deep-convolutional-neural-networks.pdf) when the architectures described above were first used successfully, and the necessary large-scale computing and datasets were available. Massive neural networks are now the state of the art for many benchmark problems, including image classification, speech recognition and language translation.\n",
    "\n",
    "However, less than a decade into the field, there are signs that deep learning is reaching its limits. Some of the pioneers and others are taking a [critical look](https://arxiv.org/abs/1801.00631) at the current state of the field:\n",
    " - Deep learning does not use data efficiently.\n",
    "\n",
    " - Deep learning does not integrate prior knowledge.\n",
    "\n",
    " - Deep learning often give correct answers but without associated uncertainties.\n",
    "\n",
    " - Deep learning applications are hard to interpret and transfer to related problems.\n",
    "\n",
    " - Deep learning is excellent at learning stable input-output mappings but does not cope well with varying conditions.\n",
    "\n",
    " - Deep learning cannot distinguish between correlation and causation.\n",
    "\n",
    "These are mostly concerns for the future of neural networks as a <span style=\"color:Violet\">general model for artificial intelligence</span>, but they also limit the potential of scientific applications.\n",
    "\n",
    "However, there are many challenges in scientific data analysis and interpretation that could benefit from deep learning approaches, so I encourage you to follow the field and experiment. Through this course, you now have a pretty solid foundation in data science and machine learning to further your studies toward more advanced and current topics!"
   ]
  },
  {
   "cell_type": "markdown",
   "metadata": {},
   "source": [
    "## <span style=\"color:Orange\">Acknowledgments</span>\n",
    "\n",
    "* Initial version: Mark Neubauer\n",
    "\n",
    "© Copyright 2025"
   ]
  }
 ],
 "metadata": {
  "kernelspec": {
   "display_name": "Python 3",
   "language": "python",
   "name": "python3"
  },
  "language_info": {
   "codemirror_mode": {
    "name": "ipython",
    "version": 3
   },
   "file_extension": ".py",
   "mimetype": "text/x-python",
   "name": "python",
   "nbconvert_exporter": "python",
   "pygments_lexer": "ipython3",
   "version": "3.11.2"
  }
 },
 "nbformat": 4,
 "nbformat_minor": 2
}
