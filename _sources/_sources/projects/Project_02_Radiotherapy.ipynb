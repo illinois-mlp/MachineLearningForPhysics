{
 "cells": [
  {
   "cell_type": "markdown",
   "metadata": {},
   "source": [
    "# Beam Angle Optimization for Radiative Cancer Therapy"
   ]
  },
  {
   "cell_type": "markdown",
   "metadata": {},
   "source": [
    "<div>\n",
    "<img src=\"..\\img\\Radiotherapy-overview.jpg\" width=600>\n",
    "</div>"
   ]
  },
  {
   "cell_type": "markdown",
   "metadata": {},
   "source": [
    "## <span style=\"color:Orange\">Overview</span>"
   ]
  },
  {
   "cell_type": "markdown",
   "metadata": {},
   "source": [
    "In November 1895, Wilhelm Röntgen accidentally discovered X-rays while fiddling with cathode ray tubes. He proceeded to pass these rays through his wife's hand to create the world's first X-ray image. This was a pivotal time for the field of medical physics (and their marriage): a means to harness physics phenomena to better the human condition.\n",
    "\n",
    "Today, radiation therapy involves firing intense beams of ionizing radiation to obliterate cancer cell DNA and halt the malicious growth of tumors. A patient is often laid before a gantry, essentially a LINAC accelerator, that ejects X-rays (or protons, when further precision is required). A rigorous treatment plan requires consideration of:  \n",
    " - The 'dose' of radiation that a patient can handle (determined by understanding the physical interactions of radiation with tissue)\n",
    "\n",
    " - Beam-Angle Optimization (BAO): annihilating cancerous tissue while preserving healthy cells. BAO involves finding the ideal set of beam paths to accomplish precisely this goal. The machine learning methods we've studied thus far have been instrumental in better resolving this combinatorial problem\n",
    "\n",
    "\n",
    "We will be extracting patient head-neck CT scan + mask data (our 'input') from the medical physics OpenKBP challenge. This is real clinical data, and you could make significant contributions to healthcare and cancer treatment by going above & beyond what you learn here!"
   ]
  },
  {
   "cell_type": "markdown",
   "metadata": {},
   "source": [
    "## <span style=\"color:Orange\">Data Sources</span>"
   ]
  },
  {
   "cell_type": "markdown",
   "metadata": {},
   "source": [
    "Original Source\n",
    "* https://github.com/ababier/open-kbp"
   ]
  },
  {
   "cell_type": "markdown",
   "metadata": {},
   "source": [
    "Link to data\n",
    "* https://github.com/ababier/open-kbp"
   ]
  },
  {
   "cell_type": "markdown",
   "metadata": {},
   "source": [
    "## <span style=\"color:Orange\">Questions</span>"
   ]
  },
  {
   "cell_type": "markdown",
   "metadata": {},
   "source": [
    "### <span style=\"color:LightGreen\">Question 01: Absorption & Scattering</span>"
   ]
  },
  {
   "cell_type": "markdown",
   "metadata": {},
   "source": [
    "X-rays attenuate exponentially upon entering the body by the Beer-Lambert Law. \n",
    "\n",
    "$$\n",
    "I(x) = I_0 e^{-\\mu x}\n",
    "$$\n",
    "\n",
    "$$\n",
    "\\begin{aligned}\n",
    "x   & : \\text{Depth in the body} \\\\\n",
    "I(x) & : \\text{Intensity at depth } x \\\\\n",
    "I_0 & : \\text{Initial intensity (at the skin)} \\\\\n",
    "\\mu & : \\text{Linear attenuation coefficient (depends on whether we traverse bone, soft tissue or organs) } \n",
    "\\end{aligned}\n",
    "$$\n",
    "\n",
    "What physical phenomena govern this loss of intensity (state at least 3 specific processes)? Which one dominates radiotherapy (6-15 MV energies)? It's easy to conclude that the highest dose of radiation is delivered at the skin, why is this untrue?"
   ]
  },
  {
   "cell_type": "markdown",
   "metadata": {},
   "source": [
    "### <span style=\"color:LightGreen\">Question 02: Dosimetry</span>"
   ]
  },
  {
   "cell_type": "markdown",
   "metadata": {},
   "source": [
    "We quantify the impact of radiation on tissue (be it healthy or cancerous) via a metric known as [Dose](https://openmedscience.com/dosimetry-calculating-radiation-dose-for-medical-applications/). It is the ratio between the energy absorbed and the mass of the tissue absorbing it: measured in Gray (Gy).\n",
    "\n",
    "$$\n",
    "\\text{Dose} = \\frac{dE}{dm}\n",
    "\\quad \\text{where} \\quad\n",
    "dE = \\text{energy deposited (Joules)}, \\quad\n",
    "dm = \\text{mass of tissue (kilograms)}\n",
    "$$\n",
    "\n",
    "\n",
    "\n",
    "What are the implications of too little or too much Dose? Does the type of body tissue matter? Putting it all together, what are the factors which determine the ideal beam angles a gantry should use? For instance, what are the risks to patient health? Why do these considerations make Beam Angle Optimization (BAO) an NP-hard problem? "
   ]
  },
  {
   "cell_type": "markdown",
   "metadata": {},
   "source": [
    "### <span style=\"color:LightGreen\">Question 03: Proton Therapy</span>"
   ]
  },
  {
   "cell_type": "markdown",
   "metadata": {},
   "source": [
    "If we used proton therapy instead of X-rays, how would our considerations evolve?"
   ]
  },
  {
   "cell_type": "markdown",
   "metadata": {},
   "source": [
    "### <span style=\"color:LightGreen\">Question 04: Preparing Tensors</span>"
   ]
  },
  {
   "cell_type": "markdown",
   "metadata": {},
   "source": [
    "Run the cell below and unzip the contents of `openkbp_patient_data` into a folder. It should be present in Colab's (`/content/..`) or local directory. Note that you will need to adjust `base_path` to lead to this folder.\n",
    "\n",
    "Each patient hosts the following three files:  \n",
    "`ct.csv` - 3D grayscale CT scan of patient anatomy composed of 2D slices. Each voxel represents how much X-ray is absorbed by the tissue in Hounsfield Units (HU)  \n",
    "`PTV63.csv` - Planning Target Volume (PTV) is a binary mask that maps the location of the tumor (tumor is 1, everything else is 0)  \n",
    "`SpinalCord.csv` - This is a similar binary mask of our Organ at Risk (OAR), representing what we would like our beam to avoid.  \n",
    "\n",
    "These are currently flattened 1D rows. The cell below converts the csv files into 3D volumes [64, 128, 128] where each point represents an intensity (for the ct scan) or binary value (for ptv & spinal cord). Add a line to the for loop that stacks `ct`, `ptv`, and `spine` into a single tensor. What's the final shape of this tensor? Draw an analogy to an RGB image."
   ]
  },
  {
   "cell_type": "code",
   "execution_count": null,
   "metadata": {},
   "outputs": [],
   "source": [
    "!wget https://github.com/florilegium7/Physics-informed-DQN-Radiotherapy/releases/download/v1.0/openkbp_patient_data.zip\n",
    "!unzip patient_data.zip"
   ]
  },
  {
   "cell_type": "code",
   "execution_count": null,
   "metadata": {},
   "outputs": [],
   "source": [
    "import numpy as np\n",
    "import pandas as pd\n",
    "import os\n",
    "\n",
    "base_path = 'openkbp_patient_data' #you may adjust this (e.g. /content/openkbp_patient_data)\n",
    "\n",
    "patient_ids = [\"patient_1\", \"patient_2\", \"patient_3\",\"patient_5\",\"patient_7\",\"patient_9\", \"patient_10\", \"patient_12\" , \"patient_14\", \"patient_16\"]\n",
    "patient_tensors = []\n",
    "\n",
    "#64 slices of 128 x 128 pixels : (depth, height, width)\n",
    "for pt_id in patient_ids:\n",
    "    ct = pd.read_csv(os.path.join(base_path, pt_id, \"ct.csv\"), header=None).values.reshape((64, 128, 128))\n",
    "    ptv = pd.read_csv(os.path.join(base_path, pt_id, \"PTV63.csv\"), header=None).values.reshape((64, 128, 128))\n",
    "    spine = pd.read_csv(os.path.join(base_path, pt_id, \"SpinalCord.csv\"), header=None).values.reshape((64, 128, 128))\n",
    "\n",
    "    pt_tensor = #Your Code Here \n",
    "    patient_tensors.append(pt_tensor)\n",
    "    \n",
    "\n",
    "#patient_tensors[0] --> patient 1\n"
   ]
  },
  {
   "cell_type": "markdown",
   "metadata": {},
   "source": [
    "### <span style=\"color:LightGreen\">Question 05: Reinforcement Learning</span>"
   ]
  },
  {
   "cell_type": "markdown",
   "metadata": {},
   "source": [
    "To simulate the effects of a naive beam (simple straight lines) passing through the patient, we provide a 'beam mask' that creates a beam onto a 2D slice of the patient scan. We assume there are 36 possible angles from which a beam can be fired (one every 10 degrees). `dose` is a 2D heatmap that represents how much radiation is delivered to each pixel in your slice after the passage of many beams.\n",
    "\n",
    "Create a Reinforcement Learning Model which selects beam angles that provide radiation dosage to the tumor while avoiding the spinal cord. \n",
    "\n",
    "* Populate the training loop by:  \n",
    "    * Creating a policy that determines the next `angle`   \n",
    "    * Creating a Q-learning update  \n",
    "\n",
    "* Define a reward function that heavily penalizes a beam that passes through the spinal cord and rewards a beam that hits the tumor/ptv (the output should be a score)  \n",
    "* Tweak parameters if you so desire\n",
    "* Print the top 3 beam angles after training is complete"
   ]
  },
  {
   "cell_type": "code",
   "execution_count": null,
   "metadata": {},
   "outputs": [],
   "source": [
    "beam_angles = np.arange(0, 360, 10)  #[0, 10, 20, ..., 350]\n",
    "max_beams = 5 #ensures beams are chosen strategically\n",
    "episodes = 500\n",
    "alpha = 0.1 #learning rate\n",
    "epsilon = 0.2 #exploration rate\n",
    "slice_shape = (128,128) #a single 2D slice\n",
    "\n",
    "from skimage.draw import line_nd\n",
    "\n",
    "def generate_beam(angle_deg, shape): #beam mask generator! \n",
    "    h, w = shape\n",
    "    beam_mask = np.zeros((h, w), dtype=np.uint8)\n",
    "    center = np.array([h // 2, w // 2])\n",
    "    length = max(h, w)\n",
    "    angle_rad = np.deg2rad(angle_deg)\n",
    "\n",
    "    dx = np.cos(angle_rad)\n",
    "    dy = np.sin(angle_rad)\n",
    "    start = (center - length * np.array([dy, dx])).astype(int)\n",
    "    end   = (center + length * np.array([dy, dx])).astype(int)\n",
    "    start = np.clip(start, 0, [h - 1, w - 1])\n",
    "    end   = np.clip(end,   0, [h - 1, w - 1])\n",
    "    rr, cc = line_nd(start[0], start[1], end[0], end[1])\n",
    "    beam_mask[rr, cc] = 1\n",
    "    return beam_mask\n",
    "\n",
    "\n",
    "for episode in range(episodes):\n",
    "    #Randomly select a patient from patient_tensors HERE\n",
    "\n",
    "    #extracts a single 2D slice from the middle\n",
    "    mid = ct.shape[2] // 2 \n",
    "    ct_slice   = ct[:, :, mid]\n",
    "    ptv_slice  = ptv[:, :, mid]\n",
    "    spine_slice = spine[:, :, mid]\n",
    "\n",
    "    dose = np.zeros(slice_shape, dtype=np.float32)\n",
    "    selected_angles = []\n",
    "\n",
    "    for i in range(max_beams):\n",
    "        #Your policy here\n",
    "\n",
    "        beam = generate_beam(angle, slice_shape)\n",
    "        dose += beam.astype(np.float32) #adds 'radiation' to the pixels \n",
    "        chosen_angles.append(angle)\n",
    "    \n",
    "    reward_score = reward(dose, ptv, spine)\n",
    "\n",
    "    for angle in chosen_angles:\n",
    "        #Q-learning update here\n",
    "\n",
    "\n",
    "\n",
    "def reward(dose, ptv, spine): #your reward function HERE\n",
    "    raise NotImplementedError()\n",
    "\n",
    "\n",
    "Q = np.zeros(len(beam_angles)) #Q-table\n"
   ]
  },
  {
   "cell_type": "markdown",
   "metadata": {},
   "source": [
    "Your model (have you named it yet?) has chosen its ideal beam angles, let's cross our fingers, fire these into our patient, and see what we get!"
   ]
  },
  {
   "cell_type": "code",
   "execution_count": null,
   "metadata": {},
   "outputs": [],
   "source": [
    "import matplotlib as plt\n",
    "\n",
    "patient = random.choice(patient_tensors)\n",
    "mid = patient.shape[3] // 2\n",
    "ct, ptv, cord = patient[0, :, :, mid], patient[1, :, :, mid], patient[2, :, :, mid]\n",
    "shape = ct.shape\n",
    "dose = np.zeros(shape, dtype=np.float32)\n",
    "top_indices = sorted(range(len(Q)), key=lambda i: -Q[i])[:max_beams]\n",
    "selected_angles = [beam_angles[i] for i in top_indices]\n",
    "\n",
    "for angle in selected_angles:\n",
    "    beam = generate_beam(angle, shape)\n",
    "    dose += beam.astype(np.float32)\n",
    "\n",
    "plt.imshow(ct, cmap='gray')\n",
    "plt.imshow(dose, cmap='hot', alpha=0.4)\n",
    "plt.contour(ptv, colors='green')\n",
    "plt.contour(cord, colors='blue')\n",
    "for angle in selected_angles:\n",
    "    plt.imshow(generate_beam(angle, shape), cmap='Reds', alpha=0.2)\n",
    "plt.title(f\"Selected Beams: {selected_angles}\\nPTV: Green, Cord: Blue\")\n",
    "plt.axis('off')\n",
    "plt.show()"
   ]
  },
  {
   "cell_type": "markdown",
   "metadata": {},
   "source": [
    "### <span style=\"color:LightGreen\">Question 06: Physics-informed reinforcement learning</span>"
   ]
  },
  {
   "cell_type": "markdown",
   "metadata": {},
   "source": [
    "Ready to boogie? We're about to imbue physics into our RL model. Let's start by making our beam of ionizing radiaiton more realistic using what we discussed in Question 01. Adjust the `decay` in `generate_true_beam` below so that it actually attenuates our beam (energy loss as it passes through tissue)"
   ]
  },
  {
   "cell_type": "code",
   "execution_count": null,
   "metadata": {},
   "outputs": [],
   "source": [
    "def generate_physical_beam(angle_deg, shape = (128,128), spread_sigma=2.0, attenuation_coeff=0.01):\n",
    "    h, w = shape\n",
    "    beam_mask = np.zeros((h, w), dtype=np.float32)\n",
    "    center = np.array([h // 2, w // 2])\n",
    "    length = max(h, w)\n",
    "    angle_rad = np.deg2rad(angle_deg)\n",
    "\n",
    "    dx = np.cos(angle_rad)\n",
    "    dy = np.sin(angle_rad)\n",
    "    start = (center - length * np.array([dy, dx])).astype(int)\n",
    "    end   = (center + length * np.array([dy, dx])).astype(int)\n",
    "    start = np.clip(start, 0, [h - 1, w - 1])\n",
    "    end   = np.clip(end,   0, [h - 1, w - 1])\n",
    "\n",
    "    rr, cc = line_nd(start, end)\n",
    "    rr = np.clip(rr, 0, h-1)\n",
    "    cc = np.clip(cc, 0, w-1)\n",
    "\n",
    "    for i, (r, c) in enumerate(zip(rr, cc)):\n",
    "        decay =  #attenuatation by Beer-Lambert Law\n",
    "        beam_mask[r, c] += decay\n",
    "\n",
    "        for dr in range(-3, 4):  #gaussian spread via scattering\n",
    "            for dc in range(-3, 4):\n",
    "                r_spread = r + dr\n",
    "                c_spread = c + dc\n",
    "                if 0 <= r_spread < h and 0 <= c_spread < w:\n",
    "                    distance = np.sqrt(dr**2 + dc**2)\n",
    "                    spread_value = np.exp(- (distance**2) / (2 * spread_sigma**2))\n",
    "                    beam_mask[r_spread, c_spread] += decay * spread_value \n",
    "\n",
    "    beam_mask = np.clip(beam_mask, 0, 1.0)  \n",
    "    return beam_mask\n",
    "\n"
   ]
  },
  {
   "cell_type": "markdown",
   "metadata": {},
   "source": [
    "We'd like to inject a physics loss that encodes the actual attenuation and radiation dose delivery of the beam, rewarding correct dose distribution between the spine and tumor. We need to upgrade our simple Q-learning method into a Deep-Q Network (DQN). This should only require simple structural changes (refer to our reinforcement learning [notebook](https://illinois-mlp.github.io/MachineLearningForPhysics/_sources/lectures/ReinforcementLearning.html)). Typically, these would use a Bellman loss. With our new physics-loss it should resemble:\n",
    "$$\n",
    "L_{\\text{Total}} = L_{\\text{Bellman}} + \\lambda_{\\text{Physics}} L_{\\text{Physics}}\n",
    "$$\n",
    "\n",
    "The physics loss takes the following form: \n",
    "$$\n",
    "L_{\\text{Physics}} =\n",
    "\\lambda_{\\text{PTV}} \\cdot \\text{Underdose}_{\\text{PTV}} +\n",
    "\\lambda_{\\text{Spine}} \\cdot \\text{Overdose}_{\\text{Spine}}\n",
    "$$\n",
    "Each $\\lambda$ assigns 'weight' to a term, tinkering with these may prove beneficial.\n",
    "The Underdose term penalizes not giving the tumor the maximum dose (1)\n",
    "$$\n",
    "\\text{Underdose}_{\\text{PTV}} = \\mathbb{E} \\left[ \\max \\left( 0,\\ 1 - D_{\\text{PTV}} \\right) \\right]\n",
    "$$\n",
    "\n",
    "- $D_{\\text{PTV}}$: dose received by pixels inside the tumor (PTV mask)  \n",
    "- $1 - D_{\\text{PTV}}$: underdose per pixel (1 is max dose)\n",
    "- $\\max(0, 1 - D_{\\text{PTV}})$: penalizes only underdosed regions\n",
    "- $\\mathbb{E}[\\cdot]$: average  \n",
    "\n",
    "The Overdose term penalizes giving the spine too much dose\n",
    "$$\n",
    "\\text{Overdose}_{\\text{Spine}} = \\mathbb{E} \\left[ \\max \\left( 0,\\ D_{\\text{Spine}} - D_{\\text{safe}} \\right) \\right]\n",
    "$$\n",
    "\n",
    "- $D_{\\text{safe}}$: Safety threshold for organ (max dose it can receive). **In clinical settings, this is often 0.6**\n",
    "\n",
    "**Now create that network, like a true ML-infused medical physicist of the 21st century would!**"
   ]
  },
  {
   "cell_type": "code",
   "execution_count": null,
   "metadata": {},
   "outputs": [],
   "source": [
    "#Your masterpiece here"
   ]
  },
  {
   "cell_type": "markdown",
   "metadata": {},
   "source": [
    "**For our grand finale we will overlay your newfound results onto a CT scan of a tumor. Congratulations! You just made a treatment plan for a cancer patient!!**"
   ]
  },
  {
   "cell_type": "code",
   "execution_count": null,
   "metadata": {},
   "outputs": [],
   "source": [
    "import numpy as np\n",
    "import matplotlib.pyplot as plt\n",
    "from skimage.draw import line_nd\n",
    "\n",
    "#your conclusions\n",
    "selected_angles = \n",
    "\n",
    "# Choose a patient!\n",
    "patient = patient_tensors[0]\n",
    "\n",
    "\n",
    "\n",
    "ct_volume = patient[\"ct\"]\n",
    "ptv_volume = patient[\"ptv\"]\n",
    "spine_volume = patient[\"spine\"]\n",
    "mid = ct_volume.shape[2] // 2\n",
    "ct_slice = ct_volume[:, :, mid]\n",
    "ptv_slice = ptv_volume[:, :, mid]\n",
    "spine_slice = spine_volume[:, :, mid]\n",
    "\n",
    "\n",
    "def visualize_beams_on_ct(ct_slice, ptv_slice, spine_slice, selected_angles, shape=(128, 128)):\n",
    "    dose = np.zeros(shape, dtype=np.float32)\n",
    "    for angle in selected_angles:\n",
    "        beam = generate_physical_beam(angle, shape)\n",
    "        dose += beam.astype(np.float32)\n",
    "    dose_norm = dose / np.max(dose + 1e-5)\n",
    "    plt.figure(figsize=(6, 6))\n",
    "    plt.imshow(ct_slice, cmap='gray', alpha=0.6)\n",
    "    plt.imshow(dose_norm, cmap='hot', alpha=0.4)  #beam\n",
    "    plt.contour(ptv_slice, colors='red', linewidths=1, label='PTV')\n",
    "    plt.contour(spine_slice, colors='blue', linewidths=1, label='Spine')\n",
    "    plt.title(\"Treatment Plan\")\n",
    "    plt.axis('off')\n",
    "    plt.colorbar(label=\"Relative Beam Intensity\")\n",
    "    plt.show()\n",
    "\n",
    "\n",
    "visualize_beams_on_ct(ct_slice, ptv_slice, spine_slice, selected_angles)\n"
   ]
  },
  {
   "cell_type": "markdown",
   "metadata": {},
   "source": [
    "## <span style=\"color:Orange\">References</span>\n",
    "\n",
    "__[<span style=\"color:Red\">1</span>]__ A. Babier, B. Zhang, R. Mahmood, K.L. Moore, T.G. Purdie, A.L. McNiven, T.C.Y. Chan, \"OpenKBP: The open-access knowledge-based planning grand challenge and dataset,\" Medical Physics, Vol. 48, pp. 5549-5561, 2021."
   ]
  },
  {
   "cell_type": "markdown",
   "metadata": {},
   "source": [
    "## <span style=\"color:Orange\">Acknowledgements</span>\n",
    "\n",
    "* Initial version: Aarya Mehta with some guidance from Mark Neubauer\n",
    "\n",
    "© Copyright 2025"
   ]
  }
 ],
 "metadata": {
  "kernelspec": {
   "display_name": "Python 3 (ipykernel)",
   "language": "python",
   "name": "python3"
  },
  "language_info": {
   "codemirror_mode": {
    "name": "ipython",
    "version": 3
   },
   "file_extension": ".py",
   "mimetype": "text/x-python",
   "name": "python",
   "nbconvert_exporter": "python",
   "pygments_lexer": "ipython3",
   "version": "3.9.7"
  }
 },
 "nbformat": 4,
 "nbformat_minor": 4
}
