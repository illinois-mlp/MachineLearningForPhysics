{
 "cells": [
  {
   "cell_type": "markdown",
   "id": "8e814a34-3bc3-455a-887c-890ca3f90843",
   "metadata": {},
   "source": [
    "# Attention"
   ]
  },
  {
   "cell_type": "markdown",
   "id": "528018c9",
   "metadata": {},
   "source": [
    "Since its introduction via the original transformer paper ([Attention Is All You Need](https://arxiv.org/abs/1706.03762)), self-attention has become a cornerstone of many state-of-the-art deep learning models, particularly in the field of Natural Language Processing (NLP). Since self-attention is now everywhere, it’s important to understand how it works. This lecture provides and overview of the key aspects of the attention mechanism and details (code) on how it works. \n",
    "\n",
    "Although attention was mainly intended for use in sequence modeling, it has found its way into Computer Vision, Graphs and basically every domain, demonstrating the flexibility of the architecture. We will discuss attention from a sequence modeling perspective just to build intuition on how this works."
   ]
  },
  {
   "cell_type": "markdown",
   "id": "43478dae",
   "metadata": {},
   "source": [
    "## <span style=\"color:Orange\">Recap: Recurrent Neural Networks</span>"
   ]
  },
  {
   "cell_type": "markdown",
   "id": "03109e96",
   "metadata": {},
   "source": [
    "To start the explanation, lets reference back the original sequence modeling mechanism: <span style=\"color:Violet\">Recurrent Neural Networks</span> (RNNs). You might review the RNN part of this [notebook](https://illinois-mlp.github.io/MachineLearningForPhysics/_sources/lectures/ConvolutionalRecurrentNeuralNetworks.html) from earlier in the course. "
   ]
  },
  {
   "cell_type": "markdown",
   "id": "061c86ba",
   "metadata": {},
   "source": [
    "<div>\n",
    "<img src=\"https://github.com/priyammaz/PyTorch-Adventures/blob/main/src/visuals/recurrent_neural_network_diagram.png?raw=true\" width=\"800\">\n",
    "</div>"
   ]
  },
  {
   "cell_type": "markdown",
   "id": "3e46eb4f",
   "metadata": {},
   "source": [
    "In recurrent neural networks, what we typically do is take our sequence and pass in a single timestep at a time and produce an output. This means when we pass in $x_1$ we create a hidden state $h_1$ that captures all the relevant information in the input, and this hidden state then is used to produce the output $y_1$. Now what makes it an RNN is when we pass in the second timestep $x_2$ to produce the hidden state $h_2$, the hidden state already contains information about the past $h_1$ Therefore our output of $y_2$ is informed both by information from $x_2$ and $x_1$ encoded through the hidden states. If we keep this going, when we want to make a prediction at $y_{100}$, we will be using a hidden state that has encoded information of all the inputs $x_1$ to $x_{100}$. \n",
    "\n",
    "Everything explained so far is a <span style=\"color:Violet\">causal RNN</span> which makes a prediction of some timestep $t$ by using all of the input timesteps $<=t$. We can easily expand this to make a <span style=\"color:Violet\">bidirectional RNN</span> to make a prediction at time $t$ by looking at the entire sequence as well. In this case we will really have <span style=\"color:Violet\">two hidden states</span> - one that looks backwards and another that looks forward. \n",
    "\n",
    "Whether you use causal or bidirectional depends a lot on what you want to do. If you want to do Name Entity Recognition (i.e. determine if each word in a sentence is an entity), you can look at the entire sentence to do this. On the other hand if you want to forecast the future, like a stock price, then you have to use causal as you can only look at the past to predict the future.\n",
    "\n",
    "All this sounds well and good, but there was one glaring problem: ___Memory___. The hidden states we use to encode the history can only contain so much information, i.e. as the sequence length becomes longer the model will have to start to forget based on memory limitations. This matters a lot for things like MLP, as there may be imporant relations between parts of a book that are pages, or even chapters, apart. To solve this issue, <span style=\"color:Violet\">Attention Augmented RNNs</span> were introduced in the paper [Neural Machine Translation By Jointly Learning To Align and Translate](https://arxiv.org/pdf/1409.0473)."
   ]
  },
  {
   "cell_type": "markdown",
   "id": "f3ba15da",
   "metadata": {},
   "source": [
    "## <span style=\"color:Orange\">Attention Augmented RNN</span>"
   ]
  },
  {
   "cell_type": "markdown",
   "id": "dc2e2ec0",
   "metadata": {},
   "source": [
    "\n",
    "If I had to use two words to define attention it would be: <span style=\"color:Violet\">Weighted Average</span>. In Attention Augmented RNN paper, the authors call the hidden states *<span style=\"color:Violet\">annotations</span>*, but they are the same thing as attention. \n",
    "\n",
    "So lets go back to our RNN again. Before we do our prediction for $y_t$, we have a sequence of hidden states $h_t$ that contain the information about the sequence $x_t$ itself produced from the RNN mechanism. Again, the problem is that $h_t$ for large values of $t$ will have forgotten imporant information about early $x_t$ values with small values of $t$. So what if we got everyone to know each other again? We can produce a context vector $c_i$ that is a <span style=\"color:Violet\">weighted average</span> of all the hidden states in the case of a bidirectional architecture, or just the previous hidden states in a causal architecture. This means at any time of the context vector $c_t$, it will be a weighted average of all of the timesteps so it is reminded about more distant timesteps, solving our *memory* problem!\n"
   ]
  },
  {
   "cell_type": "markdown",
   "id": "da133f00",
   "metadata": {},
   "source": [
    "<div>\n",
    "<img src=\"https://github.com/priyammaz/PyTorch-Adventures/blob/main/src/visuals/rnn_with_attention.png?raw=true\" width=\"800\">\n",
    "</div>"
   ]
  },
  {
   "cell_type": "markdown",
   "id": "c93446c2",
   "metadata": {},
   "source": [
    "Now I keep saying weighted average, and this is because for one of the timesteps, the model has to learn the weights of what is the most important information to know at those times, and then weight them higher. As per the paper, the weights were learned through an <span style=\"color:Violet\">alignment model</span>, which was just a feedforward network that scores how well hidden states as time $t$ is related to those around it in the sequence. These scores were then passed through a softmax to ensure all the learned weights sum upto 1, and then the context vectors are computed based on them. This means every context vector is a customized weighted average that learned exactly what information to put empahsis on at every timestep of the context vectors."
   ]
  },
  {
   "cell_type": "markdown",
   "id": "90b6a2b9",
   "metadata": {},
   "source": [
    "### <span style=\"color:LightGreen\">Problems</span>"
   ]
  },
  {
   "cell_type": "markdown",
   "id": "4538f228",
   "metadata": {},
   "source": [
    "There are some issues with this approach, however, some which were already known about RNNs:\n",
    "- ___<span style=\"color:Violet\">Efficient but Slow</span>___: The RNN mechanism has a for-loop through the sequence making training very slow, but inference was efficient\n",
    "\n",
    "- ___<span style=\"color:Violet\">Lack of Positional Information</span>___: Our context vectors are just weighted averages of hidden states, there is no information about position or time. In most sequence tasks, the order in your data appears is very important\n",
    "\n",
    "- ___<span style=\"color:Violet\">Redundancy</span>___: We are effectively learning the same information twice - the hidden states encode sequential information, but the attention mechanism also encodes sequential information"
   ]
  },
  {
   "cell_type": "markdown",
   "id": "a5256cf9",
   "metadata": {},
   "source": [
    "## <span style=\"color:Orange\">Attention is All You Need!</span>"
   ]
  },
  {
   "cell_type": "markdown",
   "id": "a4e32c69",
   "metadata": {},
   "source": [
    "\n",
    "The groundbreaking paper, [Attention is All You Need](https://arxiv.org/pdf/1706.03762) solved all of the problems above, but added a new one: <span style=\"color:Violet\">computational cost</span>. Lets first look at what the <span style=\"color:Violet\">Attention Mechanism</span> proposed in this paper is doing."
   ]
  },
  {
   "cell_type": "markdown",
   "id": "d45b0cd0",
   "metadata": {},
   "source": [
    "<div>\n",
    "<img src=\"https://github.com/priyammaz/PyTorch-Adventures/blob/main/src/visuals/attention_mechanism_visual.png?raw=true\" width=\"1000\"/>\n",
    "</div>"
   ]
  },
  {
   "cell_type": "markdown",
   "id": "a624d380",
   "metadata": {},
   "source": [
    "The input is a sequence of embedding vectors and the output is a sequence of context vectors. The three linear layers which you see in the above image take three things as an input — “<span style=\"color:Violet\">QUERY</span>, <span style=\"color:Violet\">KEY</span> & <span style=\"color:Violet\">VALUE</span>”. Let’s take a simple example to understand them.\n",
    "\n",
    "If you were to search for something on Youtube or Google, The text which you type in the search box is the <span style=\"color:Violet\">QUERY</span>. The results which appear as the video or article title are the <span style=\"color:Violet\">KEY</span> and the content inside them is the <span style=\"color:Violet\">VALUE</span>. So as to find the best matches the Query has to find the similarity between it and the Keys.\n",
    "\n",
    "Lets quickly look at the formulation for this:\n",
    "\n",
    "$$ \\Large\n",
    "\\text{Attention}(Q,K,V) = \\text{Softmax}(\\frac{QK^T}{\\sqrt{d_e}})V\n",
    "$$\n",
    "\n",
    "We see some new notation show up now, $Q$, $K$, $V$, so lets define them:\n",
    "\n",
    "- $Q$: Queries, they are the token we are interested in\n",
    "- $K$: Keys, they are the other tokens we want to compare our query against\n",
    "- $V$: Values, they are the values we will weight in our weighted average\n",
    "\n",
    "This is a little weird so lets step through it! First important note, the $Q$, $K$, and $V$ are three projections of our original data input $X$. This basically means we have three linear layers that all take the same input $X$ to produce our $Q$, $K$, $V$."
   ]
  },
  {
   "cell_type": "markdown",
   "id": "a445e5ed",
   "metadata": {},
   "source": [
    "### <span style=\"color:LightGreen\">Step 1: Compute the Attention Matrix</span>"
   ]
  },
  {
   "cell_type": "markdown",
   "id": "75a1db87",
   "metadata": {},
   "source": [
    "The first step is computing the <span style=\"color:Violet\">Attention Matrix</span> with $Softmax(QK^T)$, where Q and K both have the shape `Sequence Length x Embedding Dimension`. The output of this computation will be `Sequence Length x Sequence Length`. This is what it looks like:"
   ]
  },
  {
   "cell_type": "markdown",
   "id": "aadb07dc",
   "metadata": {},
   "source": [
    "<div>\n",
    "<img src=\"https://github.com/priyammaz/PyTorch-Adventures/blob/main/src/visuals/computing_attention.png?raw=true\" width=\"800\"/>\n",
    "</div>"
   ]
  },
  {
   "cell_type": "markdown",
   "id": "4c964d0c",
   "metadata": {},
   "source": [
    "\n",
    "In the image above, I also applied the softmax (not shown for simplicity), so each row of the attention matrix adds up to 1 (like probabilities).\n"
   ]
  },
  {
   "cell_type": "markdown",
   "id": "616dac39",
   "metadata": {},
   "source": [
    "#### <span style=\"color:LightPink\">Recap: The Dot Product</span>"
   ]
  },
  {
   "cell_type": "markdown",
   "id": "8625a80b",
   "metadata": {},
   "source": [
    "\n",
    "As a quick reminder, this whole mechanism depends on the dot product, and more specifically, its geometric interpretation\n",
    "\n",
    "$$ \\Large\n",
    "a\\cdot b = \\sum_{i=1}^n a_i*b_i = |a||b|cos(\\theta)\n",
    "$$\n",
    "\n",
    "What the dot product really signifies is the similarity between vectors. Remember the cosine of 0 is just 1, so the highest possible cosine value would be when the vectors $a$ and $b$ point in the exact same direction. This means vectors that are similar in direction have higher magnitude. \n",
    "\n",
    "---"
   ]
  },
  {
   "cell_type": "markdown",
   "id": "92c976a7",
   "metadata": {},
   "source": [
    "#### <span style=\"color:LightPink\">Recap: Matrix Multiplication</span>"
   ]
  },
  {
   "cell_type": "markdown",
   "id": "5d11a7c8",
   "metadata": {},
   "source": [
    "Also remember, matrix multiplication is basically just a bunch of dot products, repeating the multiply/add operation repeatedly. If we are multiplying matrix $A$ with matrix $B$, what we are really doing is doing the dot product of every row of $A$ and every column of $B$.\n",
    "\n",
    "---"
   ]
  },
  {
   "cell_type": "markdown",
   "id": "8b17109e",
   "metadata": {},
   "source": [
    "So with our quick recaps, lets go back to the image above, when we are multiplying $Q$ by $K^T$, we are multiplying each vector in the sequence $Q$ by each vector in the sequence $K$ and computing their dot product similarity. Again, $Q$ and $K$ are just projections of the original data $X$, so really we are just computing the similarity between every possible combination of timesteps in $X$. We also could have just done $XX^T$, this would technically be the same thing, but by including the projections of $X$ rather than using the the raw inputs themselves, we allow the model to have more learnable parameters so it can futher accentuate similarities and differences between different timesteps!\n",
    "\n",
    "The final result of this operation is the attention matrix, that computes the similarity between every possible pairs of tokens. \n",
    "\n",
    "___<span style=\"color:Violet\">Note___</span>: I didn't say anything about the $\\frac{1}{\\sqrt{d_e}}$ term in the formula. This is just a normalization constant that ensures our variance of the attention matrix isn't too large after our matrix multiplication. This just leads to more stable training."
   ]
  },
  {
   "cell_type": "markdown",
   "id": "9d0ea045",
   "metadata": {},
   "source": [
    "### <span style=\"color:LightGreen\">Step 2: Weighting the Values Matrix</span>"
   ]
  },
  {
   "cell_type": "markdown",
   "id": "b830ac65",
   "metadata": {},
   "source": [
    "\n",
    "Now that we have the similarities of how each timestep is related to all the other timesteps, we can do our weighted average. After the weighted average computation, each vector for each timestep isn't just the data of the timestep but rather a weighted average of all the vectors in the sequence and how they are related to that timestep of interest. "
   ]
  },
  {
   "cell_type": "markdown",
   "id": "41546eb2",
   "metadata": {},
   "source": [
    "<div>\n",
    "<img src=\"https://github.com/priyammaz/PyTorch-Adventures/blob/main/src/visuals/encoder_attention_vis.png?raw=true\" width=\"800\"/>\n",
    "</div>"
   ]
  },
  {
   "cell_type": "markdown",
   "id": "1e62b183",
   "metadata": {},
   "source": [
    "\n",
    "The output of this operation gives us the sequence of <span style=\"color:Violet\">context vectors</span>.\n"
   ]
  },
  {
   "cell_type": "markdown",
   "id": "cb404732",
   "metadata": {},
   "source": [
    "### <span style=\"color:LightGreen\">Enforcing Causality</span>"
   ]
  },
  {
   "cell_type": "markdown",
   "id": "8b971858",
   "metadata": {},
   "source": [
    "\n",
    "What we have seen so far is the equivalent to a Bidirectional RNN. The weighted average operation we are doing is between a timestep of interest and all timesteps before and after it. If we wanted a causal model, where a context vector only depends on the timesteps before it, then we need to apply a causal mask to our attention mechanism. \n"
   ]
  },
  {
   "cell_type": "markdown",
   "id": "fedce48d",
   "metadata": {},
   "source": [
    "<div>\n",
    "<img src=\"https://github.com/priyammaz/PyTorch-Adventures/blob/main/src/visuals/causal_masking.png?raw=true\" width=\"400\"/>\n",
    "</div>"
   ]
  },
  {
   "cell_type": "markdown",
   "id": "b7a16bf7",
   "metadata": {},
   "source": [
    "\n",
    "As you can see, we apply a mask to all values of $t$ where the index of the column values (our key index) is greater than the index of the row value (our value index). In practice, once we apply this mask to our attention matrix, we can then multiply by our values. You will see that the context vector at time $t$ is only then dependent on previous timesteps, as we make sure future vectors of $V$ are zeroed out."
   ]
  },
  {
   "cell_type": "markdown",
   "id": "cb8b19e7",
   "metadata": {},
   "source": [
    "<div>\n",
    "<img src=\"https://github.com/priyammaz/PyTorch-Adventures/blob/main/src/visuals/decoder_attention_vis.png?raw=true\" width=\"800\"/>\n",
    "</div>"
   ]
  },
  {
   "cell_type": "markdown",
   "id": "2bc5cb96",
   "metadata": {},
   "source": [
    "### <span style=\"color:LightGreen\">Lets Build This!</span>"
   ]
  },
  {
   "cell_type": "markdown",
   "id": "4ff8c122",
   "metadata": {},
   "source": [
    "Now that we have everything we need, we can build it! We wont be trainig any models now, just defining and exploring the architecture here. To do so, we will define some data in the form of `Batch x Sequence Length x Embed Dim`. The Embedding dimension is the dimension of the vector we want to use to represent a single timestep, and the sequence length is how many timesteps there are in total."
   ]
  },
  {
   "cell_type": "code",
   "execution_count": 1,
   "id": "e9fdeb84-6b8b-48a3-99bd-2e8d041505cf",
   "metadata": {},
   "outputs": [
    {
     "name": "stdout",
     "output_type": "stream",
     "text": [
      "Shape of Input is: torch.Size([4, 64, 128])\n"
     ]
    }
   ],
   "source": [
    "import torch\n",
    "import torch.nn as nn\n",
    "import torch.nn.functional as F\n",
    "\n",
    "### Lets Define some Random Data ###\n",
    "batch_size = 4\n",
    "sequence_length = 64\n",
    "embed_dim = 128\n",
    "\n",
    "x = torch.randn(batch_size, sequence_length, embed_dim)\n",
    "print(\"Shape of Input is:\", x.shape)"
   ]
  },
  {
   "cell_type": "markdown",
   "id": "db731dba",
   "metadata": {},
   "source": [
    "#### <span style=\"color:LightPink\">Implement Attention Without Any Learnable Parameters</span>"
   ]
  },
  {
   "cell_type": "markdown",
   "id": "86a871a9-c286-4651-8def-11a03830254a",
   "metadata": {},
   "source": [
    "This whole attention operation is again very flexible and there is technically no reason to have any learnable parameters in its formulation (other than the obvious for wanting better predictive performance). So lets quickly just implement the formula as is using raw inputs $X$ rather than doing any learned projections of the data. \n",
    "\n",
    "$$ \\Large\n",
    "\\text{Attention} = \\text{Softmax}(\\frac{XX^T}{\\sqrt{d_e}})X\n",
    "$$\n",
    "\n",
    "___<span style=\"color:Violet\">Step 1</span>___\n",
    "\n",
    "Compute $XX^T$ which will provide the similarity score between every pair of vectors in $X$. This will be contained inside a `batch x sequence_length x sequence_length` matrix\n",
    "\n",
    "___<span style=\"color:Violet\">Step 2</span>___\n",
    "\n",
    "After computing the similarity score, we can check and see that the variance of the similarity matrix is extremely high. This is the main reason for the normalization of dividing by the square root of the embedding dimension. In the end, the similarity scores are passed through a Softmax to compute a probability vector, dividing by a constant basically acts as a temperature parameter to cool the distribution and provide more stable training.\n",
    "\n",
    "___<span style=\"color:Violet\">Step 3</span>___\n",
    "\n",
    "Each row of our `sequence_length x sequence_length` matrix is the similarity of how one timestep is related to all other timesteps. Instead of raw similarity scores, we will convert them to probabilities, so that when we do the weighted average on our values matrix, the weights add up to 1."
   ]
  },
  {
   "cell_type": "code",
   "execution_count": 2,
   "id": "20e96766-4daf-4e2b-9b92-bc68d24bb7d1",
   "metadata": {},
   "outputs": [
    {
     "name": "stdout",
     "output_type": "stream",
     "text": [
      "Prenormalization Variance: tensor(377.7599)\n",
      "Normed Similarity Variance: tensor(2.9512)\n",
      "Shape of Normed Similarity: torch.Size([4, 64, 64])\n",
      "Everything Equal to One: True\n",
      "Output Shape: torch.Size([4, 64, 128])\n"
     ]
    }
   ],
   "source": [
    "### First compute XX^T for similarity score between every pair of tokens ###\n",
    "similarity = (x @ x.transpose(1,2))\n",
    "\n",
    "### Normalize the Similarity Scores ###\n",
    "print(\"Prenormalization Variance:\", similarity.var())\n",
    "similarity_norm = similarity / (embed_dim**0.5)\n",
    "print(\"Normed Similarity Variance:\", similarity_norm.var())\n",
    "\n",
    "### Check the Shape of our Similarity Tensor ###\n",
    "print(\"Shape of Normed Similarity:\", similarity_norm.shape)\n",
    "\n",
    "### Compute similarity on every row of the attention matrix (i.e along the last dimension) ###\n",
    "attention_mat = similarity_norm.softmax(dim=-1)\n",
    "\n",
    "### Verify each row adds up to 1 ###\n",
    "summed_attention_mat = attention_mat.sum(axis=-1)\n",
    "print(\"Everything Equal to One:\", torch.allclose(summed_attention_mat, torch.ones_like(summed_attention_mat)))\n",
    "\n",
    "### Multiply our Attention Matrix against its Values (X in our case) for our Weighted Average ###\n",
    "context_vectors = attention_mat @ x\n",
    "\n",
    "print(\"Output Shape:\", context_vectors.shape)"
   ]
  },
  {
   "cell_type": "markdown",
   "id": "c278c93a-aaf0-44a3-b4bb-4c57e0957c25",
   "metadata": {},
   "source": [
    "___<span style=\"color:Violet\">Thats it!</span>___ This is basically all the attention computation is doing mathematically, we will add in the learnable parameters in just a bit. Something important to bring to your attention is the input shape of $x$ and our output shape of the context vectors are identical. Again, the input is the raw data, the output is weighted averaged of how every token is realted to all the other ones. But the shapes not changing is quite convenient, and allows us to stack together a bunch attention mechanisms on top of one another!"
   ]
  },
  {
   "cell_type": "markdown",
   "id": "dc8be84e",
   "metadata": {},
   "source": [
    "#### <span style=\"color:LightPink\">Lets Add Learnable Parameters</span>"
   ]
  },
  {
   "cell_type": "markdown",
   "id": "d0f1d0c2",
   "metadata": {},
   "source": [
    "\n",
    "This time, instead of using $X$ as our input, we will create our three projections of $X$ (Queries, Keys and Values) and then repeat the operation we just did. Also for convenience, we will wrap it all in a PyTorch class so we can continue adding stuff onto it as we go on to build up a general attention block.\n",
    "\n",
    "Now what are these projections exactly? The are pointwise (or per timestep) projections! Remember, in our example here, each timestep is encoded by a vector of size 128. We will create three learnable weight matricies, incorporated inside the Linear modules in PyTorch, that take these 128 numbers per timestep and projects them to another 128 numbers (it is typical to keep the embedding dimension the same). This is a per timestep operation not across timesteps operation (across timesteps occurs within the attention computation). Obviously, PyTorch will accelerate this per timestep operation by doing it in parallel, but regardless, different timesteps dont get to see each other in the projection step. "
   ]
  },
  {
   "cell_type": "code",
   "execution_count": 3,
   "id": "9a799aaa-df8b-4664-8b7a-02a9d8c97042",
   "metadata": {},
   "outputs": [
    {
     "name": "stdout",
     "output_type": "stream",
     "text": [
      "torch.Size([4, 64, 128])\n"
     ]
    }
   ],
   "source": [
    "class Attention(nn.Module):\n",
    "    def __init__(self, embedding_dimension):\n",
    "        super().__init__()\n",
    "\n",
    "        self.embed_dim = embedding_dimension \n",
    "        \n",
    "        ### Create Pointwise Projections ###\n",
    "        self.query = nn.Linear(embedding_dimension, embedding_dimension)\n",
    "        self.key   = nn.Linear(embedding_dimension, embedding_dimension)\n",
    "        self.value = nn.Linear(embedding_dimension, embedding_dimension)\n",
    "\n",
    "    def forward(self, x):\n",
    "\n",
    "        ### Create Queries, Keys and Values from X ###\n",
    "        q = self.query(x)\n",
    "        k = self.key(x)\n",
    "        v = self.value(x)\n",
    "\n",
    "        ### Do the same Computation from above, just with our QKV Matricies instead of X ###\n",
    "        similarity = (q @ k.transpose(1,2)) / (self.embed_dim ** 0.5)\n",
    "        attention = similarity.softmax(axis=-1)\n",
    "        output = attention @ v\n",
    "\n",
    "        return output\n",
    "\n",
    "attention = Attention(embedding_dimension=128)\n",
    "output = attention(x)\n",
    "print(output.shape)"
   ]
  },
  {
   "cell_type": "markdown",
   "id": "b809115f",
   "metadata": {},
   "source": [
    "### <span style=\"color:LightGreen\">MultiHeaded Attention</span>"
   ]
  },
  {
   "attachments": {},
   "cell_type": "markdown",
   "id": "9a0db20e-1435-4b7f-a25c-8b118510d8b7",
   "metadata": {},
   "source": [
    "Now we have a small problem. Remember, the Attention matrix encodes the similarity between each pair of timesteps in your sequence. But in many cases, language being a prime example, there can be different types of relationships between different pairs of words, but our attention computation is restricted to learn only one of them. The solution to this is <span style=\"color:Violet\">Multi Headed Attention</span>. Inside each attention computation, what if we have 2 attention matricies, or 8 or however many we want! The more we have the larger diversity of relationships we can learn!"
   ]
  },
  {
   "cell_type": "markdown",
   "id": "f1cb3da0",
   "metadata": {},
   "source": [
    "#### <span style=\"color:LightPink\">Single Headed Attention Recap</span>"
   ]
  },
  {
   "cell_type": "markdown",
   "id": "0bbc3d7b",
   "metadata": {},
   "source": [
    "Lets summarize everything we have seen so far with a single visual, and we will call this a Single Head of attention. We will also have our embedding dimension for each word in the sequence be 9, and the sequence length is 8."
   ]
  },
  {
   "cell_type": "markdown",
   "id": "3fb0df86",
   "metadata": {},
   "source": [
    "<div>\n",
    "<img src=\"https://github.com/priyammaz/PyTorch-Adventures/blob/main/src/visuals/single_headed_attention_visual.png?raw=true\" width=\"800\"/>\n",
    "</div>"
   ]
  },
  {
   "cell_type": "markdown",
   "id": "023dd9c0",
   "metadata": {},
   "source": [
    "This is again called single headed attention because we only compute a single attention matrix following the logic described above."
   ]
  },
  {
   "cell_type": "markdown",
   "id": "8d7ffde2",
   "metadata": {},
   "source": [
    "#### <span style=\"color:LightPink\">Moving to MultiHeaded Attention</span>"
   ]
  },
  {
   "cell_type": "markdown",
   "id": "df08a284",
   "metadata": {},
   "source": [
    "\n",
    "For multiheaded attention there isn't really a lot changing. Remember, to create our $Q$, $K$, $V$ in single headed attention, we have 3 linear projection layers that take in the embedding dimension and output the same embedding dimension (in our case it takes in 9 and outputs 9). But in multiheaded attention, we can actually reduce our embedding dimension to a smaller value, do the attention computation on the tokens with this condensed embedding dimension, repeat it a bunch of times, and then concatenate together the outputs. \n"
   ]
  },
  {
   "cell_type": "markdown",
   "id": "c92beae7",
   "metadata": {},
   "source": [
    "\n",
    "<div>\n",
    "<img src=\"https://github.com/priyammaz/PyTorch-Adventures/blob/main/src/visuals/multiheaded_attention_visual.png?raw=true\" width=\"1000\"/>\n",
    "</div>\n"
   ]
  },
  {
   "cell_type": "markdown",
   "id": "7658ef0a",
   "metadata": {},
   "source": [
    "\n",
    "It is general practice to have the number of heads you pick to be a divisor of the embedding dimension. For example, in our case, our original embedding dimension is 9, so we can pick 3 heads because 9 is divisible by 3. This also means our head dimension would now be 3, because 9/3 = 3. In typical transformers, the embedding dimension is 768, and they typically have 12 heads of attention. This means each head of attention will have a dimension of 64 because 768/12 = 64. \n",
    "\n",
    "The main reason we want it to evenly divide is because we have three heads, each takes in an embedding dimension of 9 and compresses to 3 before computing attention, and then outputs a tensor of embedding size 3. We can then take our 3 tensors, each having an embedding dimension of 3, concatenate them together, returning us back to the 9 that we began with! Again, this is just for convenience, so the embedding dimension of the input and output tensor dont change in any way. \n",
    "\n",
    "The last problem is that since each head of attention is computed individually, the final concatenated tensor has a bunch of heads of attention packed together, but we never got to share information between the different heads of attention. This is why we have the final head projection, that will take in the embedding dimension of 9 from our concatenated tensor, and output an embedding dimension of 9, therefore meshing information across the heads of our embedding dimension.\n",
    "\n",
    "Lets go ahead and build this module as shown in the figure above. Each head will have 3 projection layers for $Q$,$K$,$V$. We will perform the attention computation and then stick all the results back together at the end."
   ]
  },
  {
   "cell_type": "code",
   "execution_count": 4,
   "id": "3c43e927-93c4-4e76-98bc-488cb899ebbe",
   "metadata": {},
   "outputs": [],
   "source": [
    "class MultiHeadAttention(nn.Module):\n",
    "    def __init__(self, embedding_dimension, num_heads):\n",
    "        super().__init__()\n",
    "\n",
    "        ### Make sure Embedding Dimension is Divisible by Num Heads ###\n",
    "        assert embedding_dimension % num_heads == 0, f\"Make sure your embed_dim {embedding_dimension} is divisible by the number of heads {num_heads}\"\n",
    "\n",
    "        self.embed_dim = embed_dim\n",
    "        self.num_heads = num_heads\n",
    "\n",
    "        ### Compute Head Dimension ###\n",
    "        self.head_dim = self.embed_dim // self.num_heads\n",
    "\n",
    "\n",
    "        ### Create a List of Lists which has all our Q,K,V projections for each head ###\n",
    "        self.multihead_qkv = nn.ModuleList()\n",
    "\n",
    "        ### For head Head create the QKV ###\n",
    "        for head in range(self.num_heads):\n",
    "\n",
    "            ### Create a dictionary of the 3 projection  layers we need ###\n",
    "            qkv_proj = nn.ModuleDict(\n",
    "                [\n",
    "                    [\"Q\", nn.Linear(self.embed_dim, self.head_dim)],\n",
    "                    [\"K\", nn.Linear(self.embed_dim, self.head_dim)],\n",
    "                    [\"V\", nn.Linear(self.embed_dim, self.head_dim)],\n",
    "                ]\n",
    "            )\n",
    "\n",
    "            ### Store Dictionary in List ###\n",
    "            self.multihead_qkv.append(qkv_proj)\n",
    "\n",
    "        ### Create final Projection layer, it will be applied to the concatenated heads will have shape embed_dim again ###\n",
    "        self.head_mesh = nn.Linear(self.embed_dim, self.embed_dim)\n",
    "        \n",
    "    def forward(self, x):\n",
    "\n",
    "        ### Create a list ot store each heads output ###\n",
    "        head_outs = []\n",
    "        \n",
    "        ### Loop Through Each head of Attention ###\n",
    "        for head in self.multihead_qkv:\n",
    "\n",
    "            ### Access layers like a dictionary (ModuleDict) ###\n",
    "            ### q,k,v will be (Batch x Seq len x head_dim)\n",
    "            q = head[\"Q\"](x)\n",
    "            k = head[\"K\"](x)\n",
    "            v = head[\"V\"](x)\n",
    "\n",
    "            ### Now do the same Attention computation as before! ###\n",
    "            similarity = (q @ k.transpose(1,2)) / (self.embed_dim ** 0.5)\n",
    "            attention  = similarity.softmax(axis=-1)\n",
    "            output = attention @ v\n",
    "\n",
    "            ### Store this output in the head_outs ###\n",
    "            head_outs.append(output)\n",
    "\n",
    "        ### head_outs has num_heads tensors, each with the compressed embedding dimension of head_dim ###\n",
    "        ### We can concatenate them all back together along the embedding dimension just like we did in the image above ###\n",
    "        head_outs = torch.cat(head_outs, dim=-1)\n",
    "\n",
    "        ### head_outs will have the same shape now as our input x! ###\n",
    "        if head_outs.shape != x.shape:\n",
    "            raise Exception(\"Something has gone wrong in the attention computation\")\n",
    "\n",
    "        ### Now each head was computed independently, we need them to get to know each other, so pass our head_outs through final projection ### \n",
    "        output = self.head_mesh(head_outs)\n",
    "\n",
    "        return output\n",
    "        \n",
    "\n",
    "embed_dim = 9\n",
    "num_heads = 3\n",
    "seq_len = 8\n",
    "mha = MultiHeadAttention(embed_dim, num_heads)\n",
    "\n",
    "### Create a random tensor in the shape (Batch x Seq Len x Embed Dim) ###\n",
    "rand = torch.randn(3,seq_len,embed_dim)\n",
    "\n",
    "### Pass through MHA ###\n",
    "output = mha(rand)\n"
   ]
  },
  {
   "cell_type": "markdown",
   "id": "e3b2fbb9",
   "metadata": {},
   "source": [
    "### <span style=\"color:LightGreen\">Increasing Efficiency</span>"
   ]
  },
  {
   "cell_type": "markdown",
   "id": "22d33fbd",
   "metadata": {},
   "source": [
    "\n",
    "We now have successfully implemented a Multi Head Attention layer! This has all the same math and lodgic of attention, except for one small issue: <span style=\"color:Violet\">efficiency</span>. Typically we want to avoid for loops as much as possible in our PyTorch code, being able to vectorize and do things in parallel will make much better use of the GPUs we train on. To make this more efficient, there is something we need to understand first: PyTorch Linear layers on multidimensional tensors."
   ]
  },
  {
   "cell_type": "markdown",
   "id": "4fdeb504",
   "metadata": {},
   "source": [
    "#### <span style=\"color:LightPink\">Linear Layers on MultiDimensional Tensors</span>"
   ]
  },
  {
   "cell_type": "markdown",
   "id": "becd59b6",
   "metadata": {},
   "source": [
    "\n",
    "We have already seen `nn.Linear(input_dim, output_dim)` many times already, and this module expects a tensor of shape `[Batch x input_dim]` and it will output `[Batch x output_dim]`. But what if our input is `[Batch x Dim1 x Dim2 x input_dim]`, then what happens? Basically, PyTorch will automatically flatten all the dimensions other than the last one automagically, do the Linear layer, and then return back to the expected shape, so we would get an output of `[Batch x Dim1 x Dim2 x output_dim]`. Another way of thinking about this is, PyTorch linear layers only are applied to the last dimension of your tensor. \n",
    "\n",
    "Lets do a quick example:"
   ]
  },
  {
   "cell_type": "code",
   "execution_count": 5,
   "id": "ae2da053-e2df-4ea5-8f09-f5ec8079911b",
   "metadata": {},
   "outputs": [
    {
     "name": "stdout",
     "output_type": "stream",
     "text": [
      "Input Shape: torch.Size([5, 10]) Output Shape: torch.Size([5, 30])\n",
      "Input Shape: torch.Size([5, 1, 2, 3, 4, 10]) Output Shape: torch.Size([5, 1, 2, 3, 4, 30])\n"
     ]
    }
   ],
   "source": [
    "fc = nn.Linear(10,30)\n",
    "\n",
    "tensor_1 = torch.randn(5,10)\n",
    "tensor_1_out = fc(tensor_1)\n",
    "print(\"Input Shape:\", tensor_1.shape, \"Output Shape:\", tensor_1_out.shape)\n",
    "\n",
    "tensor_2 = torch.randn(5,1,2,3,4,10)\n",
    "tensor_2_out = fc(tensor_2)\n",
    "print(\"Input Shape:\", tensor_2.shape, \"Output Shape:\", tensor_2_out.shape)"
   ]
  },
  {
   "cell_type": "markdown",
   "id": "e4b57f1b",
   "metadata": {},
   "source": [
    "#### <span style=\"color:LightPink\">Packing Linear Layers</span>"
   ]
  },
  {
   "cell_type": "markdown",
   "id": "98dfe0ff",
   "metadata": {},
   "source": [
    "\n",
    "Another important idea is packing our Linear layers together. Lets think about our Multi Head example again: each projection for Q, K and V have a Linear layer that takes in 9 values and outputs 3 values, and we repeat this 3 times for each head. Lets just think about our Queries for now.\n",
    "\n",
    "- <span style=\"color:Violet\">Query for Head 1</span>: Take in input $x$ with embedding dim 9 and outputs tensor with embedding dimension 3\n",
    "\n",
    "- <span style=\"color:Violet\">Query for Head 2</span>: Take in input $x$ with embedding dim 9 and outputs tensor with embedding dimension 3\n",
    "\n",
    "- <span style=\"color:Violet\">Query for Head 3</span>: Take in input $x$ with embedding dim 9 and outputs tensor with embedding dimension 3\n",
    "\n",
    "Well what if we reframed this? What if we had a single Linear layer that takes input $x$ with embedding dim 9 and outputs something with embedding dim 9. Afterwards, we can cut the matrix into our three heads of attention. Lets do a quick example:"
   ]
  },
  {
   "cell_type": "code",
   "execution_count": 6,
   "id": "a17f31e2-529c-460d-b5ef-1dc397f0de00",
   "metadata": {},
   "outputs": [
    {
     "name": "stdout",
     "output_type": "stream",
     "text": [
      "Shape of all Queries: torch.Size([1, 8, 9])\n",
      "Shape of each Head of Query: torch.Size([1, 8, 3])\n"
     ]
    }
   ],
   "source": [
    "tensor = torch.randn(1,8,9)\n",
    "fc = nn.Linear(9,9)\n",
    "\n",
    "### Pass tensor through layer to make Queries ###\n",
    "q = fc(tensor)\n",
    "print(\"Shape of all Queries:\", q.shape)\n",
    "\n",
    "### Cut Embedding dimension into 3 heads ###\n",
    "q_head1, q_head2, q_head3 = torch.chunk(q, 3, axis=-1)\n",
    "print(\"Shape of each Head of Query:\", q_head1.shape)\n"
   ]
  },
  {
   "cell_type": "markdown",
   "id": "ca1584c4",
   "metadata": {},
   "source": [
    "#### <span style=\"color:LightPink\">MultiDimensional Matrix Multiplication</span>"
   ]
  },
  {
   "cell_type": "markdown",
   "id": "dc981d3e-bfaf-4587-97b4-260297ad7709",
   "metadata": {},
   "source": [
    "So, we have composed our 9 Linear layers (3 heads have 3 projections for $Q$, $K$, $V$ each) into just 3 Linear layers, where we have packed all the heads into them. But after we chunk up our $Q$, $K$, $V$ tensors each into three more tensors for each head we will still need to do the looping operation to go through the cooresponding $q$, $k$, $v$ matricies. Can we parallelize this too? Of course! We just need to better understand higher dimensional matrix multiplication."
   ]
  },
  {
   "cell_type": "markdown",
   "id": "b8283e77",
   "metadata": {},
   "source": [
    "#### <span style=\"color:LightPink\">Recap</span>"
   ]
  },
  {
   "cell_type": "markdown",
   "id": "ae37fb1c",
   "metadata": {},
   "source": [
    "\n",
    "Matrix multiplication is typicall seen like this, multiplying an `[AxB]` matrix by a `[BxC]` which will produce a `[AxC]` matrix. But what if we have a `[Batch x dim1 x A x B]` multiplied by a `[Batch x dim1 x B x C]`. Matrix multiplication again only happens on the last two dimensions, so because our first tensor ends with an `[AxB]` and the second tensor ends with a `[BxC]`, the resulting matrix multiplication will be `[Batch x dim1 x A x C`. Lets see a quick example:"
   ]
  },
  {
   "cell_type": "code",
   "execution_count": 7,
   "id": "f2602a21-3431-4594-b414-9203d60366b1",
   "metadata": {},
   "outputs": [
    {
     "name": "stdout",
     "output_type": "stream",
     "text": [
      "Final Output Shape: torch.Size([1, 2, 6, 3])\n"
     ]
    }
   ],
   "source": [
    "a = torch.randn(1,2,6,4)\n",
    "b = torch.randn(1,2,4,3)\n",
    "print(\"Final Output Shape:\", (a@b).shape)"
   ]
  },
  {
   "cell_type": "markdown",
   "id": "462cfdf0",
   "metadata": {},
   "source": [
    "### <span style=\"color:LightGreen\">The Trick of Parallelizing Heads</span>"
   ]
  },
  {
   "cell_type": "markdown",
   "id": "eb2577fd-7cd5-4700-b807-fb872cc86153",
   "metadata": {},
   "source": [
    "Now for the trick of parallelizing our heads by using everything we have just seen. All we need to do is split the embedding dimension up and move the heads out of the way so the computation can occur. Remember, we have our $Q$, $K$, and $V$ matricies right now that each contain all the projected heads and are in the shape `[Batch x Seq_len x Embed_dim]` ([batch x 8 x 9] in our case). \n",
    "\n",
    "- The first step is to split the embedding dimension into the number of heads and head dimension. We already know that our embedding dimension is divisible as thats how we set it, so we can do `[Batch x Seq_len x Embed_dim]` -> `[Batch x Seq_len x Num_Heads x Embed_Dim]`. (This would be taking our [batch x 8 x 9] and converting to [batch x 8 x 3 x 3] in our case).\n",
    "\n",
    "- The attention computation has to happen between two matricies of shape `[Seq_len x Embed_Dim]` for queries and `[Embed_Dim x Seq_len]` for our transposed keys. In the case of multihead attention, the matrix multiplication happens across the Head Dimension rather than embedding. If our Queries, Keys and Values are in the shape `[Batch x Seq_len x Num_Heads x Embed_Dim]`, we can just transpose the Seq_len and Num_heads dimensions and make a tensor of shape `[Batch x Num_Heads x Seq_len x Embed_Dim]`. This way when I do Queries multiplied by the Transpose of Keys I will be doing `[Batch x Num_Heads x Seq_len x Embed_Dim]` multiplied by `[Batch x Num_Heads x Embed Dim x Seq Len]` creating the attention matrix `[Batch x Num_Heads x Seq_len x Seq Len]`. Therefore we have effectively created for every sample in the batch, and for every head of attention, a unique attention matrix! Thus we have parallelized the Attention Matrix computation.\n",
    "\n",
    "- Now that we have out all our attention matricies `[Batch x Num_Heads x Seq_len x Seq Len]`, we can perform our scaling by our constant, and perform Softmax across every row of each attention matrix (along the last dimension).\n",
    "\n",
    "- The next step is to multiply out attention matrix `[Batch x Num_Heads x Seq_len x Seq Len]` by the Values which is in the shape `[Batch x Seq_len x Num_Heads x Embed_Dim]`, which will get us to `[Batch x Num_Heads x Seq_len x Embed_Dim]`!\n",
    "\n",
    "- Lastly, we need to put our Num Heads and Embedding dimensions back together, so we can permute the Num Heads and Seq Len dimensions again which gives us `[Batch x Seq_len x Num_Heads x Embed_Dim]` and flatten on the last two dimension finally giving us `[Batch x Seq_len x Num_Heads x Embed_Dim]`.\n",
    "\n",
    "- This flattening operation is equivalent to concatenation of all the heads of attention, so we can pass this through our final projection layer so all the heads of attention gets to know each other!"
   ]
  },
  {
   "cell_type": "markdown",
   "id": "25c248db",
   "metadata": {},
   "source": [
    "### <span style=\"color:LightGreen\">More Efficient Attention Implementation</span>"
   ]
  },
  {
   "cell_type": "markdown",
   "id": "98d11801",
   "metadata": {},
   "source": [
    "\n",
    "We will also include some extra <span style=\"color:Violet\">dropout layers</span> typically added to attention computations. "
   ]
  },
  {
   "cell_type": "code",
   "execution_count": 8,
   "id": "3651f151-62b9-4a5b-a4bb-2fc21fe1247f",
   "metadata": {},
   "outputs": [
    {
     "name": "stdout",
     "output_type": "stream",
     "text": [
      "Final Output: torch.Size([3, 8, 9])\n"
     ]
    }
   ],
   "source": [
    "class SelfAttentionEncoder(nn.Module):\n",
    "    \"\"\"\n",
    "    Self Attention Proposed in `Attention is All  You Need` - https://arxiv.org/abs/1706.03762\n",
    "    \"\"\"\n",
    "    \n",
    "    def __init__(self,\n",
    "               embed_dim=768,\n",
    "               num_heads=12, \n",
    "               attn_p=0,\n",
    "               proj_p=0):\n",
    "        \"\"\"\n",
    "        \n",
    "        Args:\n",
    "            embed_dim: Transformer Embedding Dimension\n",
    "            num_heads: Number of heads of computation for Attention \n",
    "            attn_p: Probability for Dropout2d on Attention cube\n",
    "            proj_p: Probability for Dropout on final Projection\n",
    "        \"\"\"\n",
    "        \n",
    "        super(SelfAttentionEncoder, self).__init__()\n",
    "\n",
    "        ### Make Sure Embed Dim is Divisible by Num Heads ###\n",
    "        assert embed_dim % num_heads == 0\n",
    "        self.num_heads = num_heads\n",
    "        self.head_dim = int(embed_dim / num_heads)\n",
    "        \n",
    "        ### Define all our Projections ###\n",
    "        self.q_proj = nn.Linear(embed_dim, embed_dim)\n",
    "        self.k_proj = nn.Linear(embed_dim, embed_dim)\n",
    "        self.v_proj = nn.Linear(embed_dim, embed_dim)\n",
    "        self.attn_drop = nn.Dropout(attn_p)\n",
    "\n",
    "        ### Define Post Attention Projection ###\n",
    "        self.proj = nn.Linear(embed_dim, embed_dim)\n",
    "        self.proj_drop = nn.Dropout(proj_p)\n",
    "        \n",
    "    def forward(self, x):\n",
    "        \n",
    "        batch, seq_len, embed_dim = x.shape\n",
    "\n",
    "        ### Compute Q, K, V Projections,and Reshape/Permute to [Batch x Num Heads x Seq Len x Head Dim] \n",
    "        q = self.q_proj(x).reshape(batch, seq_len, self.num_heads, self.head_dim).transpose(1,2).contiguous()\n",
    "        k = self.k_proj(x).reshape(batch, seq_len, self.num_heads, self.head_dim).transpose(1,2).contiguous()\n",
    "        v = self.v_proj(x).reshape(batch, seq_len, self.num_heads, self.head_dim).transpose(1,2).contiguous()\n",
    "        \n",
    "        ### Perform Attention Computation ###\n",
    "        attn = (q @ k.transpose(-2,-1)) * (self.head_dim ** -0.5)\n",
    "        attn = attn.softmax(dim=-1)\n",
    "        attn = self.attn_drop(attn)\n",
    "        x = attn @ v\n",
    "        \n",
    "        ### Bring Back to [Batch x Seq Len x Embed Dim] ###\n",
    "        x = x.transpose(1,2).reshape(batch, seq_len, embed_dim)\n",
    "\n",
    "        ### Pass through Projection so Heads get to know each other ###\n",
    "        x = self.proj(x)\n",
    "        x = self.proj_drop(x)\n",
    "        \n",
    "        return x\n",
    "\n",
    "embed_dim = 9\n",
    "num_heads = 3\n",
    "seq_len = 8\n",
    "a = SelfAttentionEncoder(embed_dim, num_heads)\n",
    "\n",
    "### Create a random tensor in the shape (Batch x Seq Len x Embed Dim) ###\n",
    "rand = torch.randn(3,seq_len,embed_dim)\n",
    "\n",
    "### Pass through MHA ###\n",
    "output = a(rand)\n",
    "print(\"Final Output:\", output.shape)"
   ]
  },
  {
   "cell_type": "markdown",
   "id": "84679a9a",
   "metadata": {},
   "source": [
    "## <span style=\"color:Orange\">Padding</span>"
   ]
  },
  {
   "cell_type": "markdown",
   "id": "09a65186-3217-4efb-9a3f-506df7a98c29",
   "metadata": {},
   "source": [
    "One aspect we haven't talked about yet is padding. We have to train in batches, and unfortunately, if each sequence is of different lengths, we cannot put them together simply and dynamically, In this situation, we just take all the sequences that are shorter than the longest one in the batch and then <span style=\"color:Violet\">pad</span> them. "
   ]
  },
  {
   "cell_type": "markdown",
   "id": "a18923be",
   "metadata": {},
   "source": [
    "### <span style=\"color:LightGreen\">Sequence Padding and Attention Masking</span>"
   ]
  },
  {
   "cell_type": "markdown",
   "id": "24a4a03b",
   "metadata": {},
   "source": [
    "\n",
    "One typical consideration for models like this is, when we pass in sentences of data, different sentences have different lengths. To create a matrix of tokens, we need to make sure all the sequences are the same, therefore we have to pad the shorter sequences to the longer ones. This is what the padding looks like:\n"
   ]
  },
  {
   "cell_type": "markdown",
   "id": "9278c41e",
   "metadata": {},
   "source": [
    "\n",
    "<div>\n",
    "<img src=\"https://github.com/priyammaz/PyTorch-Adventures/blob/main/src/visuals/sequence_padding.png?raw=true\" width=\"600\"/>\n",
    "</div>\n"
   ]
  },
  {
   "cell_type": "markdown",
   "id": "2cd95288",
   "metadata": {},
   "source": [
    "\n",
    "The pad tokens are just fillers and they don't add any information at all to the data. To deal with this, we need to make sure that when we compute attention, these pad tokens are ignored. This is very similar to the Causal Mask in [GPT](https://github.com/priyammaz/HAL-DL-From-Scratch/tree/main/PyTorch%20for%20NLP/GPT), and we will be doing exactly what we did there, fill in the masked locations with $-\\infty$ before Softmax is computed. Lets take a quick look at this for one of the sentences above. \n"
   ]
  },
  {
   "cell_type": "markdown",
   "id": "d0abf61c",
   "metadata": {},
   "source": [
    "<div>\n",
    "<img src=\"https://github.com/priyammaz/PyTorch-Adventures/blob/main/src/visuals/padding_attention_mask.png?raw=true\" width=\"800\"/>\n",
    "</div>"
   ]
  },
  {
   "cell_type": "markdown",
   "id": "b6d05a1d",
   "metadata": {},
   "source": [
    "\n",
    "You can see that we zero out the columns of our attention mask that has padding tokens, but not the row. The reason for this is, <span style=\"color:Violet\">the model should learn the relation of how the padding tokens are related to the words</span> (this is most likely just positional information that padding is at the end), but it <span style=\"color:Violet\">should not learn how other words are related to padding</span>, as the padding adds no semantic meaning. This is why, when multiplying by our values, we have zeroed out the attention weights of the 4th column, as when computing weighted averages of how one word is related to all others, the padding token is not included."
   ]
  },
  {
   "cell_type": "markdown",
   "id": "e907a2e6",
   "metadata": {},
   "source": [
    "## <span style=\"color:Orange\">Computing the Reweighted Padded Attention Mask</span>"
   ]
  },
  {
   "cell_type": "markdown",
   "id": "61495b9e",
   "metadata": {},
   "source": [
    "\n",
    "Lets create some numbers so we can get a better idea of how this works. Let the tokens be $X = [10, 2, \\text{<pad>}]$, so the third token is a padding token. Lets then also pretend, we pass this to our model, and when we go to compute our attention $QK^T$. The raw output before the Softmax is below:\n",
    "\n",
    "\\begin{equation}\n",
    "\\begin{bmatrix}\n",
    "  7       & -8   & 6  \\\\\n",
    "  -3       & 2   & 4   \\\\\n",
    "  1       & 6  & -2   \\\\\n",
    "\\end{bmatrix}\n",
    "\\end{equation}\n",
    "\n",
    "Remember, the equation for softmax is:\n",
    "\n",
    "$$ \\Large\n",
    "\\text{Softmax}(\\vec{x}) = \\frac{e^{x_i}}{\\sum_{j=1}^N{e^{x_j}}}\n",
    "$$\n",
    "\n",
    "If we ignore padding and everything right now, we can compute softmax for row of the matrix above:\n",
    "\n",
    "\\begin{equation}\n",
    "\\text{Softmax}\n",
    "\\begin{bmatrix}\n",
    "  7       & -8   & 6  \\\\\n",
    "  -3       & 2   & 4   \\\\\n",
    "  1       & 6  & -2   \\\\\n",
    "\\end{bmatrix} = \n",
    "\\begin{bmatrix}\n",
    "  \\frac{e^{7}}{e^{7}+e^{-8}+e^{6}}       & \\frac{e^{-8}}{e^{7}+e^{-8}+e^{6}}   & \\frac{e^{6}}{e^{7}+e^{-8}+e^{6}}  \\\\\n",
    "  \\frac{e^{-3}}{e^{-3}+e^{2}+e^{4}}       & \\frac{e^{2}}{e^{-3}+e^{2}+e^{4}}   & \\frac{e^{4}}{e^{-3}+e^{2}+e^{4}}  \\\\\n",
    "  \\frac{e^{1}}{e^{1}+e^{6}+e^{-2}}       & \\frac{e^{6}}{e^{1}+e^{6}+e^{-2}}   & \\frac{e^{-2}}{e^{1}+e^{6}+e^{-2}}  \\\\\n",
    "\\end{bmatrix} = \n",
    "\\begin{bmatrix}\n",
    "  0.73       & 0.0000002   & 0.27   \\\\\n",
    "  0.0008       & 0.12   & 0.88 \\\\\n",
    "  0.007       & 0.99  & 0.003  \\\\\n",
    "\\end{bmatrix}\n",
    "\\end{equation}\n",
    "\n",
    "But what we need is to mask out all the tokens in this matrix related to padding. Just like we did in [GPT](https://github.com/priyammaz/HAL-DL-From-Scratch/tree/main/PyTorch%20for%20NLP/GPT), we will fill in the indexes of the that we want to mask with $-\\infty$. If only the last token was a padding token in our sequence, then the attention before the softmax should be written as:\n",
    "\n",
    "\\begin{equation}\n",
    "\\begin{bmatrix}\n",
    "  7       & -8   & -\\infty  \\\\\n",
    "  -3       & 2   & -\\infty   \\\\\n",
    "  1       & 6  & -\\infty  \\\\\n",
    "\\end{bmatrix}\n",
    "\\end{equation}\n",
    "\n",
    "Taking the softmax of the rows of this matrix then gives:\n",
    "\n",
    "\\begin{equation}\n",
    "\\text{Softmax}\n",
    "\\begin{bmatrix}\n",
    " 7       & -8   & -\\infty  \\\\\n",
    "  -3       & 2   & -\\infty   \\\\\n",
    "  1       & 6  & -\\infty  \\\\\n",
    "\\end{bmatrix} = \n",
    "\\begin{bmatrix}\n",
    "  1       & 0   & 0  \\\\\n",
    "  0.0067  & 0.9933 & 0   \\\\\n",
    "  0.0067       & 0.9933  & 0  \\\\\n",
    "\\end{bmatrix}\n",
    "\\end{equation}\n",
    "\n",
    "Which is exactly what we want! Therefore, when computing attention, we need to know which tokens are padding tokens in our data, and then go ahead and perform this computation on our attention output before multiplying with values."
   ]
  },
  {
   "cell_type": "markdown",
   "id": "35f8c70d",
   "metadata": {},
   "source": [
    "### <span style=\"color:LightGreen\">Add Padding to our Attention Computation</span>"
   ]
  },
  {
   "cell_type": "markdown",
   "id": "cc59b223",
   "metadata": {},
   "source": [
    "\n",
    "There are a few ways to indicate padding, but the most common is a simple `True`/`False` vector. Lets say we have the following 3 sequences:\n",
    "\n",
    "- sequence_1: [a1, a2, a3]\n",
    "- sequence_2: [b1, b2, b3, b4]\n",
    "- sequence_3: [c1, c2, c3]\n",
    "\n",
    "In this situation we would pad sequence_1 and sequence_3 to the longest sequence, so after padding we would have something like this:\n",
    "\n",
    "- sequence_1: [a1, a2, a3, **<span style=\"color:Blue\">\\<PAD></span>**]\n",
    "- sequence_2: [b1, b2, b3, b4]\n",
    "- sequence_3: [c1, c2, c3, **<span style=\"color:Blue\">\\<PAD></span>**]\n",
    "\n",
    "Now we will create boolean vectors, identifying `True/`False for tokens we want to compute attention on. Anything that is a **\\<PAD>** token would be omitted, so we would have the following attention masks for each sequence:\n",
    "\n",
    "- sequence_1: [`True`, `True`, `True`, `False`]\n",
    "- sequence_2: [`True`, `True`, `True`, `True`]\n",
    "- sequence_3: [`True`, `True`, `True`, `False`]\n",
    "\n",
    "Then, as indicated above, for columns for tokens identified as `False` (because they are pad tokens) we will zero out the attention scores and reweight them to properly compute attention without learning how words are related to the padding (only how the padding is related to the words)\n"
   ]
  },
  {
   "cell_type": "markdown",
   "id": "5c18cb31",
   "metadata": {},
   "source": [
    "### <span style=\"color:LightGreen\">Repeating to Match Attention Matrix Shape</span>"
   ]
  },
  {
   "cell_type": "markdown",
   "id": "36422c2b",
   "metadata": {},
   "source": [
    "\n",
    "So we now have our attention mask and know we need to mask the columns in our attention matrix that coorespond to them. Lets also pretend for now we are doing single headed attention, we can deal with the multiheaded attention in a bit. In this case, lets take a look at our attention and mask shapes:\n",
    "\n",
    "```attn.shape``` - (Batch x seq_len x seq_len)\n",
    "\n",
    "```mask.shape``` - (Batch x seq_len)\n",
    "\n",
    "It is clear that our mask is missing a dimension, and we need to repeat it. Lets take sequence_1 for instance that has a mask of [True, True, True, False]. Because the sequence length here is 4, lets repeat this row 4 times:\n",
    "\n",
    "\\begin{bmatrix}\n",
    "\\textrm{True} & \\textrm{True} & \\textrm{True} & \\textrm{False} \\\\\n",
    "\\textrm{True} & \\textrm{True} & \\textrm{True} & \\textrm{False} \\\\\n",
    "\\textrm{True} & \\textrm{True} & \\textrm{True} & \\textrm{False} \\\\\n",
    "\\textrm{True} & \\textrm{True} & \\textrm{True} & \\textrm{False}\n",
    "\\end{bmatrix}\n",
    "\n",
    "By repeating our mask for sequence_1, we get exactly a `seq_len x seq_len` matrix where the column we don't want to compute attention for is indicated by the `False`.\n",
    "\n",
    "Therefore our final mask will be of shape `Batch x seq_len x seq_len`\n",
    "\n",
    "___<span style=\"color:Violet\">CAVEAT</span>___: Technically we don't need to do this, and this is why the padding can get confusing as different people/functions do it different ways. First of all, lets say we reshaped our attention mask from`(Batch x seq_len` to `Batch x 1 x seq_len`. That 1 is a dummy dimension, and when we use the ```Tensor.masked_fill_``` it will automatically broadcast our attention mask across that dummy 1 dimension. On the other hand, when we go to use [flash_attention](https://pytorch.org/docs/stable/generated/torch.nn.functional.scaled_dot_product_attention.html) at the end, this method wants the tensor specifically in the shape `Batch x seq_len x seq_len`.\n",
    "\n",
    "For testing, lets just use a `1 x 6 x 6` tensor as a fake `8 x 8` attention matrix for a single sample (not multihead attention yet). Lets also pretend the last two tokens are pad tokens, so we want the attention mask that will fill the last two columns with $-\\infty$, so when we take the softmax in the future it'll become zero!\n",
    "\n",
    "```Tensor.masked_fill_``` will fill anywhere indicated as `True` with our fill value. In our case though, we have the tokens we don't want to compute on (the ones we want to fill with $-\\infty$) as false. So we just need to flip the boolean in our attention mask."
   ]
  },
  {
   "cell_type": "code",
   "execution_count": 9,
   "id": "3e02645a-c3ba-4589-94d2-92b564e8bb8e",
   "metadata": {},
   "outputs": [
    {
     "name": "stdout",
     "output_type": "stream",
     "text": [
      "Method 1:\n",
      "--------\n",
      "tensor([[[ True,  True,  True,  True, False, False]]])\n",
      "tensor([[[0.6821, 0.4571, 0.9372, 0.7789,   -inf,   -inf],\n",
      "         [0.1615, 0.4683, 0.1886, 0.0264,   -inf,   -inf],\n",
      "         [0.4572, 0.5982, 0.7586, 0.3741,   -inf,   -inf],\n",
      "         [0.3705, 0.3646, 0.2765, 0.2522,   -inf,   -inf],\n",
      "         [0.3564, 0.2086, 0.9521, 0.3250,   -inf,   -inf],\n",
      "         [0.4875, 0.8989, 0.4354, 0.0878,   -inf,   -inf]]])\n",
      "Method 2:\n",
      "--------\n",
      "tensor([[[ True,  True,  True,  True, False, False],\n",
      "         [ True,  True,  True,  True, False, False],\n",
      "         [ True,  True,  True,  True, False, False],\n",
      "         [ True,  True,  True,  True, False, False],\n",
      "         [ True,  True,  True,  True, False, False],\n",
      "         [ True,  True,  True,  True, False, False]]])\n",
      "tensor([[[0.6821, 0.4571, 0.9372, 0.7789,   -inf,   -inf],\n",
      "         [0.1615, 0.4683, 0.1886, 0.0264,   -inf,   -inf],\n",
      "         [0.4572, 0.5982, 0.7586, 0.3741,   -inf,   -inf],\n",
      "         [0.3705, 0.3646, 0.2765, 0.2522,   -inf,   -inf],\n",
      "         [0.3564, 0.2086, 0.9521, 0.3250,   -inf,   -inf],\n",
      "         [0.4875, 0.8989, 0.4354, 0.0878,   -inf,   -inf]]])\n"
     ]
    }
   ],
   "source": [
    "### Create an example attention matrix (b x n x n) ###\n",
    "rand_attn = torch.rand(1,6,6)\n",
    "\n",
    "### Create Attention Mask in the shape (b x n) ###\n",
    "attention_mask = torch.tensor([1,1,1,1,0,0]).unsqueeze(0).bool()\n",
    "\n",
    "print(\"Method 1:\")\n",
    "print(\"--------\")\n",
    "### Add Extra Dimension for the (b x n x n) ###\n",
    "### So unsqueeze mask to be (b x 1 x n) ###\n",
    "attention_mask = attention_mask.unsqueeze(1)\n",
    "\n",
    "### Unsqueezed with dummy broadcast dimension ###\n",
    "print(attention_mask)\n",
    "print(rand_attn.masked_fill_(~attention_mask, float(\"-inf\")))\n",
    "\n",
    "print(\"Method 2:\")\n",
    "print(\"--------\")\n",
    "### Repeat the Dummy Dimension so attention mask is (b x n x n) ###\n",
    "attention_mask = attention_mask.repeat(1,6,1) # repeat dummy middle dim 6 times (for the seq_len) \n",
    "print(attention_mask)\n",
    "print(rand_attn.masked_fill_(~attention_mask, float(\"-inf\")))"
   ]
  },
  {
   "cell_type": "markdown",
   "id": "35192dd7",
   "metadata": {},
   "source": [
    "### <span style=\"color:LightGreen\">Matching Shapes for MultiHead Attention</span>"
   ]
  },
  {
   "cell_type": "markdown",
   "id": "7f1e31b3-aa96-41ac-ad7d-31f4decf075b",
   "metadata": {},
   "source": [
    "So we now have our attention mask and know how to mask the columns cooresponding to them. But we have one other problem: Multi Head Attention. This means we don't have just a single attention matrix, but rather ```num_heads``` of them. This means we need to mask the corresponding columns of <span style=\"color:Violet\">ALL</span> attention matricies across the heads. Lets take a quick look at our tensors in question again:\n",
    "\n",
    "```attn.shape``` - (Batch x num_heads x seq_len x seq_len)\n",
    "\n",
    "```mask.shape``` - (Batch x seq_len)\n",
    "\n",
    "This means we can do what we did earlier, just twice! We can take our mask and unsqueeze twice, and go from `Batch x seq_len` to `Batch x 1 x 1 x seq_len`, and this would be totally fine. Except again, when we do our [flash_attention](https://pytorch.org/docs/stable/generated/torch.nn.functional.scaled_dot_product_attention.html) later, it again expects a `seq_len x seq_len`. Luckily though, flash attention will broadcast over the head dimension as long as that dimension is present in the mask, so we just have to do what we did earlier and repeat `Batch x 1 x 1 x seq_len` to `Batch x 1 x seq_len x seq_len`."
   ]
  },
  {
   "cell_type": "code",
   "execution_count": 10,
   "id": "6c018be7-92d7-471e-86f1-19079eca9217",
   "metadata": {},
   "outputs": [
    {
     "name": "stdout",
     "output_type": "stream",
     "text": [
      "Method 1:\n",
      "--------\n",
      "tensor([[[[ True,  True,  True,  True, False, False]]]])\n",
      "tensor([[[[0.4502, 0.4681, 0.3192, 0.6109,   -inf,   -inf],\n",
      "          [0.8668, 0.0899, 0.7930, 0.7684,   -inf,   -inf],\n",
      "          [0.6498, 0.2491, 0.8711, 0.9962,   -inf,   -inf],\n",
      "          [0.9936, 0.9426, 0.4658, 0.4616,   -inf,   -inf],\n",
      "          [0.3343, 0.3867, 0.0966, 0.0596,   -inf,   -inf],\n",
      "          [0.5665, 0.5316, 0.8865, 0.6268,   -inf,   -inf]],\n",
      "\n",
      "         [[0.8691, 0.4049, 0.5839, 0.4622,   -inf,   -inf],\n",
      "          [0.3121, 0.0574, 0.0720, 0.6727,   -inf,   -inf],\n",
      "          [0.8972, 0.7221, 0.7368, 0.8762,   -inf,   -inf],\n",
      "          [0.5947, 0.8555, 0.8953, 0.3878,   -inf,   -inf],\n",
      "          [0.1727, 0.1827, 0.4982, 0.2055,   -inf,   -inf],\n",
      "          [0.9288, 0.4976, 0.4614, 0.9533,   -inf,   -inf]]]])\n",
      "Method 2:\n",
      "--------\n",
      "tensor([[[[ True,  True,  True,  True, False, False],\n",
      "          [ True,  True,  True,  True, False, False],\n",
      "          [ True,  True,  True,  True, False, False],\n",
      "          [ True,  True,  True,  True, False, False],\n",
      "          [ True,  True,  True,  True, False, False],\n",
      "          [ True,  True,  True,  True, False, False]]]])\n",
      "tensor([[[[0.4502, 0.4681, 0.3192, 0.6109,   -inf,   -inf],\n",
      "          [0.8668, 0.0899, 0.7930, 0.7684,   -inf,   -inf],\n",
      "          [0.6498, 0.2491, 0.8711, 0.9962,   -inf,   -inf],\n",
      "          [0.9936, 0.9426, 0.4658, 0.4616,   -inf,   -inf],\n",
      "          [0.3343, 0.3867, 0.0966, 0.0596,   -inf,   -inf],\n",
      "          [0.5665, 0.5316, 0.8865, 0.6268,   -inf,   -inf]],\n",
      "\n",
      "         [[0.8691, 0.4049, 0.5839, 0.4622,   -inf,   -inf],\n",
      "          [0.3121, 0.0574, 0.0720, 0.6727,   -inf,   -inf],\n",
      "          [0.8972, 0.7221, 0.7368, 0.8762,   -inf,   -inf],\n",
      "          [0.5947, 0.8555, 0.8953, 0.3878,   -inf,   -inf],\n",
      "          [0.1727, 0.1827, 0.4982, 0.2055,   -inf,   -inf],\n",
      "          [0.9288, 0.4976, 0.4614, 0.9533,   -inf,   -inf]]]])\n"
     ]
    }
   ],
   "source": [
    "### Create an example attention matrix (b x h x n x n) ###\n",
    "rand_attn = torch.rand(1,2,6,6) # I have 2 heads here!\n",
    "\n",
    "### Create Attention Mask in the shape (b x n) ###\n",
    "attention_mask = torch.tensor([1,1,1,1,0,0]).unsqueeze(0).bool()\n",
    "\n",
    "print(\"Method 1:\")\n",
    "print(\"--------\")\n",
    "### Add Two Extra Dimension for the (b x h x n x n) ###\n",
    "### So unsqueeze mask to be (b x 1 x 1 x n) ###\n",
    "attention_mask = attention_mask.unsqueeze(1).unsqueeze(1)\n",
    "\n",
    "### Unsqueezed with dummy broadcast dimension ###\n",
    "print(attention_mask)\n",
    "print(rand_attn.masked_fill_(~attention_mask, float(\"-inf\")))\n",
    "\n",
    "print(\"Method 2:\")\n",
    "print(\"--------\")\n",
    "### Repeat the Dummy Dimension for seq_len so attention mask is (b 1 x n x n) ###\n",
    "attention_mask = attention_mask.repeat(1,1,6,1) # repeat dummy middle dim 6 times (for the seq_len) \n",
    "print(attention_mask)\n",
    "print(rand_attn.masked_fill_(~attention_mask, float(\"-inf\")))"
   ]
  },
  {
   "cell_type": "markdown",
   "id": "29925ec0-1496-4808-acda-df96ae9a9ff1",
   "metadata": {},
   "source": [
    "You can obviously pick whichever method you want, but because we want to use flash attention later, lets go with their requirements!"
   ]
  },
  {
   "cell_type": "code",
   "execution_count": 11,
   "id": "20c1e5ee-3dce-4ddd-a6ed-d211bcdf2021",
   "metadata": {},
   "outputs": [
    {
     "name": "stdout",
     "output_type": "stream",
     "text": [
      "Attention Mask:\n",
      "tensor([[ True,  True,  True, False, False],\n",
      "        [ True,  True,  True,  True,  True],\n",
      "        [ True,  True,  True,  True, False]])\n",
      "Final Output: torch.Size([3, 5, 9])\n"
     ]
    }
   ],
   "source": [
    "class SelfAttention(nn.Module):\n",
    "    \"\"\"\n",
    "    Self Attention Proposed in `Attention is All  You Need` - https://arxiv.org/abs/1706.03762\n",
    "    \"\"\"\n",
    "    \n",
    "    def __init__(self,\n",
    "                 embed_dim=768,\n",
    "                 num_heads=12, \n",
    "                 attn_p=0,\n",
    "                 proj_p=0):\n",
    "        \"\"\"\n",
    "        \n",
    "        Args:\n",
    "            embed_dim: Transformer Embedding Dimension\n",
    "            num_heads: Number of heads of computation for Attention \n",
    "            attn_p: Probability for Dropout2d on Attention cube\n",
    "            proj_p: Probability for Dropout on final Projection\n",
    "        \"\"\"\n",
    "        \n",
    "        super(SelfAttention, self).__init__()\n",
    "\n",
    "        ### Make Sure Embed Dim is Divisible by Num Heads ###\n",
    "        assert embed_dim % num_heads == 0\n",
    "        self.num_heads = num_heads\n",
    "        self.head_dim = int(embed_dim / num_heads)\n",
    "        \n",
    "        ### Define all our Projections ###\n",
    "        self.q_proj = nn.Linear(embed_dim, embed_dim)\n",
    "        self.k_proj = nn.Linear(embed_dim, embed_dim)\n",
    "        self.v_proj = nn.Linear(embed_dim, embed_dim)\n",
    "        self.attn_drop = nn.Dropout(attn_p)\n",
    "\n",
    "        ### Define Post Attention Projection ###\n",
    "        self.proj = nn.Linear(embed_dim, embed_dim)\n",
    "        self.proj_drop = nn.Dropout(proj_p)\n",
    "        \n",
    "    def forward(self, x, attention_mask=None):\n",
    "        \n",
    "        batch, seq_len, embed_dim = x.shape\n",
    "\n",
    "        ### Compute Q, K, V Projections,and Reshape/Permute to [Batch x Num Heads x Seq Len x Head Dim] \n",
    "        q = self.q_proj(x).reshape(batch, seq_len, self.num_heads, self.head_dim).transpose(1,2).contiguous()\n",
    "        k = self.k_proj(x).reshape(batch, seq_len, self.num_heads, self.head_dim).transpose(1,2).contiguous()\n",
    "        v = self.v_proj(x).reshape(batch, seq_len, self.num_heads, self.head_dim).transpose(1,2).contiguous()\n",
    "        \n",
    "        ### Perform Attention Computation ###\n",
    "        attn = (q @ k.transpose(-2,-1)) * (self.head_dim ** -0.5)\n",
    "\n",
    "        ####################################################################################\n",
    "        ### FILL ATTENTION MASK WITH -Infinity ###\n",
    "\n",
    "        ### NOTE: \n",
    "        ### attn.shape - (Batch x num_heads x seq_len x seq_len)\n",
    "        ### mask.shape - (Batch x seq_len)\n",
    "\n",
    "        if attention_mask is not None:\n",
    "\n",
    "            attention_mask = attention_mask.unsqueeze(1).unsqueeze(1).repeat(1,1,seq_len,1)\n",
    "            attn = attn.masked_fill(~attention_mask, float('-inf'))\n",
    "            \n",
    "        ####################################################################################\n",
    " \n",
    "        attn = attn.softmax(dim=-1)\n",
    "        attn = self.attn_drop(attn)\n",
    "        x = attn @ v\n",
    "        \n",
    "        ### Bring Back to [Batch x Seq Len x Embed Dim] ###\n",
    "        x = x.transpose(1,2).reshape(batch, seq_len, embed_dim)\n",
    "\n",
    "        ### Pass through Projection so Heads get to know each other ###\n",
    "        x = self.proj(x)\n",
    "        x = self.proj_drop(x)\n",
    "        \n",
    "        return x\n",
    "\n",
    "\n",
    "### We will now have sequences of different lengths, identify the number of tokens in each sequence ###\n",
    "seq_lens = [3,5,4]\n",
    "embed_dim = 9\n",
    "num_heads = 3\n",
    "a = SelfAttention(embed_dim, num_heads)\n",
    "\n",
    "### Create a random tensor in the shape (Batch x Seq Len x Embed Dim) ###\n",
    "### This will be a tensor upto the max(seq_lens) ###\n",
    "rand = torch.randn(len(seq_lens),max(seq_lens),embed_dim)\n",
    "\n",
    "### Create Attention Mask from the seq_lens (shortest sequences padded to the longest ###\n",
    "masks = torch.nn.utils.rnn.pad_sequence([torch.ones(l) for l in seq_lens], batch_first=True, padding_value=0).bool()\n",
    "print(\"Attention Mask:\")\n",
    "print(masks)\n",
    "\n",
    "### Pass through MHA ###\n",
    "output = a(rand, attention_mask=masks)\n",
    "print(\"Final Output:\", output.shape)"
   ]
  },
  {
   "cell_type": "markdown",
   "id": "413839ff",
   "metadata": {},
   "source": [
    "### <span style=\"color:LightGreen\">Enforcing Causality</span>"
   ]
  },
  {
   "cell_type": "markdown",
   "id": "6d173bbc",
   "metadata": {},
   "source": [
    "Everything we have done so far is an <span style=\"color:Violet\">encoding transformer</span>, which is eqivalent to a bidirectional RNN where a single timestep can look both forwards and backwards. To enforce causality, we can only look backwards, so we have to add in a causal mask in exactly the same way we described before. "
   ]
  },
  {
   "cell_type": "markdown",
   "id": "62c87dca",
   "metadata": {},
   "source": [
    "### <span style=\"color:LightGreen\">Computing the Reweighted Causal Attention Mask</span>"
   ]
  },
  {
   "cell_type": "markdown",
   "id": "e8272982",
   "metadata": {},
   "source": [
    "Lets pretend the raw outputs of $QK^T$, before the softmax, is below:\n",
    "\n",
    "\\begin{equation}\n",
    "\\begin{bmatrix}\n",
    "  7       & -8   & 6  \\\\\n",
    "  -3       & 2   & 4   \\\\\n",
    "  1       & 6  & -2   \\\\\n",
    "\\end{bmatrix}\n",
    "\\end{equation}\n",
    "\n",
    "Remember, the equation for softmax is:\n",
    "\n",
    "$$\\text{Softmax}(\\vec{x}) = \\frac{e^{x_i}}{\\sum_{j=1}^N{e^{x_j}}}$$\n",
    "\n",
    "Then, we can compute softmax for row of the matrix above:\n",
    "\n",
    "\\begin{equation}\n",
    "\\text{Softmax}\n",
    "\\begin{bmatrix}\n",
    "  7       & -8   & 6  \\\\\n",
    "  -3       & 2   & 4   \\\\\n",
    "  1       & 6  & -2   \\\\\n",
    "\\end{bmatrix} = \n",
    "\\begin{bmatrix}\n",
    "  \\frac{e^{7}}{e^{7}+e^{-8}+e^{6}}       & \\frac{e^{-8}}{e^{7}+e^{-8}+e^{6}}   & \\frac{e^{6}}{e^{7}+e^{-8}+e^{6}}  \\\\\n",
    "  \\frac{e^{-3}}{e^{-3}+e^{2}+e^{4}}       & \\frac{e^{2}}{e^{-3}+e^{2}+e^{4}}   & \\frac{e^{4}}{e^{-3}+e^{2}+e^{4}}  \\\\\n",
    "  \\frac{e^{1}}{e^{1}+e^{6}+e^{-2}}       & \\frac{e^{6}}{e^{1}+e^{6}+e^{-2}}   & \\frac{e^{-2}}{e^{1}+e^{6}+e^{-2}}  \\\\\n",
    "\\end{bmatrix} = \n",
    "\\begin{bmatrix}\n",
    "  0.73       & 0.0000002   & 0.27   \\\\\n",
    "  0.0008       & 0.12   & 0.88 \\\\\n",
    "  0.007       & 0.99  & 0.003  \\\\\n",
    "\\end{bmatrix}\n",
    "\\end{equation}\n",
    "\n",
    "But, what we want, is the top triangle to have weights of 0, and the rest adding up to 1. So lets take the second vector in the matrix above to see how we can do that. \n",
    "\n",
    "$$ \\Large\n",
    "x_2 = [-3, 2, 4]\n",
    "$$\n",
    "\n",
    "Because this is the second vector, we need to zero out the softmax output for everything after the second index (so in our case just the last value). Lets replace the value 4 by $-\\infty$. Then we can write it as:\n",
    "\n",
    "$$ \\Large\n",
    "x_2 = [-3, 2, -\\infty]\n",
    "$$\n",
    "\n",
    "Lets now take softmax of this vector!\n",
    "\n",
    "$$ \\Large\n",
    "\\text{Softmax}(x_2) = [\\frac{e^{-3}}{e^{-3}+e^{2}+e^{-\\infty}}, \\frac{e^{2}}{e^{-3}+e^{2}+e^{-\\infty}}, \\frac{e^{-\\infty}}{e^{-3}+e^{2}+e^{-\\infty}}]\n",
    "$$\n",
    "\n",
    "Remember, $e^{-\\infty}$ is equal to 0, so we can solve solve this!\n",
    "\n",
    "$$ \\large\n",
    "\\text{Softmax}(x_2) = [\\frac{e^{-3}}{e^{-3}+e^{2}+0}, \\frac{e^{2}}{e^{-3}+e^{2}+0}, \\frac{0}{e^{-3}+e^{2}+0}] = [\\frac{e^{-3}}{e^{-3}+e^{2}+0}, \\frac{e^{2}}{e^{-3}+e^{2}+0}, \\frac{0}{e^{-3}+e^{2}+0}] = [0.0067, 0.9933, 0.0000]\n",
    "$$\n",
    "\n",
    "So we have exactly what we want! The attention weight of the last value is set to 0, so when we are on the second vector $x_2$, we cannot look forward to the future value vectors $v_3$, and the remaining parts add up to 1 so its still a probability vector! To do this correctly for the entire matrix, we can just substitute in the top triangle of $QK^T$ with $-\\infty$. This would look like:\n",
    "\n",
    "\\begin{equation}\n",
    "\\begin{bmatrix}\n",
    "  7       & -\\infty   & -\\infty  \\\\\n",
    "  -3       & 2   & -\\infty   \\\\\n",
    "  1       & 6  & -2   \\\\\n",
    "\\end{bmatrix}\n",
    "\\end{equation}\n",
    "\n",
    "Taking the softmax of the rows of this matrix then gives:\n",
    "\n",
    "\\begin{equation}\n",
    "\\text{Softmax}\n",
    "\\begin{bmatrix}\n",
    "  7       & -\\infty   & -\\infty  \\\\\n",
    "  -3       & 2   & -\\infty   \\\\\n",
    "  1       & 6  & -2   \\\\\n",
    "\\end{bmatrix} = \n",
    "\\begin{bmatrix}\n",
    "  1       & 0   & 0  \\\\\n",
    "  0.0067  & 0.9933 & 0   \\\\\n",
    "  0.007       & 0.99  & 0.003   \\\\\n",
    "\\end{bmatrix}\n",
    "\\end{equation}\n",
    "\n",
    "Therefore, the best way to apply out attention mask is by filling the top right triangle with $-\\inf$ and then take the softmax! So lets go ahead and add an option for causality for our attention function we wrote above!"
   ]
  },
  {
   "cell_type": "markdown",
   "id": "fae0b0e0",
   "metadata": {},
   "source": [
    "### <span style=\"color:LightGreen\">Attention Mask</span>"
   ]
  },
  {
   "cell_type": "markdown",
   "id": "f7cafc27",
   "metadata": {},
   "source": [
    "Again, we may have a causal mask, but that doesn't mean we dont also have an attention mask! Regardless of causality, we want to ensure that tokens never attend to pad tokens. Lets say we have a sequence of 8, but the last 4 tokens are pad tokens, then this would look like this:"
   ]
  },
  {
   "cell_type": "code",
   "execution_count": 12,
   "id": "a1a6b93d-b221-447f-8ee0-0902d861f902",
   "metadata": {},
   "outputs": [
    {
     "data": {
      "text/plain": [
       "tensor([[ True, False, False, False, False, False, False, False],\n",
       "        [ True,  True, False, False, False, False, False, False],\n",
       "        [ True,  True,  True, False, False, False, False, False],\n",
       "        [ True,  True,  True,  True, False, False, False, False],\n",
       "        [ True,  True,  True,  True, False, False, False, False],\n",
       "        [ True,  True,  True,  True, False, False, False, False],\n",
       "        [ True,  True,  True,  True, False, False, False, False],\n",
       "        [ True,  True,  True,  True, False, False, False, False]])"
      ]
     },
     "execution_count": 12,
     "metadata": {},
     "output_type": "execute_result"
    }
   ],
   "source": [
    "seq_len = 8\n",
    "\n",
    "### Create Causal Mask ###\n",
    "ones = torch.ones((seq_len, seq_len))\n",
    "causal_mask = torch.tril(ones).bool()\n",
    "\n",
    "### Create Padding Mask ###\n",
    "padding_mask = torch.tensor([1,1,1,1,0,0,0,0]).bool()\n",
    "padding_mask = padding_mask.unsqueeze(0).repeat(seq_len,1)\n",
    "\n",
    "### Combine Masks (set positions we dont want in our causal mask to False based on the padding mask) ###\n",
    "causal_mask = causal_mask.masked_fill(~padding_mask, 0)\n",
    "causal_mask"
   ]
  },
  {
   "cell_type": "markdown",
   "id": "9ec7bd14-6852-4fb4-87b9-cb9c1a138ac1",
   "metadata": {},
   "source": [
    "As you can see here, we have our causal attention mask as described earlier where the top right triangle is masked out, but for tokens that were pad tokens, the full column is masked out!"
   ]
  },
  {
   "cell_type": "markdown",
   "id": "f57d15c4",
   "metadata": {},
   "source": [
    "### <span style=\"color:LightGreen\">Lets Incorporate the Causal Mask into Self-Attention</span>"
   ]
  },
  {
   "cell_type": "code",
   "execution_count": 13,
   "id": "408e1226-8c45-4e20-a0d0-121ddf3cc3bf",
   "metadata": {},
   "outputs": [
    {
     "name": "stdout",
     "output_type": "stream",
     "text": [
      "Attention Mask:\n",
      "tensor([[ True,  True,  True, False, False],\n",
      "        [ True,  True,  True,  True,  True],\n",
      "        [ True,  True,  True,  True, False]])\n",
      "Final Output: torch.Size([3, 5, 9])\n"
     ]
    }
   ],
   "source": [
    "class SelfAttention(nn.Module):\n",
    "    \"\"\"\n",
    "    Self Attention Proposed in `Attention is All  You Need` - https://arxiv.org/abs/1706.03762\n",
    "    \"\"\"\n",
    "    \n",
    "    def __init__(self,\n",
    "               embed_dim=768,\n",
    "               num_heads=12, \n",
    "               attn_p=0,\n",
    "               proj_p=0,\n",
    "               causal=False):\n",
    "        \"\"\"\n",
    "        \n",
    "        Args:\n",
    "            embed_dim: Transformer Embedding Dimension\n",
    "            num_heads: Number of heads of computation for Attention \n",
    "            attn_p: Probability for Dropout2d on Attention cube\n",
    "            proj_p: Probability for Dropout on final Projection\n",
    "            causal: Do you want to apply a causal mask?\n",
    "        \"\"\"\n",
    "        \n",
    "        super(SelfAttention, self).__init__()\n",
    "\n",
    "        ### Make Sure Embed Dim is Divisible by Num Heads ###\n",
    "        assert embed_dim % num_heads == 0\n",
    "        self.num_heads = num_heads\n",
    "        self.head_dim = int(embed_dim / num_heads)\n",
    "        self.causal = causal\n",
    "        \n",
    "        ### Define all our Projections ###\n",
    "        self.q_proj = nn.Linear(embed_dim, embed_dim)\n",
    "        self.k_proj = nn.Linear(embed_dim, embed_dim)\n",
    "        self.v_proj = nn.Linear(embed_dim, embed_dim)\n",
    "        self.attn_drop = nn.Dropout(attn_p)\n",
    "\n",
    "        ### Define Post Attention Projection ###\n",
    "        self.proj = nn.Linear(embed_dim, embed_dim)\n",
    "        self.proj_drop = nn.Dropout(proj_p)\n",
    "        \n",
    "    def forward(self, x, attention_mask=None):\n",
    "        \n",
    "        batch, seq_len, embed_dim = x.shape\n",
    "\n",
    "        ### Compute Q, K, V Projections,and Reshape/Permute to [Batch x Num Heads x Seq Len x Head Dim] \n",
    "        q = self.q_proj(x).reshape(batch, seq_len, self.num_heads, self.head_dim).transpose(1,2).contiguous()\n",
    "        k = self.k_proj(x).reshape(batch, seq_len, self.num_heads, self.head_dim).transpose(1,2).contiguous()\n",
    "        v = self.v_proj(x).reshape(batch, seq_len, self.num_heads, self.head_dim).transpose(1,2).contiguous()\n",
    "        \n",
    "        ### Perform Attention Computation ###\n",
    "        attn = (q @ k.transpose(-2,-1)) * (self.head_dim ** -0.5)\n",
    "\n",
    "        if self.causal:\n",
    "            ####################################################################################\n",
    "            ### Create the Causal Mask (On the correct device) ###\n",
    "\n",
    "            ### Create a Seq_Len x Seq_Len tensor full of Ones\n",
    "            ones = torch.ones((seq_len, seq_len), device=attn.device)\n",
    "            \n",
    "            ### Fill Top right triangle with Zeros (as we dont want to attend to them) ###\n",
    "            causal_mask = torch.tril(ones) \n",
    "\n",
    "            ### Add extra dimensions for Batch size and Number of Heads ###\n",
    "            causal_mask = causal_mask.reshape(1,1,seq_len,seq_len).bool()\n",
    "\n",
    "            ### If we have padding mask, then update our causal mask ###\n",
    "            if attention_mask is not None:\n",
    "\n",
    "                ### Each sample could have a different number of pad tokens, so repeat causal mask for batch size ###\n",
    "                causal_mask = causal_mask.repeat(batch, 1, 1, 1)\n",
    "\n",
    "                ### Expand and repeat the Padding Mask (b x s) -> (b x 1 x s x s)###\n",
    "                attention_mask = attention_mask.unsqueeze(1).unsqueeze(1).repeat(1,1,seq_len,1)\n",
    "\n",
    "                ### Fill causal mask where attention mask is False with False (to ensure all padding tokens are masked out) ###\n",
    "                causal_mask = causal_mask.masked_fill(~attention_mask, False)\n",
    "\n",
    "            ### Fill attn with -inf wherever causal mask is False ###\n",
    "            attn = attn.masked_fill(~causal_mask, float('-inf'))\n",
    "\n",
    "        ####################################################################################\n",
    "    \n",
    "        attn = attn.softmax(dim=-1)\n",
    "        attn = self.attn_drop(attn)\n",
    "        x = attn @ v\n",
    "        \n",
    "        ### Bring Back to [Batch x Seq Len x Embed Dim] ###\n",
    "        x = x.transpose(1,2).reshape(batch, seq_len, embed_dim)\n",
    "\n",
    "        ### Pass through Projection so Heads get to know each other ###\n",
    "        x = self.proj(x)\n",
    "        x = self.proj_drop(x)\n",
    "        \n",
    "        return x\n",
    "\n",
    "### We will now have sequences of different lengths, identify the number of tokens in each sequence ###\n",
    "seq_lens = [3,5,4]\n",
    "embed_dim = 9\n",
    "num_heads = 3\n",
    "a = SelfAttention(embed_dim, num_heads, causal=True)\n",
    "\n",
    "### Create a random tensor in the shape (Batch x Seq Len x Embed Dim) ###\n",
    "### This will be a tensor upto the max(seq_lens) ###\n",
    "rand = torch.randn(len(seq_lens),max(seq_lens),embed_dim)\n",
    "\n",
    "### Create Attention Mask from the seq_lens (shortest sequences padded to the longest ###\n",
    "masks = torch.nn.utils.rnn.pad_sequence([torch.ones(l) for l in seq_lens], batch_first=True, padding_value=0).bool()\n",
    "print(\"Attention Mask:\")\n",
    "print(masks)\n",
    "\n",
    "### Pass through MHA ###\n",
    "output = a(rand, attention_mask=masks)\n",
    "print(\"Final Output:\", output.shape)"
   ]
  },
  {
   "cell_type": "markdown",
   "id": "b27b1266",
   "metadata": {},
   "source": [
    "## <span style=\"color:Orange\">Cross Attention</span>"
   ]
  },
  {
   "cell_type": "markdown",
   "id": "76a19f68-bdc3-4e35-9ef6-926f5aba59f6",
   "metadata": {},
   "source": [
    "We have talked about Self-Attention so far, where a model looks at a sequence and tries to learn how every word in that sequence is related to itself. This is totally fine if we are just dealing with that sequence (BERT/GPT), but what if we are translating between two different sequences? For example, the original [Attention is All You Need](https://arxiv.org/pdf/1706.03762) paper was about Neural Machine Translation. So if we are doing English to French generation, we don't only care about how english tokens are related english, and how french tokens are related to french, we also need to learn how english tokens are related to french.\n",
    "\n",
    "Luckily this isn't too bad or different from what we have done so far but we have some new complexities:\n",
    "\n",
    "1) English will have a different length than French (this means our attention matricies of how each english token is related to french is no longer a square!)\n",
    "\n",
    "2) We still train in batches, so we will have a batch of english and a batch of french. This also means that the enlish tokens will have padding, but the french tokens will have its own padding, and they can be totally different from each other!"
   ]
  },
  {
   "cell_type": "markdown",
   "id": "ba112fd3",
   "metadata": {},
   "source": [
    "### <span style=\"color:LightGreen\">Cross Attention Queries, Keys and Values</span>"
   ]
  },
  {
   "cell_type": "markdown",
   "id": "d6b9f9a2",
   "metadata": {},
   "source": [
    "\n",
    "So the first question, before we had some data that we projected to our Queries, Keys and Values. But now we have two sources of data, English and French. Lets pretend we are translating from English to French. This means to understand how the French is related to the English to inform generating the French we will set the Queries as the projection of our French Embeddings and the Keys/Values as the projection of our English Embeddings. Typically, we set the queries to the thing we care about (what we want to produce), and they keys/values to what we want to relate it to. \n",
    "\n",
    "We can think about this in another way as well: Lets say we are doing Text to Image Generation. Again, because we have two sources we are translating between, we can use <span style=\"color:Violet\">Cross Attention</span>. Attention will tell us how pieces of our image are related to the text embeddings. In the end we want the image, so we can set them to the queries, and then the text will be the keys/values, which will be how we want to weight the relation between the image pieces and our text tokens. \n"
   ]
  },
  {
   "cell_type": "markdown",
   "id": "c45142fa",
   "metadata": {},
   "source": [
    "### <span style=\"color:LightGreen\">Tensor Shapes for Cross Attention</span>"
   ]
  },
  {
   "cell_type": "markdown",
   "id": "3ba3ee1a",
   "metadata": {},
   "source": [
    "We spent a lot of time understanding the tensor shapes for self-attention, lets do the same thing now for cross attention. We will be using our English to French translation example for this, so lets start with producing our Queries/Keys/Values:"
   ]
  },
  {
   "cell_type": "markdown",
   "id": "6936b67e",
   "metadata": {},
   "source": [
    "<div>\n",
    "<img src=\"https://github.com/priyammaz/PyTorch-Adventures/blob/main/src/visuals/cross_atttenion_qkv.png?raw=true\" width=\"600\"/>\n",
    "</div>"
   ]
  },
  {
   "cell_type": "markdown",
   "id": "a1f16949",
   "metadata": {},
   "source": [
    "\n",
    "Lets pretend we have an input of French embeddings with $N$ tokens (with an embedding dimension of $E$) and then also English Embeddings with $L$ tokens (again with an embedding dimension of $E$). Again, because the French is what we want, we will project our French embeddings to be our Queries, and then our English Embeddings to our Keys/Values.\n",
    "\n",
    "- French Query Embeddings: `B x N x E`\n",
    "\n",
    "- English Key Embeddings: `B x L x E`\n",
    "\n",
    "- English Value Embeddings: `B x L x E`"
   ]
  },
  {
   "cell_type": "markdown",
   "id": "6a9c99aa",
   "metadata": {},
   "source": [
    "### <span style=\"color:LightGreen\">Performing the Attention Computation</span>"
   ]
  },
  {
   "cell_type": "markdown",
   "id": "c4a1297c",
   "metadata": {},
   "source": [
    "Nothing changes with our attention formula as described. This attention computation is identical to earlier, its just because our Queries is of length $N$ and the Keys are of length $L$, our final attention matrix will be an (B x N x L) matrix."
   ]
  },
  {
   "cell_type": "markdown",
   "id": "d95836a9",
   "metadata": {},
   "source": [
    "<div>\n",
    "<img src=\"https://github.com/priyammaz/PyTorch-Adventures/blob/main/src/visuals/cross_attention_matmul.png?raw=true\" width=\"600\"/>\n",
    "</div>"
   ]
  },
  {
   "cell_type": "markdown",
   "id": "6b0747b6",
   "metadata": {},
   "source": [
    "\n",
    "We can take a closer look at our attention matrix now as well, and we see that it isn't a square matrix anymore, but it still does the same thing: How are each French token related to each English token?\n"
   ]
  },
  {
   "cell_type": "markdown",
   "id": "7d063edc",
   "metadata": {},
   "source": [
    "<div>\n",
    "<img src=\"https://github.com/priyammaz/PyTorch-Adventures/blob/main/src/visuals/cross_attention_mat_vals.png?raw=true\" width=\"600\"/>\n",
    "</div>"
   ]
  },
  {
   "cell_type": "markdown",
   "id": "d3671645",
   "metadata": {},
   "source": [
    "### <span style=\"color:LightGreen\">THE MOST IMPORTANT PART!!!</span>"
   ]
  },
  {
   "cell_type": "markdown",
   "id": "71cfd1b3",
   "metadata": {},
   "source": [
    "\n",
    "Once our attention matrix `B x N x L` is computed, we can again multiply it by our Values matrix which is also from our English embeddings, so we are multiplying a `B x N x L` by a `B x L x E`, producing the final output of `B x N x E`! Why does this matter? Because our original French was also `B x N x E`! Remember, our attention computation told us how every French token is related to every English token. Then, the output of our full attention computation does the weighted average, so our new `B x N x E` is the weighted average of those english tokens. Lets see what that looks like:"
   ]
  },
  {
   "cell_type": "markdown",
   "id": "91f84554",
   "metadata": {},
   "source": [
    "<div>\n",
    "<img src=\"https://github.com/priyammaz/PyTorch-Adventures/blob/main/src/visuals/cross_attention_weight_by_val.png?raw=true\" width=\"600\"/>\n",
    "</div>"
   ]
  },
  {
   "cell_type": "markdown",
   "id": "84ebdf51",
   "metadata": {},
   "source": [
    "### <span style=\"color:LightGreen\">Basically Nothing Changed</span>"
   ]
  },
  {
   "cell_type": "markdown",
   "id": "2beb876b",
   "metadata": {},
   "source": [
    "\n",
    "Nothing really changed in the end! Cross Attention is just attention between two different sequences rather than than one sequence to itself. This means we also have multihead attention (although I didn't draw it), so nothing changes at all. Cross Attention is <span style=\"color:Violet\">ALWAYS</span> an encoder, not autoregressive. It doesnt make sense to have a causal mask here because one sequence can look at the entirety of the other (i.e. our input english can look at all of the generated french). But there is one more caveat:"
   ]
  },
  {
   "cell_type": "markdown",
   "id": "c13bfd86",
   "metadata": {},
   "source": [
    "### <span style=\"color:LightGreen\">Padding on English and French</span>"
   ]
  },
  {
   "cell_type": "markdown",
   "id": "2bc1cdda",
   "metadata": {},
   "source": [
    "\n",
    "We are now training a language translation model, this means that when we batch data, both english and french can be padded, and they can be differently padded. For example lets say we have the following data (pairs of english and french tokens)\n",
    "\n",
    "- English: [a1, a2, a3, a4], French: [b1, b2, b3, b4, b5]\n",
    "- English: [c1, c2, c3], French: [d1, d2]\n",
    "\n",
    "This means, when we batch the english we have to pad the sequence of length 3 to the sequence of length 4.\n",
    "\n",
    "- [a1, a2, a3, a4]\n",
    "- [c1, c2, c3, **<span style=\"color:Blue\">\\<PAD></span>**]\n",
    "\n",
    "And similarly, when we batch the french, we have to pad the sequence of length 2 to the sequence of length 5.\n",
    "\n",
    "- [b1, b2, b3, b4, b5]\n",
    "- [d1, d2, **<span style=\"color:Blue\">\\<PAD></span>**, **<span style=\"color:Blue\">\\<PAD></span>**, **<span style=\"color:Blue\">\\<PAD></span>**]\n",
    "\n",
    "So we have padding on both dimensions, but again nothing changes. Remember before (in self attention), when we have pad tokens we just zeroed out the columns of the cooresponding pad tokens. But really, we are zeroing out the <span style=\"color:Violet\">Keys</span> columns. We want to make sure that when we learn how the French is related to the English, that the French is <span style=\"color:Violet\">not looking at English Pad Tokens</span>. It is ok though for French pad tokens to look at English. (i.e. the Query pad tokens can look at the keys, but the Query non-pad tokens should not look at the Key pad tokens). This is what this would again look like:\n"
   ]
  },
  {
   "cell_type": "markdown",
   "id": "ad85467a",
   "metadata": {},
   "source": [
    "<div>\n",
    "<img src=\"https://github.com/priyammaz/PyTorch-Adventures/blob/main/src/visuals/cross_attention_padding.png?raw=true\" width=\"800\"/>\n",
    "</div>"
   ]
  },
  {
   "cell_type": "markdown",
   "id": "ec5acc5b",
   "metadata": {},
   "source": [
    "\n",
    "As we can see here, all French tokens (french padding included) can look at all non-padding english tokens. This is identical to what we did before, its just now our attention matrix just isn't square."
   ]
  },
  {
   "cell_type": "markdown",
   "id": "fdf47147",
   "metadata": {},
   "source": [
    "## <span style=\"color:Orange\">Implementing Cross Attention</span>"
   ]
  },
  {
   "cell_type": "markdown",
   "id": "aba2a90e",
   "metadata": {},
   "source": [
    "\n",
    "Implementing Cross Attention shouldn't be all that different from before. There is no causality here, so we only have to keep an eye on the attention mask. We will have two attention masks now, one for the english and another for the french. But when doing English to French Translation, we really just care about the English padding mask, so we can remove those columns from our attention computation. We do need the French padding mask though when we are doing french self-attention, but lets focus on the Cross Attention now\n",
    "\n",
    "In this implementation, we will be passing in both a ```src``` (our English) and ```tgt``` (our French)."
   ]
  },
  {
   "cell_type": "markdown",
   "id": "7761d983",
   "metadata": {},
   "source": [
    "### <span style=\"color:LightGreen\">Matching Shapes for MultiHead Attention</span>"
   ]
  },
  {
   "cell_type": "markdown",
   "id": "019f1e36",
   "metadata": {},
   "source": [
    "\n",
    "We again have our attention mask and need to do the reshapes and repeats to get it to the shape necessary to mask our attention computation! Lets take a look at our shapes for Cross Attention again.\n",
    "\n",
    "```attn.shape``` - (Batch x num_heads x french_seq_len x english_seq_len)\n",
    "\n",
    "```mask.shape``` - (Batch x english_seq_len)\n",
    "\n",
    "So just like before, we can take our mask, and add dimensions from `Batch x english_seq_len` to `Batch x 1 x 1 x english_seq_len` which would be enough, except our Flash Attention implementation will expect a `Batch x 1 x french_seq_len x english_seq_len`. So then we can take our `Batch x 1 x 1 x english_seq_len` and repeat the dummy 1 dimension which is a placeholder for the french_seq_len and repeat it french_seq_len times."
   ]
  },
  {
   "cell_type": "code",
   "execution_count": 14,
   "id": "1f9dbce2-adf9-46c3-94ee-065fe5730df1",
   "metadata": {},
   "outputs": [
    {
     "name": "stdout",
     "output_type": "stream",
     "text": [
      "English Attention Mask:\n",
      "tensor([[ True,  True,  True, False, False],\n",
      "        [ True,  True,  True,  True,  True],\n",
      "        [ True,  True,  True,  True, False]])\n",
      "French Attention Mask:\n",
      "tensor([[ True,  True,  True,  True,  True,  True,  True],\n",
      "        [ True,  True,  True,  True,  True,  True, False],\n",
      "        [ True,  True, False, False, False, False, False]])\n",
      "Final Output: torch.Size([3, 7, 18])\n"
     ]
    }
   ],
   "source": [
    "class CrossAttention(nn.Module):\n",
    "    \"\"\"\n",
    "    Cross Attention Proposed in `Attention is All  You Need` - https://arxiv.org/abs/1706.03762\n",
    "    \"\"\"\n",
    "    \n",
    "    def __init__(self,\n",
    "               embed_dim=768,\n",
    "               num_heads=12, \n",
    "               attn_p=0,\n",
    "               proj_p=0):\n",
    "        \"\"\"\n",
    "        \n",
    "        Args:\n",
    "            embed_dim: Transformer Embedding Dimension\n",
    "            num_heads: Number of heads of computation for Attention \n",
    "            attn_p: Probability for Dropout2d on Attention cube\n",
    "            proj_p: Probability for Dropout on final Projection\n",
    "        \"\"\"\n",
    "        \n",
    "        super(CrossAttention, self).__init__()\n",
    "\n",
    "        ### Make Sure Embed Dim is Divisible by Num Heads ###\n",
    "        assert embed_dim % num_heads == 0\n",
    "        self.num_heads = num_heads\n",
    "        self.head_dim = int(embed_dim / num_heads)\n",
    "        \n",
    "        ### Define all our Projections ###\n",
    "        self.q_proj = nn.Linear(embed_dim, embed_dim)\n",
    "        self.k_proj = nn.Linear(embed_dim, embed_dim)\n",
    "        self.v_proj = nn.Linear(embed_dim, embed_dim)\n",
    "        self.attn_drop = nn.Dropout(attn_p)\n",
    "\n",
    "        ### Define Post Attention Projection ###\n",
    "        self.proj = nn.Linear(embed_dim, embed_dim)\n",
    "        self.proj_drop = nn.Dropout(proj_p)\n",
    "        \n",
    "    def forward(self, src, tgt, attention_mask=None):\n",
    "        \n",
    "        batch, src_seq_len, embed_dim = src.shape\n",
    "        batch, tgt_seq_len, embed_dim = tgt.shape\n",
    "        \n",
    "        ### Compute Q (on our tgt French) ###\n",
    "        q = self.q_proj(tgt).reshape(batch, tgt_seq_len, self.num_heads, self.head_dim).transpose(1,2).contiguous()\n",
    "\n",
    "        ### Compute K, V (on src English) Projections ###\n",
    "        k = self.k_proj(src).reshape(batch, src_seq_len, self.num_heads, self.head_dim).transpose(1,2).contiguous()\n",
    "        v = self.v_proj(src).reshape(batch, src_seq_len, self.num_heads, self.head_dim).transpose(1,2).contiguous()\n",
    "        \n",
    "        ### Perform Attention Computation ###\n",
    "        attn = (q @ k.transpose(-2,-1)) * (self.head_dim ** -0.5)\n",
    "\n",
    "        ####################################################################################\n",
    "        ### FILL ATTENTION MASK WITH -Infinity ###\n",
    "\n",
    "        ### NOTE: \n",
    "        ### attn.shape - (Batch x num_heads x french_seq_len x english_seq_len)\n",
    "        ### mask.shape - (Batch x english_seq_len)\n",
    "\n",
    "        ### Need to expand mask (Batch x english_seq_len) -> (Batch x 1 x 1 x english_seq_len) -> (Batch x 1 x french_seq_len x english_seq_len)\n",
    "\n",
    "        if attention_mask is not None:\n",
    "            attention_mask = attention_mask.unsqueeze(1).unsqueeze(1).repeat(1,1,tgt_seq_len,1)\n",
    "            attn = attn.masked_fill(~attention_mask, float('-inf'))\n",
    "\n",
    "        ####################################################################################\n",
    "         \n",
    "        attn = attn.softmax(dim=-1)\n",
    "        attn = self.attn_drop(attn)\n",
    "        x = attn @ v\n",
    "        \n",
    "        ### Bring Back to [Batch x Seq Len x Embed Dim] ###\n",
    "        x = x.transpose(1,2).reshape(batch, tgt_seq_len, embed_dim)\n",
    "\n",
    "        ### Pass through Projection so Heads get to know each other ###\n",
    "        x = self.proj(x)\n",
    "        x = self.proj_drop(x)\n",
    "        \n",
    "        return x\n",
    "\n",
    "\n",
    "### We will now have sequences of different lengths, identify the number of tokens in each sequence ###\n",
    "english_seq_lens = [3,5,4]\n",
    "french_seq_lens = [7,6,2]\n",
    "\n",
    "embed_dim = 18\n",
    "num_heads = 3\n",
    "a = CrossAttention(embed_dim, num_heads)\n",
    "\n",
    "### Create random tensor in the shape (Batch x Seq Len x Embed Dim) for French and English ###\n",
    "### This will be a tensor upto the max(seq_lens) ###\n",
    "rand_english = torch.randn(len(english_seq_lens),max(english_seq_lens),embed_dim)\n",
    "rand_french = torch.randn(len(french_seq_lens),max(french_seq_lens),embed_dim)\n",
    "\n",
    "\n",
    "### Create Attention Mask from the seq_lens (shortest sequences padded to the longest ###\n",
    "english_masks = torch.nn.utils.rnn.pad_sequence([torch.ones(l) for l in english_seq_lens], batch_first=True, padding_value=0).bool()\n",
    "french_masks = torch.nn.utils.rnn.pad_sequence([torch.ones(l) for l in french_seq_lens], batch_first=True, padding_value=0).bool()\n",
    "\n",
    "print(\"English Attention Mask:\")\n",
    "print(english_masks)\n",
    "print(\"French Attention Mask:\")\n",
    "print(french_masks)\n",
    "\n",
    "### Pass through MHA ###\n",
    "output = a(src=rand_english, tgt=rand_french, attention_mask=english_masks)\n",
    "print(\"Final Output:\", output.shape)"
   ]
  },
  {
   "cell_type": "markdown",
   "id": "7275e70d",
   "metadata": {},
   "source": [
    "### <span style=\"color:LightGreen\">Flash Attention</span>"
   ]
  },
  {
   "cell_type": "markdown",
   "id": "aa65bfc4",
   "metadata": {},
   "source": [
    "\n",
    "Although our attention computations that we have done are completely correct, they are not the most efficient! [Flash Attention](https://github.com/Dao-AILab/flash-attention) is a highly optimized hardware aware attention implementation. Due to the structure of the attention computation you can actually opt for a faster tiled matrix multiplication that fuses the matrix multiplication, softmax and scaling into a single CUDA kernel. We were obviously doing this as separate steps, beacause we don't have that level of control in PyTorch over CUDA. The most expensive part of GPU operations is copying between global memory and GPU shared memory, and so by merging a bunch of operations together, we just get faster attention computations especially for long sequences. \n",
    "\n",
    "There are a few places we can access this, but the easiest for us is to use ```torch.scaled_dot_product_attention``` ([documentation](https://pytorch.org/docs/stable/generated/torch.nn.functional.scaled_dot_product_attention.html)\n",
    "\n",
    "This method allows us to pass in:\n",
    "\n",
    "- ```Queries```: (B x H x L x E)\n",
    "- ```Keys```: (B x H x S x E)\n",
    "- ```Values```: (B x H x S x E)\n",
    "- ```attn_mask```: (B x 1 x L x S)\n",
    "\n",
    "So as you can see, Flash Attention supports our ```Queries``` being different from ```Keys```/```Values``` as we saw in our Cross Attention implementation. In the case of self-attention $L = S$ which also isn't a problem. The only extra step on our end is to make sure our ```attn_mask``` is of shape (B x 1 x L x S), which means we have to do the extra repeat, as it wont automatically broadcast along the $L$ dimension if we left it as (B x 1 x 1 x S). Flash Attention also expects tokens we don't want to compute attention on to be ```False``` in the attention mask!\n",
    "\n",
    "The other option that is important it:\n",
    "- `is_causal`: True/False Boolean indicating if we want a causal mask. The method will apply the causal mask itself so we don't need to do it!\n"
   ]
  },
  {
   "cell_type": "markdown",
   "id": "8fe19ac9",
   "metadata": {},
   "source": [
    "### <span style=\"color:LightGreen\">Lets Add Flash Attention to our Self Attention</span>"
   ]
  },
  {
   "cell_type": "code",
   "execution_count": 15,
   "id": "0ab07fd2-827a-4085-80d6-d366249d7e95",
   "metadata": {},
   "outputs": [],
   "source": [
    "class SelfAttention(nn.Module):\n",
    "    \"\"\"\n",
    "    Self Attention Proposed in `Attention is All  You Need` - https://arxiv.org/abs/1706.03762\n",
    "    \"\"\"\n",
    "    \n",
    "    def __init__(self,\n",
    "                 embed_dim=768,\n",
    "                 num_heads=12, \n",
    "                 attn_p=0,\n",
    "                 proj_p=0,\n",
    "                 causal=False,\n",
    "                 fused_attn=True):\n",
    "        \"\"\"\n",
    "        \n",
    "        Args:\n",
    "            embed_dim: Transformer Embedding Dimension\n",
    "            num_heads: Number of heads of computation for Attention \n",
    "            attn_p: Probability for Dropout2d on Attention cube\n",
    "            proj_p: Probability for Dropout on final Projection\n",
    "            causal: Do you want to apply a causal mask?\n",
    "        \"\"\"\n",
    "        \n",
    "        super(SelfAttention, self).__init__()\n",
    "\n",
    "        ### Make Sure Embed Dim is Divisible by Num Heads ###\n",
    "        assert embed_dim % num_heads == 0\n",
    "        self.num_heads = num_heads\n",
    "        self.head_dim = int(embed_dim / num_heads)\n",
    "        self.causal = causal\n",
    "        self.fused = fused_attn\n",
    "        \n",
    "        ### Define all our Projections ###\n",
    "        self.q_proj = nn.Linear(embed_dim, embed_dim)\n",
    "        self.k_proj = nn.Linear(embed_dim, embed_dim)\n",
    "        self.v_proj = nn.Linear(embed_dim, embed_dim)\n",
    "        self.attn_drop = nn.Dropout(attn_p)\n",
    "\n",
    "        ### Define Post Attention Projection ###\n",
    "        self.proj = nn.Linear(embed_dim, embed_dim)\n",
    "        self.proj_drop = nn.Dropout(proj_p)\n",
    "        \n",
    "    def forward(self, x, attention_mask=None):\n",
    "        \n",
    "        batch, seq_len, embed_dim = x.shape\n",
    "\n",
    "        ### Compute Q, K, V Projections,and Reshape/Permute to [Batch x Num Heads x Seq Len x Head Dim] \n",
    "        q = self.q_proj(x).reshape(batch, seq_len, self.num_heads, self.head_dim).transpose(1,2).contiguous()\n",
    "        k = self.k_proj(x).reshape(batch, seq_len, self.num_heads, self.head_dim).transpose(1,2).contiguous()\n",
    "        v = self.v_proj(x).reshape(batch, seq_len, self.num_heads, self.head_dim).transpose(1,2).contiguous()\n",
    "\n",
    "        ### Use Flash Attention ###\n",
    "        if self.fused:\n",
    "\n",
    "            x = F.scaled_dot_product_attention(q,k,v,\n",
    "                                               is_causal=self.causal,\n",
    "                                               attn_mask=attention_mask)\n",
    "\n",
    "        else:\n",
    "        \n",
    "            ### Perform Attention Computation ###\n",
    "            attn = (q @ k.transpose(-2,-1)) * (self.head_dim ** -0.5)\n",
    "    \n",
    "            \n",
    "                \n",
    "            if self.causal:\n",
    "                ####################################################################################\n",
    "                ### Create the Causal Mask (On the correct device) ###\n",
    "    \n",
    "                ### Create a Seq_Len x Seq_Len tensor full of Ones\n",
    "                ones = torch.ones((seq_len, seq_len), device=attn.device)\n",
    "                \n",
    "                ### Fill Top right triangle with Zeros (as we dont want to attend to them) ###\n",
    "                causal_mask = torch.tril(ones) \n",
    "    \n",
    "                ### Add extra dimensions for Batch size and Number of Heads ###\n",
    "                causal_mask = causal_mask.reshape(1,1,seq_len,seq_len).bool()\n",
    "    \n",
    "                ### If we have padding mask, then update our causal mask ###\n",
    "                if attention_mask is not None:\n",
    "    \n",
    "                    ### Each sample could have a different number of pad tokens, so repeat causal mask for batch size ###\n",
    "                    causal_mask = causal_mask.repeat(batch, 1, 1, 1)\n",
    "    \n",
    "                    ### Expand and repeat the Padding Mask (b x s) -> (b x 1 x s x s)###\n",
    "                    attention_mask = attention_mask.unsqueeze(1).unsqueeze(1).repeat(1,1,seq_len,1)\n",
    "    \n",
    "                    ### Fill causal mask where attention mask is False with False (to ensure all padding tokens are masked out) ###\n",
    "                    causal_mask = causal_mask.masked_fill(~attention_mask, False)\n",
    "    \n",
    "                ### Fill attn with -inf wherever causal mask is False ###\n",
    "                attn = attn.masked_fill(~causal_mask, float('-inf'))\n",
    "    \n",
    "            ####################################################################################\n",
    "        \n",
    "            attn = attn.softmax(dim=-1)\n",
    "            attn = self.attn_drop(attn)\n",
    "            x = attn @ v\n",
    "        \n",
    "        ### Bring Back to [Batch x Seq Len x Embed Dim] ###\n",
    "        x = x.transpose(1,2).reshape(batch, seq_len, embed_dim)\n",
    "\n",
    "        ### Pass through Projection so Heads get to know each other ###\n",
    "        x = self.proj(x)\n",
    "        x = self.proj_drop(x)\n",
    "        \n",
    "        return x\n"
   ]
  },
  {
   "cell_type": "markdown",
   "id": "7ec7e851",
   "metadata": {},
   "source": [
    "### <span style=\"color:LightGreen\">Putting it All Together</span>"
   ]
  },
  {
   "cell_type": "markdown",
   "id": "9f178ed3",
   "metadata": {},
   "source": [
    "\n",
    "Obviously, we would like to use Flash Attention for Everything, but we have a few moving pieces right now:\n",
    "\n",
    "1) We can have self-attention on a source with padding mask\n",
    "\n",
    "2) We can have self-attention on a source with padding mask and causal mask\n",
    "\n",
    "3) We can have cross attention between a source and target\n",
    "\n",
    "Lets write our final Attention computation, putting all of these things together. Again, lets set the stage in terms of and English (src) to French (tgt) translation:"
   ]
  },
  {
   "cell_type": "markdown",
   "id": "798a2a99",
   "metadata": {},
   "source": [
    "### <span style=\"color:LightGreen\">Attention Class Details</span>"
   ]
  },
  {
   "cell_type": "markdown",
   "id": "33f2a751",
   "metadata": {},
   "source": [
    "\n",
    "This class will handle all the cases we need. Lets pretend we are doing English to French\n",
    "        \n",
    "- We can provide English as the src along with its padding mask for Encoder self-attention\n",
    "\n",
    "- We can provide French as the src along with its padding mask and causal as True for decoder self-attention\n",
    "\n",
    "- We can provide English as src and French as tgt along with the src padding_mask for cross attention\n",
    "\n",
    "All of this should be very familiar now as we have implemented all the pieces of this already! Its just time to put it together!\n"
   ]
  },
  {
   "cell_type": "markdown",
   "id": "6d45895f",
   "metadata": {},
   "source": [
    "### <span style=\"color:LightGreen\">Attention Mask for Self-Attention</span>"
   ]
  },
  {
   "cell_type": "markdown",
   "id": "713821aa",
   "metadata": {},
   "source": [
    "\n",
    "Attention Mask is in `Batch x Sequence Length` where we have `False` for tokens we don't want to attend to. `F.scaled_dot_product_attention` expects a mask of the shape `Batch x ..., x Seq_len x Seq_len`, where the \"...\" in this case is any extra dimensions (such as heads of attention). Lets expand our mask to `Batch x 1 x Seq_len x Seq_len`. The 1 in this case refers to the number of heads of attention we want, so it is a dummy index to broadcast over. In each `Seq_len x Seq_len` matrix for every batch, we want False for all columns corresponding to padding tokens."
   ]
  },
  {
   "cell_type": "markdown",
   "id": "25675f82",
   "metadata": {},
   "source": [
    "### <span style=\"color:LightGreen\">Attention Mask for Cross-Attention</span>"
   ]
  },
  {
   "cell_type": "markdown",
   "id": "c048ad69",
   "metadata": {},
   "source": [
    "\n",
    "When doing cross attention, our French will be `Batch x french_len x embed_dim` and our English will be `Batch x english_len x embed_dim`. In typical cross attention fashion, the queries will be the thing we want and Keys/Values will be the thing we are crossing with. In our Decoder Cross Attention, we want to learn how our generated French is related to the encoded english from the Encoder. So our Queries will be French and Keys/Values will be the encoded English. \n",
    "\n",
    "$Q$ @ $K^T$ will then give a shape `Batch x ... x french_len x english_len`. This means our attention mask also has to have this shape. Just like before, we want to mask out the columns of the attention mask, so our french tokens dont attend to any english padding tokens. We can then take our english padding mask which is (Batch x english_len), add extra dimensions for head and src_len dimension which will give a `Batch x 1 x 1 x english_len` and then repeat the mask for the source length `batch x 1 x french_len x english_len`."
   ]
  },
  {
   "cell_type": "code",
   "execution_count": 16,
   "id": "6b3fe0fe-9ef8-4b57-8e8b-31f28b549b21",
   "metadata": {},
   "outputs": [
    {
     "name": "stdout",
     "output_type": "stream",
     "text": [
      "TESTING SELF-ATTENTION!!!\n",
      "-------------------------\n",
      "Attention Mask:\n",
      "tensor([[ True,  True,  True, False, False],\n",
      "        [ True,  True,  True,  True,  True],\n",
      "        [ True,  True,  True,  True, False]])\n",
      "Final Output: torch.Size([3, 5, 9]) \n",
      "\n",
      "TESTING CROSS-ATTENTION!!!\n",
      "-------------------------\n",
      "English Attention Mask:\n",
      "tensor([[ True,  True,  True, False, False],\n",
      "        [ True,  True,  True,  True,  True],\n",
      "        [ True,  True,  True,  True, False]])\n",
      "French Attention Mask:\n",
      "tensor([[ True,  True,  True,  True,  True,  True,  True],\n",
      "        [ True,  True,  True,  True,  True,  True, False],\n",
      "        [ True,  True, False, False, False, False, False]])\n",
      "Final Output: torch.Size([3, 7, 9])\n"
     ]
    }
   ],
   "source": [
    "class Attention(nn.Module):\n",
    "    \"\"\"\n",
    "    Regular Self-Attention but in this case we utilize flash_attention\n",
    "    incorporated in the F.scaled_dot_product_attention to speed up our training. \n",
    "    \"\"\"\n",
    "    def __init__(self, embedding_dimension=768, num_heads=12, attn_dropout=0.0):\n",
    "        super(Attention, self).__init__()\n",
    "\n",
    "        self.embedding_dimension = embedding_dimension\n",
    "        self.num_heads = num_heads\n",
    "        self.attn_dropout = attn_dropout\n",
    "        \n",
    "        ### Sanity Checks ###\n",
    "        assert embedding_dimension % num_heads == 0, \"Double check embedding dim divisible by number of heads\"\n",
    "\n",
    "        ### Attention Head Dim ###\n",
    "        self.head_dim = embedding_dimension // num_heads\n",
    "\n",
    "        ### Attention Projections ###\n",
    "        self.q_proj = nn.Linear(embedding_dimension, embedding_dimension)\n",
    "        self.k_proj = nn.Linear(embedding_dimension, embedding_dimension)\n",
    "        self.v_proj = nn.Linear(embedding_dimension, embedding_dimension)\n",
    "\n",
    "        ### Post Attention Projection ###\n",
    "        self.out_proj = nn.Linear(embedding_dimension, embedding_dimension)\n",
    "        \n",
    "\n",
    "    def forward(self, \n",
    "                src, \n",
    "                tgt=None, \n",
    "                attention_mask=None, \n",
    "                causal=False):\n",
    "\n",
    "        \"\"\"\n",
    "        By default, self-attention will be computed on src (with optional causal and/or attention mask). If tgt is provided, then\n",
    "        we are doing cross attention. In cross attention, an attention_mask can be used, but no causal mask can be applied.\n",
    "        \"\"\"\n",
    "\n",
    "        ### Grab Shapes ###\n",
    "        batch, src_len, embed_dim = src.shape\n",
    "\n",
    "        ### If target is not provided, we are doing self attention (with potential causal mask) ###    \n",
    "        if tgt is None:\n",
    "            q = self.q_proj(src).reshape(batch, src_len, self.num_heads, self.head_dim).transpose(1,2).contiguous()\n",
    "            k = self.k_proj(src).reshape(batch, src_len, self.num_heads, self.head_dim).transpose(1,2).contiguous()\n",
    "            v = self.v_proj(src).reshape(batch, src_len, self.num_heads, self.head_dim).transpose(1,2).contiguous()\n",
    "\n",
    "            if attention_mask is not None:\n",
    "\n",
    "                attention_mask = attention_mask.bool()\n",
    "                attention_mask = attention_mask.unsqueeze(1).unsqueeze(1).repeat(1,1,src_len,1)\n",
    "\n",
    "            attention_out = F.scaled_dot_product_attention(q,k,v, \n",
    "                                                           attn_mask=attention_mask, \n",
    "                                                           dropout_p=self.attn_dropout if self.training else 0.0, \n",
    "                                                           is_causal=causal)\n",
    "        \n",
    "        ### If target is provided then we are doing cross attention ###\n",
    "        ### Our query will be the target and we will be crossing it with the encoder source (keys and values) ###\n",
    "        ### The src_attention_mask will still be the mask here, just repeated to the target size ###\n",
    "        else:\n",
    "            tgt_len = tgt.shape[1]\n",
    "\n",
    "            q = self.q_proj(tgt).reshape(batch, tgt_len, self.num_heads, self.head_dim).transpose(1,2).contiguous()\n",
    "            k = self.k_proj(src).reshape(batch, src_len, self.num_heads, self.head_dim).transpose(1,2).contiguous()\n",
    "            v = self.v_proj(src).reshape(batch, src_len, self.num_heads, self.head_dim).transpose(1,2).contiguous()\n",
    "\n",
    "            if attention_mask is not None:\n",
    "\n",
    "                attention_mask = attention_mask.bool()\n",
    "                attention_mask = attention_mask.unsqueeze(1).unsqueeze(1).repeat(1,1,tgt_len,1)\n",
    "\n",
    "            attention_out = F.scaled_dot_product_attention(q,k,v,\n",
    "                                                           attn_mask=attention_mask, \n",
    "                                                           dropout_p=self.attn_dropout if self.training else 0.0, \n",
    "                                                           is_causal=False)\n",
    "\n",
    "        ### Reshape and Project ###\n",
    "        attention_out = attention_out.transpose(1,2).flatten(2)\n",
    "        attention_out = self.out_proj(attention_out)\n",
    "\n",
    "        return attention_out\n",
    "\n",
    "### Test Out Self-Attention!! ###\n",
    "print(\"TESTING SELF-ATTENTION!!!\")\n",
    "print(\"-------------------------\")\n",
    "seq_lens = [3,5,4]\n",
    "embed_dim = 9\n",
    "num_heads = 3\n",
    "a = Attention(embed_dim, num_heads)\n",
    "\n",
    "### Create a random tensor in the shape (Batch x Seq Len x Embed Dim) ###\n",
    "### This will be a tensor upto the max(seq_lens) ###\n",
    "rand = torch.randn(len(seq_lens),max(seq_lens),embed_dim)\n",
    "\n",
    "### Create Attention Mask from the seq_lens (shortest sequences padded to the longest ###\n",
    "masks = torch.nn.utils.rnn.pad_sequence([torch.ones(l) for l in seq_lens], batch_first=True, padding_value=0).bool()\n",
    "print(\"Attention Mask:\")\n",
    "print(masks)\n",
    "\n",
    "### Pass through MHA ###\n",
    "output = a(rand, attention_mask=masks, causal=True)\n",
    "print(\"Final Output:\", output.shape, \"\\n\")\n",
    "\n",
    "\n",
    "print(\"TESTING CROSS-ATTENTION!!!\")\n",
    "print(\"-------------------------\")\n",
    "### Test out Cross Attention \n",
    "### We will now have sequences of different lengths, identify the number of tokens in each sequence ###\n",
    "english_seq_lens = [3,5,4]\n",
    "french_seq_lens = [7,6,2]\n",
    "\n",
    "embed_dim = 9\n",
    "num_heads = 3\n",
    "a = Attention(embed_dim, num_heads)\n",
    "\n",
    "### Create random tensor in the shape (Batch x Seq Len x Embed Dim) for French and English ###\n",
    "### This will be a tensor upto the max(seq_lens) ###\n",
    "rand_english = torch.randn(len(english_seq_lens),max(english_seq_lens),embed_dim)\n",
    "rand_french = torch.randn(len(french_seq_lens),max(french_seq_lens),embed_dim)\n",
    "\n",
    "\n",
    "### Create Attention Mask from the seq_lens (shortest sequences padded to the longest ###\n",
    "english_masks = torch.nn.utils.rnn.pad_sequence([torch.ones(l) for l in english_seq_lens], batch_first=True, padding_value=0).bool()\n",
    "french_masks = torch.nn.utils.rnn.pad_sequence([torch.ones(l) for l in french_seq_lens], batch_first=True, padding_value=0).bool()\n",
    "\n",
    "print(\"English Attention Mask:\")\n",
    "print(english_masks)\n",
    "print(\"French Attention Mask:\")\n",
    "print(french_masks)\n",
    "\n",
    "### Pass through MHA ###\n",
    "output = a(src=rand_english, tgt=rand_french, attention_mask=english_masks)\n",
    "print(\"Final Output:\", output.shape)"
   ]
  },
  {
   "cell_type": "markdown",
   "id": "f8bd9fc4",
   "metadata": {},
   "source": [
    "## <span style=\"color:Orange\">Thats It!</span>"
   ]
  },
  {
   "cell_type": "markdown",
   "id": "0b569930",
   "metadata": {},
   "source": [
    "\n",
    "That is basically everything you need to know about attention! Now if you are actually going to be using attention in your model, it is better to use optimized cuda implementations rather than this only for speed and efficiency reasons, but they are doing exactly the same thing underneath the hood, just faster! This sets us up though for the next step! All we have done so far is implement the Attention mechanism, this is only half the picture for the Transformer. There are bunch of directions one can now go:\n",
    "\n",
    "- Seq2Seq Models (Language Translation, Image Captioning)\n",
    "\n",
    "- Encoder Models (RoBERTa, Vision Transformer)\n",
    "\n",
    "- Decoder Models (GPT, LLAMA)"
   ]
  },
  {
   "cell_type": "markdown",
   "id": "1607ca48",
   "metadata": {},
   "source": [
    "## <span style=\"color:Orange\">Acknowledgments</span>\n",
    "\n",
    "* Initial version: Mark Neubauer\n",
    "  * Modified from the following [Tutorial](https://github.com/priyammaz/PyTorch-Adventures/tree/main/PyTorch%20for%20Transformers/Attention%20Mechanisms/Attention)\n",
    "\n",
    "© Copyright 2025"
   ]
  }
 ],
 "metadata": {
  "kernelspec": {
   "display_name": "Python 3",
   "language": "python",
   "name": "python3"
  },
  "language_info": {
   "codemirror_mode": {
    "name": "ipython",
    "version": 3
   },
   "file_extension": ".py",
   "mimetype": "text/x-python",
   "name": "python",
   "nbconvert_exporter": "python",
   "pygments_lexer": "ipython3",
   "version": "3.13.1"
  }
 },
 "nbformat": 4,
 "nbformat_minor": 5
}
