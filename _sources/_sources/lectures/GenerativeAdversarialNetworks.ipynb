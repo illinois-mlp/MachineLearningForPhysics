{
 "cells": [
  {
   "cell_type": "markdown",
   "id": "f7483383",
   "metadata": {},
   "source": [
    "# Generative Adversarial Networks"
   ]
  },
  {
   "cell_type": "markdown",
   "id": "d92aa2fe",
   "metadata": {},
   "source": [
    "## <span style=\"color:Orange\">Review: AutoEncoders</span>"
   ]
  },
  {
   "cell_type": "markdown",
   "id": "5095cc37",
   "metadata": {},
   "source": [
    "We have seen previously that AutoEncoders can be used to generate images. For the setup in the [AutoEncoders notebook](https://illinois-mlp.github.io/MachineLearningForPhysics/_sources/lectures/AutoEncoders.html), we first train an Encoder that learns to compress an image down to some latent space, and then a Decoder that learns to take that latent space and reconstruct the original image. The outputs of the Encoder can be used to study the high dimensional structure of the data, and we typically don't care about the Decoder unless we want to do a generative task.\n",
    "\n",
    "If we only use our Decoder, we can pass in latent variables to it, and it will generate images on the other end. Unfortunately this can be tough as the structure of the latent space can be unknown, although we do solve this partially through placing a KL penalty in the [Variational AutoEncoder](https://illinois-mlp.github.io/MachineLearningForPhysics/_sources/lectures/VariationalAutoEncoders.html) to ensure normality. \n",
    "\n",
    "Unfortunately, the VAE suffers from one issue: _Poor Image Quality_. Here is an example of all of the outputs of our autoencoders on the MNIST dataset:"
   ]
  },
  {
   "cell_type": "markdown",
   "id": "c70ec8f2",
   "metadata": {},
   "source": [
    "<div>\n",
    "<img src=\"https://raw.githubusercontent.com/illinois-mlp/MachineLearningForPhysics/main/img/GenerativeAdversarialNetworks-all_vae_gens_on_digit.png\" width=800></img>\n",
    "</div>"
   ]
  },
  {
   "cell_type": "markdown",
   "id": "acad2def",
   "metadata": {},
   "source": [
    "As it can be clearly seen, these would not be considered very high quality generations of handwritten digits. They are typically blurry, and using a VAE, which is the only way to generate from a known distribution, the results get even worse!"
   ]
  },
  {
   "cell_type": "markdown",
   "id": "e0a5d047",
   "metadata": {},
   "source": [
    "## <span style=\"color:Orange\">What are GANs?</span>"
   ]
  },
  {
   "cell_type": "markdown",
   "id": "cebd7a8e",
   "metadata": {},
   "source": [
    "<div>\n",
    "<img src=\"https://raw.githubusercontent.com/illinois-mlp/MachineLearningForPhysics/main/img/GenerativeAdversarialNetworks-gan_diagram.png\" width=800></img>\n",
    "</div>"
   ]
  },
  {
   "cell_type": "markdown",
   "id": "fa959693",
   "metadata": {},
   "source": [
    "Generative Adversarial Networks (GANs) are basically a cat and mouse game, and changes the way in which we approach generation. Instead of an Encoder/Decoder structure of the AutoEncoder, we will have a <span style=\"color:Violet\">Generator</span> and a <span style=\"color:Violet\">Discriminator</span>. \n",
    "\n",
    "The purpose of the Generator is to take in noise (typically random gaussian noise) and try to create an image out of it. This method of generating from noise is a technique we will see again in the [Diffusion](https://illinois-mlp.github.io/MachineLearningForPhysics/_sources/lectures/VariationalAutoEncoders.html) lecture. \n",
    "\n",
    "The Discriminator on the other hand takes in generated images and real images from our dataset, and tries to determine whether or not each image is real or fake. \n",
    "\n",
    "The game is now on! The Generator has to produce images that can fool the Discriminator, which then forces the Discriminator to become better at identifying real and fake images!"
   ]
  },
  {
   "cell_type": "markdown",
   "id": "9cfb1eee",
   "metadata": {},
   "source": [
    "<div>\n",
    "<img src=\"https://raw.githubusercontent.com/illinois-mlp/MachineLearningForPhysics/main/img/GenerativeAdversarialNetworks-gen.gif\" width=800></img>\n",
    "</div>"
   ]
  },
  {
   "cell_type": "markdown",
   "id": "fa882a0b",
   "metadata": {},
   "source": [
    "Generative Adversarial Networks have for a long time been the state-of-the-art method of training generative models. Although Diffusion is more prevalent today, the GAN loss shows up quite a bit. For example, in the future when we train a Latent Diffusion model, one of the loss functions used to train the Variational AutoEncoder is the PatchGAN loss!\n",
    "\n",
    "In this notebook, we will introduce GANs and provide examples by training a few simple examples:\n",
    "- Original GAN implementation on MNIST\n",
    "\n",
    "- Conditional GAN to provide control over the generation\n",
    "\n",
    "- Convolution-based generator to move away from linear layers\n",
    "\n",
    "We will also derive at a high level the GAN Loss to understand the min/max adversarial game between the Generator and Discriminator."
   ]
  },
  {
   "cell_type": "markdown",
   "id": "bb97289e",
   "metadata": {},
   "source": [
    "## <span style=\"color:Orange\">The Math for GANs</span>"
   ]
  },
  {
   "cell_type": "markdown",
   "id": "8285c457",
   "metadata": {},
   "source": [
    "Lets go through this step by step!"
   ]
  },
  {
   "cell_type": "markdown",
   "id": "841ce3e4",
   "metadata": {},
   "source": [
    "### <span style=\"color:LightGreen\">Training the Discriminator</span>"
   ]
  },
  {
   "cell_type": "markdown",
   "id": "be8938c0",
   "metadata": {},
   "source": [
    "The first step will be to take our random noise and use or Generator $G(z)$ to generate a batch of fake samples. We can then concatenate our fake samples to real ones to create a batch where half the images are real and the other half are fake. We can similarly create labels for this, identifying which images are real and which are fake (we will use 0 for generated and 1 for true, although it doesn't matter which is which) and then give the discriminator this data to learn to identify real from fake images!\n",
    "\n",
    "The Loss function we use in this case is the Binary Cross Entropy (BCE) Loss Function:\n",
    "\n",
    "$$ \\large\n",
    "H(y,\\hat{y}) = -\\frac{1}{N}\\sum y\\log(\\hat{y}) + (1-y)\\log(1-\\hat{y})\n",
    "$$\n",
    "\n",
    "*If you dont know where this came from, please take a look at this [video](https://www.youtube.com/watch?v=d86lJxKInYg&t=3931s) where it is derived*\n",
    "\n",
    "We know that in our case of binary (fake vs real) prediction, the $y$ value can either be 0 or 1. When y is 1 (indicating a real image), the discriminator is seeing real images, lets call them $x$. In this case, the output of our discriminator will just be $\\hat{y} = D(x)$, as the discriminator is getting true images. Then we get the following simplification of the BCE Loss:\n",
    "\n",
    "$$ \\large\n",
    "H_{real}(y=1,\\hat{y}) = -\\frac{1}{N}\\sum (1)\\log(D(x)) + (1-1)\\log(1-D(x)) = -\\frac{1}{N}\\sum \\log(D(x))\n",
    "$$\n",
    "\n",
    "Similarly when y is 0 (indicating a fake image) the discriminator is seeing the fake generated images $G(z)$. In this case the output of the discriminator will just be $\\hat{y} = D(G(z))$ as the discriminator is getting fake images. Then we see the following simplification of the BCE Loss:\n",
    "\n",
    "$$ \\large\n",
    "H_{fake}(y=0,\\hat{y}) = -\\frac{1}{N}\\sum (0)\\log(D(G(z))) + (1-0)\\log(1-D(G(z)))\n",
    "$$\n",
    "\n",
    "$$ \\large\n",
    "= -\\frac{1}{N}\\sum \\log(1-D(G(z)))\n",
    "$$\n",
    "\n",
    "Therefore, our final Discriminator loss can be written out as the sum of the real and fake discriminator losses:\n",
    "\n",
    "$$ \\large\n",
    "\\boxed{\n",
    "H_D = -\\frac{1}{N}\\sum \\log(D(x)) + \\log(1-D(G(z)))}\n",
    "$$"
   ]
  },
  {
   "cell_type": "markdown",
   "id": "f854f3c0",
   "metadata": {},
   "source": [
    "#### <span style=\"color:LightPink\">Expanding to Continuous Distributions</span>"
   ]
  },
  {
   "cell_type": "markdown",
   "id": "135d4bad",
   "metadata": {},
   "source": [
    "Although this is the discriminator we use (because in our classification task our targets are discrete 0/1), it hides an underlying property we want to look at! Instead of just using 0/1 to indicate fake or real, lets instead say we want to model the continuous distribution of the fake images and the distribution of the real images. \n",
    "\n",
    "Applying it to our case, where \n",
    "\n",
    "* $p_{x}$ is the true distribution of the data $x$\n",
    "\n",
    "* $p_{z}$ is the true distribution of the random noise $z$\n",
    "  \n",
    "then $D(x)$ is the predicted distribution of real data and $D(G(z))$ is the predicted distribution of the generated data. \n",
    "\n",
    "We can then write:\n",
    "\n",
    "$$ \\large\n",
    "H_{real}(p_x(x), D(x)) = -\\int p_x(x) \\log(D(x))\n",
    "$$\n",
    "\n",
    "$$ \\large\n",
    "H_{fake}(p_z(z), D(G(z))) = -\\int p_z(z) \\log((1-D(G(z))))\n",
    "$$\n",
    "\n",
    "And our final continuous discriminator loss can be written as:\n",
    "\n",
    "$$ \\large\n",
    "H_D = H_{real}(p_x(x), D(x)) + H_{fake}(p_z(z), D(G(z))) = -\\int p_x(x) \\log(D(x)) + p_z(z) \\log((1-D(G(z))))\n",
    "$$\n",
    "\n",
    "This should look identical to our equation earlier for the discriminator loss, just is a continuous representation. \n",
    "\n",
    "We can then finally convert this to just using expected value using the following method:\n",
    "\n",
    "$$ \\large\n",
    "H(p,q) = \\int p \\log(q) = \\mathbb{E}_{x\\sim p} \\log(q)\n",
    "$$\n",
    "\n",
    "Therefore our final form (in expected value) of our Discriminator loss looks like:\n",
    "\n",
    "$$ \\large\n",
    "H_D = -\\mathbb{E}_{x\\sim p_x(x)} \\log(D(x)) -\\mathbb{E}_{x\\sim p_z(z)} \\log((1-D(G(z))\n",
    "$$\n",
    "\n",
    "Our end goal will be to minimize $H_D$, as you want the discriminator to get better at identifying fakes, but minimizing $H_D$ is the same as maximizing $-H_D$ (and we have those negatives we don't want to write) so we can write the final form of our discriminator loss as:\n",
    "\n",
    "$$ \\large\n",
    "\\boxed{\n",
    "L_D = \\max_D \\mathbb{E}_{x\\sim p_x(x)} \\log(D(x)) +\\mathbb{E}_{x\\sim p_z(z)} \\log((1-D(G(z))) }\n",
    "$$\n",
    "\n",
    "And finally, the most general form, lets say $x$ is now an arbritrary sample, we don't now if its real or generated, then we can write the most general form of our loss function using some variable substitutions:\n",
    "\n",
    "$$ \\large\n",
    "L_D = \\max_D \\mathbb{E}_{x\\sim p_{data}(x)} \\log(D(x)) +\\mathbb{E}_{x\\sim p_g} \\log((1-D(x))\n",
    "$$\n",
    "\n",
    "where $p_g$ is the distribution of the generator (rather than over the distribution of the random noise) and $p_{data}$ is the distribution over the data (previously \n",
    "$p_{x}$)."
   ]
  },
  {
   "cell_type": "markdown",
   "id": "2bd3b877",
   "metadata": {},
   "source": [
    "#### <span style=\"color:LightPink\">Finding the Ideal Discriminator</span>"
   ]
  },
  {
   "cell_type": "markdown",
   "id": "f0738945",
   "metadata": {},
   "source": [
    "To find the max of this function (the $D(x)$ that maximizes this $L_D$), we can just take the derivative of $L_D$ with respect to $D(x)$ and set to 0!\n",
    "\n",
    "$$ \\large\n",
    "\\dfrac{dL_D}{dD(x)} = \\frac{p_{data}(x)}{D(x)} - \\frac{p_g(x)}{1-D(x)} = 0\n",
    "$$\n",
    "\n",
    "Solving for $D(x)$, and giving us our optimial discriminator, which we will indicate as $D^*(x)$ we get:\n",
    "\n",
    "$$ \\large\n",
    "D^*(x) = \\frac{p_{data}(x)}{p_{data}(x)+p_g(x)}\n",
    "$$\n",
    "\n",
    "This also makes a lot of sense because, if $x$ is truly from the original true data, then this fraction will converge to 1 as $p_{data}(x)$ will be close to 1 and $p_g(x)$ will be close to 0. On the other hand, if $x$ is from the generated data, then this fraction will converge to 0."
   ]
  },
  {
   "cell_type": "markdown",
   "id": "0fb4ddb5",
   "metadata": {},
   "source": [
    "### <span style=\"color:LightGreen\">Training the Generator</span>"
   ]
  },
  {
   "cell_type": "markdown",
   "id": "24e25166",
   "metadata": {},
   "source": [
    "So we have finally created a mechanism (using basic BCE Loss) to have our discriminator successfully be able to identify real from fake images. Now how do we use this information to actually train our generator? If we assume that our new discriminator $D^*(x)$ that was trained from the previous step can actually identify real from fake images, then we can use that information to inform our gradient update of the generator. In summary, the generators goal is to maximize the discriminators confusion about which images are real and which are fake.\n",
    "\n",
    "As before, 0 is fake images and 1 is real images. In practice what we do is, take our generated images that have been produced by the generator and pass them through the discriminator, which will identify which are real and which are not (in this case all are fake because they are all generated). We will then pretend that all of the fake images we passed in were real, and give them all a label of 1. We can then compute the loss between what the discriminator predicted and them all being true images (even through they are fake). This information can finally be backpropagated to the generator to update its weight, towards the direction that convinces the discriminator that the images are real. "
   ]
  },
  {
   "cell_type": "markdown",
   "id": "0c78c8cd",
   "metadata": {},
   "source": [
    "___<span style=\"color:Violet\">SUPER IMPORTANT NOTE!!!___\n",
    "The key idea here is that the discriminator will provide a signal of real vs fake. When we backpropagate this signal to the generator (which is trying to fool the discriminator), we **ONLY UPDATE THE WEIGHTS OF THE GENERATOR**. The backpropagation (although will compute gradients on the discriminator) will not be used to actually update the discriminator (i.e. this step of updating the generator assumed a fixed discriminator)"
   ]
  },
  {
   "cell_type": "markdown",
   "id": "67e44e00",
   "metadata": {},
   "source": [
    "#### <span style=\"color:LightPink\">Discrete Loss for the Generator</span>"
   ]
  },
  {
   "cell_type": "markdown",
   "id": "5d2f98ae",
   "metadata": {},
   "source": [
    "As explained above, the ideal generator will minimize the discriminators ability to distinguish between real and fake samples, and we assume we are using our new discriminator $D^*(x)$. Well, this loss function is identical again to the simple BCELoss we had before, so lets do the discrete case first (that we will actually use in practice).\n",
    "\n",
    "All images will be identified as real where $y=1$ so in our BCE Loss, the case of $(1-y)$ will dissapear:\n",
    "\n",
    "$$ \\large\n",
    "H(y,\\hat{y}) = -\\frac{1}{N}\\sum y\\log(\\hat{y}) + (1-y)\\log(1-\\hat{y})\n",
    "$$\n",
    "\n",
    "$$ \\large\n",
    "H(y=1,\\hat{y}) = -\\frac{1}{N}\\sum (1)\\log(\\hat{y}) + (1-1)\\log(1-\\hat{y}) = -\\frac{1}{N}\\sum \\log(\\hat{y})\n",
    "$$\n",
    "\n",
    "So in our case, where $\\hat{y} = D^*(G(z))$ because we are using generated images, we can write this as: \n",
    "\n",
    "$$ \\large\n",
    "H(y=1,\\hat{y}) = - \\frac{1}{N}\\sum \\log(D^*(G(z)))\n",
    "$$"
   ]
  },
  {
   "cell_type": "markdown",
   "id": "694da1e8",
   "metadata": {},
   "source": [
    "#### <span style=\"color:LightPink\">Moving to the Continuous Loss Function</span>"
   ]
  },
  {
   "cell_type": "markdown",
   "id": "44854e3d",
   "metadata": {},
   "source": [
    "Using all the same logic as before, when we expanded our discrete discriminator loss to continuous, we can do the same process here. \n",
    "\n",
    "As before, $x$ is some arbritrary image. Although we know they are all fake, the loss does not!\n",
    "\n",
    "$$ \\large\n",
    "L_G = \\min_G \\mathbb{E}_{x\\sim p_{data}(x)} \\log(D^*(x)) +\\mathbb{E}_{x\\sim p_g} \\log((1-D^*(x))\n",
    "$$\n",
    "\n",
    "There are two main differences between our generator loss $L_G$ and our discriminator loss $L_D$:\n",
    "\n",
    "1) We are using a static $D^*(x)$ already computed from the previous step\n",
    "   \n",
    "2) We are minimizing w.r.t. G!. We want our discriminator to maximize log probabilities, getting better at identifying real vs fake images, but our generator will minimze the same log probailities, updating the generator weights in the direction that most fools the discriminator!\n",
    "\n",
    "Now, because we actually know what the formulation for the ideal discriminator $D^*(x)$ is, we can plug it in!\n",
    "\n",
    "$$ \\large\n",
    "L_G = \\min_G \\mathbb{E}_{x\\sim p_{data}(x)} \\log(D^*(x)) +\\mathbb{E}_{x\\sim p_g} \\log((1-D^*(x))\n",
    "$$\n",
    "\n",
    "$$ \\large\n",
    "~~~~~~~~~~~~~~~~~~~~~~~~~~~~~~~~~~~~~~~~~~ = \\min_G \\mathbb{E}_{x\\sim p_{data}(x)} \\log\\left[\\frac{p_{data}(x)}{p_{data}(x)+p_g(x)}\\right] +\\mathbb{E}_{x\\sim p_g} \\log\\left[1 - \\frac{p_{data}(x)}{p_{data}(x)+p_g(x)}\\right]\n",
    "$$\n",
    "\n",
    "$$ \\large\n",
    "~~~~~~~~~~~~~~~~~~~~~~~~~~~~~~~~~~~ = \\min_G \\mathbb{E}_{x\\sim p_{data}(x)} \\log\\left[\\frac{p_{data}(x)}{p_{data}(x)+p_g(x)}\\right] +\\mathbb{E}_{x\\sim p_g} \\log\\left[\\frac{p_{g}(x)}{p_{data}(x)+p_g(x)}\\right]\n",
    "$$"
   ]
  },
  {
   "cell_type": "markdown",
   "id": "c9f7f22c",
   "metadata": {},
   "source": [
    "----------------"
   ]
  },
  {
   "cell_type": "markdown",
   "id": "68b6bed6",
   "metadata": {},
   "source": [
    "___<span style=\"color:Violet\">Quick Aside: Relation to Jensen-Shannon Divergence___</span>"
   ]
  },
  {
   "cell_type": "markdown",
   "id": "8ce41948",
   "metadata": {},
   "source": [
    "So we have already seek KL-Divergence before (if you haven't take a look at my [notebook on Variational AutoEncoders](https://github.com/priyammaz/PyTorch-Adventures/blob/main/PyTorch%20for%20Generation/AutoEncoders/Intro%20to%20AutoEncoders/Variational_AutoEncoders.ipynb) to learn more and also this [helpful video] walking you through the relation between KL divergence and Cross Entropy. As a quick reminder though:\n",
    "\n",
    "KL Divergence is a measure of entropy (or difference) between two probability distributions. But what is Entropy? Entropy is a measure of the amount of \"information\" in data and is typically written as:,\n",
    "\n",
    "$$ \\large\n",
    "H = -\\sum_{i=1}^Np(x_i)\\cdot \\log p(x_i)\n",
    "$$\n",
    "\n",
    "You can think of this like the Expected Value of information in an event. KL Divergence is then the difference in information between two separate distributions $P$ and $Q$. Well then we can just write that as:\n",
    "\n",
    "$$\n",
    "D_{KL}(Q||P) = \\sum_{i=1}^Np(x_i) \\cdot (\\log p(x_i) - \\log q(x_i)) = \\sum_{i=1}^Np(x_i) \\cdot \\log \\frac{p(x_i)}{q(x_i)} = \\mathbb{E}_{x\\sim p} \\log\\frac{p(x)}{q(x)}\n",
    "$$\n",
    "\n",
    "Well, doesnt our form for $L_G$ look like the sum of two different KL-Divergence terms? We could rewrite it as such:\n",
    "\n",
    "$$\n",
    "\"L_G\" = D_{KL}(p_{data}(x) || p_{data}(x)+p_g(x)) + D_{KL}(p_{g}(x) || p_{data}(x)+p_g(x))\n",
    "$$\n",
    "\n",
    "If thats the case, we know of another formulation that looks just like this: <span style=\"color:Violet\">Jensen-Shannon Divergence</span>\n",
    "\n",
    "$$\n",
    "D_{JS}(Q||P) = \\frac{1}{2}D_{KL}(Q||M) + \\frac{1}{2}D_{KL}(P||M)\n",
    "$$\n",
    "\n",
    "$$\n",
    "\\text{where } M = \\frac{Q+P}{2}\n",
    "$$\n",
    "\n",
    "Although KL-Divergences are very useful to us, it has a few limitations, notably not being symmetric. $D_{KL}(Q||P) \\neq D_{KL}(P||Q)$. JS-Divergence on the other hand is a symmetric and smooth version of the KL divergence, and $M$ is the mixture of distributions P and Q.\n",
    "\n",
    "In our case, we have something very similar in $L_G$, but we are missing a few of those $\\frac{1}{2}$ constants, so lets expand it out. First we use the rule that $\\log(\\frac{a}{b})= \\log(a) - \\log(b)$\n",
    "\n",
    "$$\n",
    "\"L_G\" = \\mathbb{E}_{x\\sim p_{data}(x)} \\log\\left[\\frac{p_{data}(x)}{p_{data}(x)+p_g(x)}\\right] +\\mathbb{E}_{x\\sim p_g} \\log\\left[\\frac{p_{g}(x)}{p_{data}(x)+p_g(x)}\\right]\n",
    "$$\n",
    "\n",
    "$$\n",
    "= \\mathbb{E}_{x\\sim p_{data}(x)} \\left[\\log p_{data}(x) - \\log (p_{data}(x)+p_g(x))\\right] +\\mathbb{E}_{x\\sim p_g} \\left[\\log p_{g}(x) - \\log (p_{data}(x)+p_g(x))\\right]\n",
    "$$\n",
    "\n",
    "We first know that:\n",
    "\n",
    "$$\n",
    "M(x) = \\frac{p_{data}(x)+p_g(x)}{2}\n",
    "$$\n",
    "\n",
    "So lets introduce the $\\frac{1}{2}$ constant by multiplying and dividing by 2!\n",
    "\n",
    "$$\n",
    "= \\mathbb{E}_{x\\sim p_{data}(x)} \\left[\\log p_{data}(x) - \\log \\frac{2(p_{data}(x)+p_g(x))}{2}\\right] +\\mathbb{E}_{x\\sim p_g} \\left[\\log p_{g}(x) - \\log \\frac{2(p_{data}(x)+p_g(x))}{2}\\right]\n",
    "$$\n",
    "\n",
    "$$\n",
    "= \\mathbb{E}_{x\\sim p_{data}(x)} \\left[\\log p_{data}(x) - \\log(2) - \\log \\frac{(p_{data}(x)+p_g(x))}{2}\\right] +\\mathbb{E}_{x\\sim p_g} \\left[\\log p_{g}(x) - \\log(2) - \\log \\frac{(p_{data}(x)+p_g(x))}{2}\\right]\n",
    "$$\n",
    "\n",
    "The expectation of the constant $\\log(2)$ is just the constant, so we can pull them out!\n",
    "\n",
    "$$\n",
    "= -2\\log(2) + \\mathbb{E}_{x\\sim p_{data}(x)} \\left[\\log p_{data}(x) - \\log \\frac{(p_{data}(x)+p_g(x))}{2}\\right] +\\mathbb{E}_{x\\sim p_g} \\left[\\log p_{g}(x) - \\log \\frac{(p_{data}(x)+p_g(x))}{2}\\right]\n",
    "$$\n",
    "\n",
    "And finally we can return the expected values back to the original form (putting the logs back together)\n",
    "\n",
    "$$\n",
    "= -2\\log(2) + \\mathbb{E}_{x\\sim p_{data}(x)} \\left[\\log \\frac{p_{data}(x)}{\\frac{(p_{data}(x)+p_g(x))}{2}}\\right] +\\mathbb{E}_{x\\sim p_g} \\left[\\log \\frac{p_{g}(x)}{\\frac{(p_{data}(x)+p_g(x))}{2}}\\right]\n",
    "$$\n",
    "\n",
    "$$\n",
    "= -2\\log(2) + \\mathbb{E}_{x\\sim p_{data}(x)} \\left[\\log \\frac{p_{data}(x)}{M(x)}\\right] +\\mathbb{E}_{x\\sim p_g} \\left[\\log \\frac{p_{g}(x)}{M(x)}\\right]\n",
    "$$\n",
    "\n",
    "We can write this all as the KL Divergences again:\n",
    "\n",
    "$$\n",
    "= -2\\log(2) + D_{KL}(p_{data}(x) || M(x)) + D_{KL}(p_{g}(x) || M(x))\n",
    "$$\n",
    "\n",
    "We are missing the last $\\frac{1}{2}$ term, as we average together both KL Divergences, so we can just say that:\n",
    "\n",
    "$$\n",
    "= -2\\log(2) + 2 * \\frac{D_{KL}(p_{data}(x) || M(x)) + D_{KL}(p_{g}(x) || M(x))}{2}\n",
    "$$\n",
    "\n",
    "$$\n",
    "= -2\\log(2) + 2 * D_{JS}(p_{data} || p_g)\n",
    "$$\n",
    "\n",
    "This also makes a lot of sense. We will be minimizing this function for the generator, which will reduce the symmetric distance between $p_{data}$ and $p_g$. This means as the generator improves, the distribution of the generator will get closer to that of the original data, indicating a good generative model. "
   ]
  },
  {
   "cell_type": "markdown",
   "id": "7b3cd0cc",
   "metadata": {},
   "source": [
    "----------------"
   ]
  },
  {
   "cell_type": "markdown",
   "id": "62d1c094",
   "metadata": {},
   "source": [
    "### <span style=\"color:LightGreen\">Final Loss Function</span>"
   ]
  },
  {
   "cell_type": "markdown",
   "id": "ac956873",
   "metadata": {},
   "source": [
    "$$ \\Large\n",
    "\\boxed{\n",
    "Loss = \\min_G \\max_D \\mathbb{E}_{x\\sim p_x(x)} \\log(D(x)) +\\mathbb{E}_{x\\sim p_z(z)} \\log((1-D(G(z))) }\n",
    "$$\n",
    "\n",
    "This is the original loss function for the GAN, and it does exactly what we have outlined until now. We will be maximizing $D$ and minimizing $G$. Notice we have a negative on our cross entropy, so instead of minimizing cross entropy we are maximizing negative cross entropy with $D$, if we had the normal cross entropy formula, then the min/max would be flipped but give the same result.\n",
    "\n",
    "Our goal is to simulteously train a discriminator that maximizes this loss, which in effect maximizes the log-probability and makes a confident discriminator, and also minimize this loss by training a generator that can confidently fool the discriminator. \n"
   ]
  },
  {
   "cell_type": "code",
   "execution_count": 1,
   "id": "6f6b1a5e",
   "metadata": {},
   "outputs": [],
   "source": [
    "%matplotlib inline\n",
    "import matplotlib.pyplot as plt\n",
    "import seaborn as sns; sns.set_theme()\n",
    "import numpy as np\n",
    "import os\n",
    "import subprocess\n",
    "import torch\n",
    "import torch.nn as nn\n",
    "from torchvision.datasets import MNIST\n",
    "from torchvision import transforms\n",
    "from torch.utils.data import DataLoader\n",
    "import torch.optim as optim\n",
    "from tqdm.notebook import tqdm"
   ]
  },
  {
   "cell_type": "code",
   "execution_count": 2,
   "id": "b8f8593c",
   "metadata": {},
   "outputs": [],
   "source": [
    "def wget_data(url: str, local_path='./tmp_data'):\n",
    "  os.makedirs(local_path, exist_ok=True)\n",
    "\n",
    "  p = subprocess.Popen([\"wget\", \"-nc\", \"-P\", local_path, url], stderr=subprocess.PIPE, encoding='UTF-8')\n",
    "  rc = None\n",
    "\n",
    "  while rc is None:\n",
    "    line = p.stderr.readline().strip('\\n')\n",
    "    if len(line) > 0:\n",
    "      print(line)\n",
    "    rc = p.poll()"
   ]
  },
  {
   "cell_type": "markdown",
   "id": "533f8a06",
   "metadata": {},
   "source": [
    "## <span style=\"color:Orange\">Challenges with GAN Loss Functions</span>"
   ]
  },
  {
   "cell_type": "markdown",
   "id": "f9fb10b6",
   "metadata": {},
   "source": [
    "More often than not, GANs tend to show some inconsistencies in performance. Most of these problems are associated with their training and are an active area of research. <span style=\"color:Violet\">Conditional GANs</span> described later in this lecture were designed to mitigate these issues, some of which are described below."
   ]
  },
  {
   "cell_type": "markdown",
   "id": "b22a7481",
   "metadata": {},
   "source": [
    "### <span style=\"color:LightGreen\">Mode Collapse</span>"
   ]
  },
  {
   "cell_type": "markdown",
   "id": "fd81135f",
   "metadata": {},
   "source": [
    "This issue is on the unpredictable side of things. It wasn’t foreseen until someone noticed that the generator model could only generate one or a small subset of different outcomes or modes. \n",
    "\n",
    "Usually, we would want our GAN to produce a range of outputs. We would expect, for example, another face for every random input to the face generator that we design. \n",
    "\n",
    "Instead, through subsequent training, the network learns to model a particular distribution of data, which gives us a monotonous output which is illustrated below:"
   ]
  },
  {
   "cell_type": "markdown",
   "id": "d0fdcf79",
   "metadata": {},
   "source": [
    "<div>\n",
    "<img src=\"https://raw.githubusercontent.com/illinois-mlp/MachineLearningForPhysics/main/img/GenerativeAdversarialNetworks-mode_collapse.png\" width=400></img>\n",
    "</div>"
   ]
  },
  {
   "cell_type": "markdown",
   "id": "15418cb2",
   "metadata": {},
   "source": [
    "In the process of training, the generator is always trying to find the one output that seems most plausible to the discriminator.\n",
    "\n",
    "Because of that, the discriminator’s best strategy is always to reject the output of the generator. \n",
    "\n",
    "But if the next generation of discriminator gets stuck in a local minimum and doesn’t find its way out by getting its weights even more optimized, it’d get easy for the next generator iteration to find the most plausible output for the current discriminator. \n",
    "\n",
    "This way, it will keep on repeating the same output and refrain from any further training."
   ]
  },
  {
   "cell_type": "markdown",
   "id": "c30bfe91",
   "metadata": {},
   "source": [
    "### <span style=\"color:LightGreen\">Vanishing Gradients</span>"
   ]
  },
  {
   "cell_type": "markdown",
   "id": "ba646ffc",
   "metadata": {},
   "source": [
    "This phenomenon happens when the discriminator performs significantly better than the generator. Either the updates to the discriminator are inaccurate, or they disappear. \n",
    "\n",
    "One of the proposed reasons for this is that the generator gets heavily penalized, which leads to saturation in the value post-activation function, and the eventual gradient vanishing."
   ]
  },
  {
   "cell_type": "markdown",
   "id": "ef8c12c0",
   "metadata": {},
   "source": [
    "### <span style=\"color:LightGreen\">Convergence</span>"
   ]
  },
  {
   "cell_type": "markdown",
   "id": "620956ad",
   "metadata": {},
   "source": [
    "Since there are two networks being trained at the same time, the problem of GAN convergence was one of the earliest, and quite possibly one of the most challenging problems since it was created. \n",
    "\n",
    "The utopian situation where both networks stabilize and produce a consistent result is hard to achieve in most cases. One explanation for this problem is that as the generator gets better with next epochs, the discriminator performs worse because the discriminator can’t easily tell the difference between a real and a fake one. \n",
    "\n",
    "If the generator succeeds all the time, the discriminator has a 50% accuracy, similar to that of flipping a coin. This poses a threat to the convergence of the GAN as a whole. \n",
    "\n",
    "The image below shows this problem in particular:"
   ]
  },
  {
   "cell_type": "markdown",
   "id": "db6f516f",
   "metadata": {},
   "source": [
    "<div>\n",
    "<img src=\"https://raw.githubusercontent.com/illinois-mlp/MachineLearningForPhysics/main/img/GenerativeAdversarialNetworks-convergence.png\" width=600></img>\n",
    "</div>"
   ]
  },
  {
   "cell_type": "markdown",
   "id": "9d6979d6",
   "metadata": {},
   "source": [
    "## <span style=\"color:Orange\">Implementing a Simple Linear Unconditional MNIST GAN</span>"
   ]
  },
  {
   "cell_type": "markdown",
   "id": "b6517333-1e43-4ea8-9ed6-24c0bb15e31c",
   "metadata": {},
   "source": [
    "Now that we have done the hard work of deriving all the math for GANs, it is time to actually implement one! We will start with an Unconditional GAN, where we simply provide some noise, and the model will generate whatever it wants randomly. This is obviously less helpful as we have no control over the generative process, but this should be a good test case. \n",
    "\n",
    "We define two classes ```MNISTGenerator``` and ```MNISTDiscriminator```. "
   ]
  },
  {
   "cell_type": "markdown",
   "id": "0836694b",
   "metadata": {},
   "source": [
    "### <span style=\"color:LightGreen\">Generator</span>"
   ]
  },
  {
   "cell_type": "markdown",
   "id": "c17261c5",
   "metadata": {},
   "source": [
    "The generator will take in some vector of noise (the dimension of which is the latent dimension) and then use a few linear layers to project to a vector of dimension 784 (as that is how many pixels we have in our MNIST Images). We end the model with the TanH function, as it will scale the pixels between -1 and 1, which is also what our MNIST images will be scaled to."
   ]
  },
  {
   "cell_type": "markdown",
   "id": "ba5f946d",
   "metadata": {},
   "source": [
    "### <span style=\"color:LightGreen\">Discriminator</span>"
   ]
  },
  {
   "cell_type": "markdown",
   "id": "baad88eb",
   "metadata": {},
   "source": [
    "The discriminator will take in images of shape `Batch x 1 x 28 x 28` which are our MNIST dimensions. It will then flatten the images and use a stack of linear layers to predict 1 output. This will then go to our BCELoss to predict if the image is real or fake."
   ]
  },
  {
   "cell_type": "code",
   "execution_count": 3,
   "id": "be90e49d-233b-47e5-8111-233f1d15e627",
   "metadata": {},
   "outputs": [],
   "source": [
    "class MNISTGenerator(nn.Module):\n",
    "    def __init__(self, latent_dimension):\n",
    "        super().__init__()\n",
    "\n",
    "        self.generator = nn.Sequential(\n",
    "            nn.Linear(latent_dimension, 256),\n",
    "            nn.LeakyReLU(),\n",
    "            nn.Dropout(p=0.2),\n",
    "            nn.Linear(256, 512),\n",
    "            nn.LeakyReLU(),\n",
    "            nn.Dropout(p=0.2),\n",
    "            nn.Linear(512, 1024),\n",
    "            nn.LeakyReLU(),\n",
    "            nn.Dropout(p=0.2),\n",
    "            nn.Linear(1024, 784),\n",
    "            nn.Tanh()\n",
    "        )\n",
    "\n",
    "    def forward(self, noise):\n",
    "        batch_size = noise.shape[0]\n",
    "        generated = self.generator(noise)\n",
    "        return generated.reshape(batch_size, 1, 28, 28)\n",
    "\n",
    "class MNISTDiscriminator(nn.Module):\n",
    "    def __init__(self):\n",
    "        super().__init__()\n",
    "\n",
    "        self.discriminator = nn.Sequential(\n",
    "            nn.Linear(784, 1024),\n",
    "            nn.LeakyReLU(),\n",
    "            nn.Dropout(p=0.2),\n",
    "            nn.Linear(1024, 512),\n",
    "            nn.LeakyReLU(),\n",
    "            nn.Dropout(p=0.2),\n",
    "            nn.Linear(512, 256),\n",
    "            nn.LeakyReLU(),\n",
    "            nn.Dropout(p=0.2),\n",
    "            nn.Linear(256, 1),\n",
    "        )\n",
    "\n",
    "    def forward(self, x):\n",
    "        batch_size = x.shape[0]\n",
    "        x = x.reshape(batch_size, -1)\n",
    "        return self.discriminator(x)"
   ]
  },
  {
   "cell_type": "markdown",
   "id": "9b8bde02",
   "metadata": {},
   "source": [
    "### <span style=\"color:LightGreen\">Training Parameters</span>"
   ]
  },
  {
   "cell_type": "markdown",
   "id": "cdadc56c-82c5-422d-be01-c51c4c7e29ac",
   "metadata": {},
   "source": [
    "There are a few training parameters we need to set. Here are the important ones! \n",
    "\n",
    "- `latent_dimension`: what length vector of noise do we want to give the generator?\n",
    "\n",
    "- `batch_size`: How many samples do we want to grab? A batch of 128 means we will grab 128 real images from our dataset, and then generate 256 fake images. The discriminator will then get 512 images in total."
   ]
  },
  {
   "cell_type": "code",
   "execution_count": 4,
   "id": "02fe2814-8fce-45b3-b00e-0e6c9a038c2c",
   "metadata": {},
   "outputs": [
    {
     "name": "stdout",
     "output_type": "stream",
     "text": [
      "cuda\n"
     ]
    }
   ],
   "source": [
    "latent_dimension = 100\n",
    "batch_size = 64\n",
    "device = \"cuda\" if torch.cuda.is_available() else \"cpu\"\n",
    "print(device)\n",
    "epochs = 200"
   ]
  },
  {
   "cell_type": "markdown",
   "id": "3cac8078",
   "metadata": {},
   "source": [
    "### <span style=\"color:LightGreen\">Controlling Backpropagation</span>"
   ]
  },
  {
   "cell_type": "markdown",
   "id": "67f44189-d671-4f3c-95ee-39295e00255e",
   "metadata": {},
   "source": [
    "<div>\n",
    "<img src=\"https://raw.githubusercontent.com/illinois-mlp/MachineLearningForPhysics/main/img/GenerativeAdversarialNetworks-gan_backprop.png\" width=800></img>\n",
    "</div>"
   ]
  },
  {
   "cell_type": "markdown",
   "id": "c4031a3f",
   "metadata": {},
   "source": [
    "This is the most important part of our implementation, instead of having one optimizer for our model we will have two separate optimizers, and this is a more important than you might think."
   ]
  },
  {
   "cell_type": "markdown",
   "id": "2e75e35e",
   "metadata": {},
   "source": [
    "#### <span style=\"color:LightPink\">Necessity of Two Optimizers</span>"
   ]
  },
  {
   "cell_type": "markdown",
   "id": "989a9e76",
   "metadata": {},
   "source": [
    "We first pass noise through the generator to create fake images. We then concat the fakes onto the real images, and then pass that stack to the discriminator which will predict the binary task of if each image is real or not. We can use this to compute our BCE Loss at the end. When we do ```loss.backward()```, this will compute gradients for **BOTH THE DISCRIMINATOR AND GENERATOR**. This is because the fake data we concatenated came from the generator, and is therefore a part of the computational graph for backprop. \n",
    "\n",
    "If we only had one optimizer, then when we do ```optimizer.step()``` to update the weights, it will update both the discriminator and generator, but we only want to update the discriminator. This is why we will have two optimizers, each for the different set of weights, so when we have our optimizer for the discriminator only and do ```disc_optimizer.step()```, only the weights of the discriminator will be updated. \n",
    "\n",
    "The same issue occurs when we go to update our generator on the next step. We pass our fake data to the discriminator, pretend its real, and compute the BCE Loss. When we backpropagate, it will compute gradients for the generator and discriminator. Again, by having a separate optimizer for the generator, when we call ```gen_optimizer.step()```, it will only update the generator weights."
   ]
  },
  {
   "cell_type": "markdown",
   "id": "80e438cc",
   "metadata": {},
   "source": [
    "#### <span style=\"color:LightPink\">Zeroing Gradients</span>"
   ]
  },
  {
   "cell_type": "markdown",
   "id": "22b54f7f",
   "metadata": {},
   "source": [
    "This leads to one more issue, lets say I am on my discriminator step, compute the loss and call ```loss.backward()```. This will compute gradients for the entire model again (generator and discriminator) but calling ```disc_optimizer.step()``` to update the weights will only update the discriminator which is what we want. Now we go to the generator step, and we again compute our loss, call ```loss.backward()``` which computes new gradients for the entire model again, but we have a problem. In the discriminator step, we computed gradients for the generator, they just never got used, as we only updated the discriminator. This means, when we call ```loss.backward()``` again in the generator step, the loss from the previous discriminator step and the new generator step on the generator will **ACCUMULATE**!! This is obviously not what we want at all, so an important part is, before we do any gradient computation on the generator step (where we will update the generator), go ahead and zero the gradients on the generator using ```gen_optimizer.zero_grad()```. Similarly, before computing the gradients during the discriminator step, go ahead and zero the gradients on the discriminator. \n",
    "\n",
    "Every ```loss.backward()``` is computing gradients for the full model, we just need to be careful that we update the corrects weights at the correct step, and that we keep the steps separate so losses from the previous step arent affecting the current one. "
   ]
  },
  {
   "cell_type": "code",
   "execution_count": 5,
   "id": "b5c10898-5114-411b-8a47-14b9a14357ce",
   "metadata": {},
   "outputs": [],
   "source": [
    "generator_learning_rate = 0.0001\n",
    "discriminator_learning_rate = 0.0001\n",
    "\n",
    "### Define Models ###\n",
    "generator = MNISTGenerator(latent_dimension).to(device)\n",
    "discriminator = MNISTDiscriminator().to(device)\n",
    "\n",
    "### Define Optimizers ###\n",
    "gen_optimizer = optim.Adam(generator.parameters(), generator_learning_rate)\n",
    "disc_optimizer = optim.Adam(discriminator.parameters(), discriminator_learning_rate)"
   ]
  },
  {
   "cell_type": "markdown",
   "id": "720dae8a",
   "metadata": {},
   "source": [
    "### <span style=\"color:LightGreen\">Quick Dataset Definition for MNIST</span>"
   ]
  },
  {
   "cell_type": "markdown",
   "id": "94a6aa57-1d5e-4a50-9432-2c04582d020b",
   "metadata": {},
   "source": [
    "We normalize our images by taking them from [0-1] to [-1,1] by using a mean and standard deviation of 0.5. This means, when we go to plot our images, we can add 1 and divide by 2 to get back from [-1,1] to [0-1]"
   ]
  },
  {
   "cell_type": "code",
   "execution_count": 6,
   "id": "c909fa6d",
   "metadata": {},
   "outputs": [
    {
     "name": "stdout",
     "output_type": "stream",
     "text": [
      "File ‘tmp_data/MNIST/raw/t10k-images-idx3-ubyte’ already there; not retrieving.\n",
      "File ‘tmp_data/MNIST/raw/t10k-labels-idx1-ubyte’ already there; not retrieving.\n",
      "File ‘tmp_data/MNIST/raw/train-images-idx3-ubyte’ already there; not retrieving.\n",
      "File ‘tmp_data/MNIST/raw/train-labels-idx1-ubyte’ already there; not retrieving.\n"
     ]
    }
   ],
   "source": [
    "wget_data('https://raw.githubusercontent.com/illinois-mlp/MachineLearningForPhysics/main/data/MNIST/t10k-images-idx3-ubyte', 'tmp_data/MNIST/raw')\n",
    "wget_data('https://raw.githubusercontent.com/illinois-mlp/MachineLearningForPhysics/main/data/MNIST/t10k-labels-idx1-ubyte',  'tmp_data/MNIST/raw')\n",
    "wget_data('https://raw.githubusercontent.com/illinois-mlp/MachineLearningForPhysics/main/data/MNIST/train-images-idx3-ubyte', 'tmp_data/MNIST/raw')\n",
    "wget_data('https://raw.githubusercontent.com/illinois-mlp/MachineLearningForPhysics/main/data/MNIST/train-labels-idx1-ubyte', 'tmp_data/MNIST/raw')"
   ]
  },
  {
   "cell_type": "code",
   "execution_count": 7,
   "id": "e972c43e-37f7-4b76-bc89-5406a8c6f405",
   "metadata": {},
   "outputs": [],
   "source": [
    "### Define Datasets ###\n",
    "tensor2image_transforms = transforms.Compose([\n",
    "    transforms.ToTensor(),\n",
    "    transforms.Normalize((0.5,), (0.5,))\n",
    "])\n",
    "\n",
    "trainset = MNIST('./tmp_data', train=True, transform=tensor2image_transforms)\n",
    "trainloader = DataLoader(trainset, batch_size=batch_size, shuffle=True)"
   ]
  },
  {
   "cell_type": "markdown",
   "id": "e122898f",
   "metadata": {},
   "source": [
    "### <span style=\"color:LightGreen\">GAN Training Function</span>"
   ]
  },
  {
   "cell_type": "markdown",
   "id": "5cada122-9ff2-46e9-8a0d-4485d9203cc6",
   "metadata": {},
   "source": [
    "Now the moment of truth, we will train our GAN using the procedure we have outlined until now!"
   ]
  },
  {
   "cell_type": "code",
   "execution_count": 8,
   "id": "7a4409e3-db5c-4206-9d92-28e4b9da01fd",
   "metadata": {},
   "outputs": [
    {
     "data": {
      "application/vnd.jupyter.widget-view+json": {
       "model_id": "b1d2705c50c04a61b3e0fa04692f8f7f",
       "version_major": 2,
       "version_minor": 0
      },
      "text/plain": [
       "  0%|          | 0/200 [00:00<?, ?it/s]"
      ]
     },
     "metadata": {},
     "output_type": "display_data"
    },
    {
     "name": "stdout",
     "output_type": "stream",
     "text": [
      "Epoch: 0/200 | Generator Loss: 2.6769824167177365 | Discriminator Loss: 0.2990636270501212\n"
     ]
    },
    {
     "data": {
      "image/png": "[encoded data removed]",
      "text/plain": [
       "<Figure size 1500x500 with 10 Axes>"
      ]
     },
     "metadata": {},
     "output_type": "display_data"
    },
    {
     "name": "stdout",
     "output_type": "stream",
     "text": [
      "Epoch: 40/200 | Generator Loss: 1.7259214807675083 | Discriminator Loss: 0.3840963811254196\n"
     ]
    },
    {
     "data": {
      "image/png": "[encoded data removed]",
      "text/plain": [
       "<Figure size 1500x500 with 10 Axes>"
      ]
     },
     "metadata": {},
     "output_type": "display_data"
    },
    {
     "name": "stdout",
     "output_type": "stream",
     "text": [
      "Epoch: 80/200 | Generator Loss: 1.39144089532051 | Discriminator Loss: 0.4695096134122755\n"
     ]
    },
    {
     "data": {
      "image/png": "[encoded data removed]",
      "text/plain": [
       "<Figure size 1500x500 with 10 Axes>"
      ]
     },
     "metadata": {},
     "output_type": "display_data"
    },
    {
     "name": "stdout",
     "output_type": "stream",
     "text": [
      "Epoch: 120/200 | Generator Loss: 1.3211020561677815 | Discriminator Loss: 0.4950257363413443\n"
     ]
    },
    {
     "data": {
      "image/png": "[encoded data removed]",
      "text/plain": [
       "<Figure size 1500x500 with 10 Axes>"
      ]
     },
     "metadata": {},
     "output_type": "display_data"
    },
    {
     "name": "stdout",
     "output_type": "stream",
     "text": [
      "Epoch: 160/200 | Generator Loss: 1.3292574981636585 | Discriminator Loss: 0.4937689741854983\n"
     ]
    },
    {
     "data": {
      "image/png": "[encoded data removed]",
      "text/plain": [
       "<Figure size 1500x500 with 10 Axes>"
      ]
     },
     "metadata": {},
     "output_type": "display_data"
    }
   ],
   "source": [
    "def train_unconditional_gan(generator, \n",
    "                            discriminator, \n",
    "                            generator_optimizer, \n",
    "                            discriminator_optimizer, \n",
    "                            dataloader,\n",
    "                            label_smoothing=0.05,\n",
    "                            epochs=epochs,\n",
    "                            device=device, \n",
    "                            plot_generation_freq=50,\n",
    "                            plot_loss_freq=20,\n",
    "                            num_gens=10):\n",
    "\n",
    "    ### Define Loss Function (Will do Sigmoid Internally) ###\n",
    "    loss_func = nn.BCEWithLogitsLoss()\n",
    "\n",
    "    gen_losses, disc_losses = [], []\n",
    "    \n",
    "    for epoch in tqdm(range(epochs)):\n",
    "    \n",
    "        generator_epoch_losses = []\n",
    "        discriminator_epoch_losses = []\n",
    "        \n",
    "        for images, _ in dataloader:\n",
    "    \n",
    "            batch_size = images.shape[0]\n",
    "    \n",
    "            ### These are our real images!! ###\n",
    "            images = images.to(device)\n",
    "            \n",
    "            ########################################################## \n",
    "            ################ TRAIN DISCRIMINATOR #####################\n",
    "            ########################################################## \n",
    "            \n",
    "            ### Sample noise for Generation ###\n",
    "            noise = torch.randn(batch_size, latent_dimension, device=device)\n",
    "\n",
    "            ### Create Labels for Discriminator with label smoothing ###\n",
    "            generated_labels = torch.zeros(batch_size, 1, device=device) + label_smoothing\n",
    "            true_labels = torch.ones(batch_size, 1, device=device) - label_smoothing\n",
    "    \n",
    "            ### Generate Samples G(z) and Take Off Computational Graph ###\n",
    "            generated_images = generator(noise).detach()\n",
    "\n",
    "            ### Pass Generated and Real Images into Discriminator ###\n",
    "            real_discriminator_pred = discriminator(images) \n",
    "            gen_discriminator_pred = discriminator(generated_images)\n",
    "\n",
    "            ### Compute Discriminator Loss ###\n",
    "            real_loss = loss_func(real_discriminator_pred, true_labels)\n",
    "            fake_loss = loss_func(gen_discriminator_pred, generated_labels)\n",
    "            discriminator_loss = (real_loss + fake_loss) / 2\n",
    "            discriminator_epoch_losses.append(discriminator_loss.item())\n",
    "\n",
    "            ### Update Discriminator ###\n",
    "            discriminator_optimizer.zero_grad()\n",
    "            discriminator_loss.backward()\n",
    "            discriminator_optimizer.step()\n",
    "\n",
    "            ########################################################## \n",
    "            ################## TRAIN GENERATOR #######################\n",
    "            ########################################################## \n",
    "            \n",
    "            ### Sample noise for Generation ###\n",
    "            noise = torch.randn(batch_size, latent_dimension, device=device)\n",
    "\n",
    "            ### Generate Images ###\n",
    "            generated_images = generator(noise)\n",
    "\n",
    "            ### Pass Into Discriminator (to fool) ###\n",
    "            gen_discriminator_pred = discriminator(generated_images)\n",
    "\n",
    "            ### Compute Generator Loss ###\n",
    "            generator_loss = loss_func(gen_discriminator_pred, true_labels)\n",
    "            generator_epoch_losses.append(generator_loss.item())\n",
    "\n",
    "            ### Update the Generator ###\n",
    "            generator_optimizer.zero_grad()\n",
    "            generator_loss.backward()\n",
    "            generator_optimizer.step()\n",
    "            \n",
    "        generator_epoch_losses = np.mean(generator_epoch_losses)\n",
    "        discriminator_epoch_losses = np.mean(discriminator_epoch_losses)\n",
    "    \n",
    "        if epoch % plot_loss_freq == 0:\n",
    "            print(f\"Epoch: {epoch}/{epochs} | Generator Loss: {generator_epoch_losses} | Discriminator Loss: {discriminator_epoch_losses}\")\n",
    "    \n",
    "        gen_losses.append(generator_epoch_losses)\n",
    "        disc_losses.append(discriminator_epoch_losses)\n",
    "    \n",
    "        if epoch % plot_generation_freq == 0:\n",
    "            generator.eval()\n",
    "            with torch.no_grad():\n",
    "                noise_sample = torch.randn(num_gens, latent_dimension, device=device)\n",
    "                generated_imgs = generator(noise_sample).to(\"cpu\")\n",
    "        \n",
    "                fig, ax = plt.subplots(1,num_gens, figsize=(15,5))\n",
    "        \n",
    "                for i in range(num_gens):\n",
    "                    img = (generated_imgs[i].squeeze() + 1)/2\n",
    "                    ax[i].imshow(img.numpy(), cmap=\"gray\")\n",
    "                    ax[i].set_axis_off()\n",
    "        \n",
    "                plt.show()\n",
    "                \n",
    "            generator.train()\n",
    "\n",
    "    return generator, discriminator, gen_losses, disc_losses\n",
    "\n",
    "generator, discriminator, gen_losses, disc_losses = train_unconditional_gan(generator=generator, \n",
    "                                                                            discriminator=discriminator, \n",
    "                                                                            generator_optimizer=gen_optimizer, \n",
    "                                                                            discriminator_optimizer=disc_optimizer, \n",
    "                                                                            dataloader=trainloader,\n",
    "                                                                            epochs=epochs,\n",
    "                                                                            device=device, \n",
    "                                                                            plot_generation_freq=40,\n",
    "                                                                            plot_loss_freq=40)"
   ]
  },
  {
   "cell_type": "markdown",
   "id": "be5da03a",
   "metadata": {},
   "source": [
    "### <span style=\"color:LightGreen\">Loss Plot</span>"
   ]
  },
  {
   "cell_type": "markdown",
   "id": "6ffbd793-2f0e-4b29-ab0f-167ca99f398b",
   "metadata": {},
   "source": [
    "Loss values are a really bad way of determining the quality of generations, there are other methods for this that we can explore later. For now though we can see that initially the discriminator got better at detecting real from fake, so you see a dip in the discriminator loss. But as the generator continued to improve, the discriminator got worse!"
   ]
  },
  {
   "cell_type": "code",
   "execution_count": 9,
   "id": "fde58cf3-aad3-4092-8eaa-0b50ed1a7df8",
   "metadata": {},
   "outputs": [
    {
     "data": {
      "image/png": "[encoded data removed]",
      "text/plain": [
       "<Figure size 640x480 with 1 Axes>"
      ]
     },
     "metadata": {},
     "output_type": "display_data"
    }
   ],
   "source": [
    "plt.plot(gen_losses, label=\"Generator Loss\")\n",
    "plt.plot(disc_losses, label=\"Discriminator Loss\")\n",
    "plt.legend()\n",
    "plt.show()"
   ]
  },
  {
   "cell_type": "markdown",
   "id": "4137df71",
   "metadata": {},
   "source": [
    "## <span style=\"color:Orange\">Conditional GAN</span>"
   ]
  },
  {
   "cell_type": "markdown",
   "id": "0865c00b-2312-4fd4-8d3c-bd9c3cbbaebb",
   "metadata": {},
   "source": [
    "<div>\n",
    "<img src=\"https://raw.githubusercontent.com/illinois-mlp/MachineLearningForPhysics/main/img/GenerativeAdversarialNetworks-conditional_gan.png\" width=800></img>\n",
    "</div>"
   ]
  },
  {
   "cell_type": "markdown",
   "id": "1eb51d6e",
   "metadata": {},
   "source": [
    "Although we have a GAN that can now successfully generate images, what we are missing is the ability to control what is generated! If I want to generate the digit 7, then let me actually control that, not just randomly generate until I get a 7. \n",
    "\n",
    "<span style=\"color:Violet\">Conditional GANs</span> are used to learn a multimodal model. It basically generates descriptive labels which are the attributes associated with the particular image that was not part of the original training data. \n",
    "\n",
    "Conditional GAN works exactly like this, and we pass in a conditioning signal. This sounds fancy, but really we are just concatenating on some extra information about which digit we want. We saw in our exploration of [sequence modeling](https://github.com/priyammaz/PyTorch-Adventures/tree/main/PyTorch%20for%20NLP/Recurrent%20Neural%20Networks/IMDB%20Classification) that we have to convert tokens to embeddings, and the embeddings for each token represent their meaning. In the same way, we have the digits 0 - 9 in our dataset, so we will have embeddings for each digit, and that will encode whcih digit we are wanting to generate! Before we had no use for the labels to generate our data, but now we will actually incorporate the MNIST labels to have some control over the generation."
   ]
  },
  {
   "cell_type": "markdown",
   "id": "ea0ca9b6",
   "metadata": {},
   "source": [
    "### <span style=\"color:LightGreen\">Why does a Conditional GAN Work?</span>"
   ]
  },
  {
   "cell_type": "markdown",
   "id": "07ff9a73",
   "metadata": {},
   "source": [
    "There will be two embeddings matricies that convert digit labels to vectors, one in the generator and the other in the discriminator. In the generator, we can randomly sample digit labels (for some batch size) and then pass it into our generator with our randomly sampled noise. The generators goal will be to generate an image that matches with the corresponding digit. \n",
    "\n",
    "We then concatenate together true images with our generated images (just like before) but also true labels with our previously randomly sampled labels. This stack of true/fake images along with their labels will then be passed to the discriminator, which will have both image data and label data to determine if the images are real or fake. There are then two ways for the discriminator to determine between real and fake images:\n",
    "\n",
    "1) The generated image looks different from true images (this is what the model was using previously)\n",
    "\n",
    "2) The relation between true images and their labels is different from the relationship between generated images and their labels.\n",
    "\n",
    "Therefore, for the generator to successfully fool the discriminator, the model must generate images that look good, but also generate images that match its corresponding label. Therefore, the embeddings in the generator will be squarely for the generative task of creating digits that coorespond with their labels, and the embeddings in discriminator will be for identfying the relationships between those embeddings and real vs fake images."
   ]
  },
  {
   "cell_type": "markdown",
   "id": "5104b960",
   "metadata": {},
   "source": [
    "### <span style=\"color:LightGreen\">Model Details</span>"
   ]
  },
  {
   "cell_type": "markdown",
   "id": "ebd3fc14",
   "metadata": {},
   "source": [
    "The only change from our previous model then is adding in the embedding matricies (that will have 10 embeddings for our 10 digits), and a hyperparameter is to determine the embedding dimension."
   ]
  },
  {
   "cell_type": "code",
   "execution_count": 10,
   "id": "fdff9522-0733-4872-b2fd-8817e96834bf",
   "metadata": {},
   "outputs": [],
   "source": [
    "class MNISTConditionalGenerator(nn.Module):\n",
    "    def __init__(self, \n",
    "                 latent_dimension=100,\n",
    "                 num_embeddings=10, \n",
    "                 embedding_dim=16):\n",
    "        \n",
    "        super().__init__()\n",
    "\n",
    "        self.embeddings = nn.Embedding(num_embeddings, embedding_dim)\n",
    "        \n",
    "        self.generator = nn.Sequential(\n",
    "            nn.Linear(latent_dimension+embedding_dim, 256),\n",
    "            nn.LeakyReLU(),\n",
    "            nn.Dropout(p=0.2),\n",
    "            nn.Linear(256, 512),\n",
    "            nn.LeakyReLU(),\n",
    "            nn.Dropout(p=0.2),\n",
    "            nn.Linear(512, 1024),\n",
    "            nn.LeakyReLU(),\n",
    "            nn.Dropout(p=0.2),\n",
    "            nn.Linear(1024, 784),\n",
    "            nn.Tanh()\n",
    "        )\n",
    "\n",
    "    def forward(self, noise, labels):\n",
    "        batch_size = noise.shape[0]\n",
    "\n",
    "        ### Get Digit Embeddings ###\n",
    "        embeddings = self.embeddings(labels)\n",
    "\n",
    "        ### Concat Embeddings onto Noise ###\n",
    "        noise = torch.cat([noise, embeddings], dim=-1)\n",
    "     \n",
    "        ### Pass Noise+Embeddings into Generator ###    \n",
    "        generated = self.generator(noise)\n",
    "        return generated.reshape(batch_size, 1, 28, 28)\n",
    "\n",
    "class MNISTConditionalDiscriminator(nn.Module):\n",
    "    def __init__(self, \n",
    "                 num_embeddings=10, \n",
    "                 embedding_dim=16):\n",
    "        super().__init__()\n",
    "\n",
    "        self.embeddings = nn.Embedding(num_embeddings, embedding_dim)\n",
    "        \n",
    "        self.discriminator = nn.Sequential(\n",
    "            nn.Linear(784+embedding_dim, 1024),\n",
    "            nn.LeakyReLU(),\n",
    "            nn.Dropout(p=0.2),\n",
    "            nn.Linear(1024, 512),\n",
    "            nn.LeakyReLU(),\n",
    "            nn.Dropout(p=0.2),\n",
    "            nn.Linear(512, 256),\n",
    "            nn.LeakyReLU(),\n",
    "            nn.Dropout(p=0.2),\n",
    "            nn.Linear(256, 1),\n",
    "        )\n",
    "\n",
    "    def forward(self, x, labels):\n",
    "        batch_size = x.shape[0]\n",
    "\n",
    "        ### Get Digit Embeddings ###\n",
    "        embeddings = self.embeddings(labels)\n",
    "\n",
    "        ### Flatten Images to Vectors ###\n",
    "        x = x.reshape(batch_size, -1)\n",
    "\n",
    "        ### Concat Embeddings to Images ###\n",
    "        x = torch.cat([x, embeddings], dim=-1)\n",
    "        \n",
    "        return self.discriminator(x)"
   ]
  },
  {
   "cell_type": "markdown",
   "id": "e2fb9683",
   "metadata": {},
   "source": [
    "### <span style=\"color:LightGreen\">Train Conditional GAN</span>"
   ]
  },
  {
   "cell_type": "markdown",
   "id": "feb33ace-fddb-43e5-b763-ec3afad3f25c",
   "metadata": {},
   "source": [
    "This is basically the same as before! Just need to add in the extra step of randomly generating labels as well!"
   ]
  },
  {
   "cell_type": "code",
   "execution_count": 11,
   "id": "27107260-8b71-4e27-bb3d-64726500b7d5",
   "metadata": {},
   "outputs": [
    {
     "data": {
      "application/vnd.jupyter.widget-view+json": {
       "model_id": "8490c0ae2835408eadda56d000f121cc",
       "version_major": 2,
       "version_minor": 0
      },
      "text/plain": [
       "  0%|          | 0/200 [00:00<?, ?it/s]"
      ]
     },
     "metadata": {},
     "output_type": "display_data"
    },
    {
     "name": "stdout",
     "output_type": "stream",
     "text": [
      "Epoch: 0/200 | Generator Loss: 2.636120885991847 | Discriminator Loss: 0.3177546502303467\n"
     ]
    },
    {
     "data": {
      "image/png": "[encoded data removed]",
      "text/plain": [
       "<Figure size 1500x500 with 10 Axes>"
      ]
     },
     "metadata": {},
     "output_type": "display_data"
    },
    {
     "name": "stdout",
     "output_type": "stream",
     "text": [
      "Epoch: 40/200 | Generator Loss: 1.1192922398988119 | Discriminator Loss: 0.5607982159995321\n"
     ]
    },
    {
     "data": {
      "image/png": "[encoded data removed]",
      "text/plain": [
       "<Figure size 1500x500 with 10 Axes>"
      ]
     },
     "metadata": {},
     "output_type": "display_data"
    },
    {
     "name": "stdout",
     "output_type": "stream",
     "text": [
      "Epoch: 80/200 | Generator Loss: 1.0513921201483274 | Discriminator Loss: 0.5820346546770413\n"
     ]
    },
    {
     "data": {
      "image/png": "[encoded data removed]",
      "text/plain": [
       "<Figure size 1500x500 with 10 Axes>"
      ]
     },
     "metadata": {},
     "output_type": "display_data"
    },
    {
     "name": "stdout",
     "output_type": "stream",
     "text": [
      "Epoch: 120/200 | Generator Loss: 1.1380030687556846 | Discriminator Loss: 0.5605862593409349\n"
     ]
    },
    {
     "data": {
      "image/png": "[encoded data removed]",
      "text/plain": [
       "<Figure size 1500x500 with 10 Axes>"
      ]
     },
     "metadata": {},
     "output_type": "display_data"
    },
    {
     "name": "stdout",
     "output_type": "stream",
     "text": [
      "Epoch: 160/200 | Generator Loss: 1.217553477869359 | Discriminator Loss: 0.5422999509044294\n"
     ]
    },
    {
     "data": {
      "image/png": "[encoded data removed]",
      "text/plain": [
       "<Figure size 1500x500 with 10 Axes>"
      ]
     },
     "metadata": {},
     "output_type": "display_data"
    }
   ],
   "source": [
    "generator_learning_rate = 0.0001\n",
    "discriminator_learning_rate = 0.0001\n",
    "\n",
    "### Define Models ###\n",
    "generator = MNISTConditionalGenerator().to(device)\n",
    "discriminator = MNISTConditionalDiscriminator().to(device)\n",
    "\n",
    "### Define Optimizers ###\n",
    "gen_optimizer = optim.Adam(generator.parameters(), generator_learning_rate)\n",
    "disc_optimizer = optim.Adam(discriminator.parameters(), discriminator_learning_rate)\n",
    "\n",
    "def train_conditional_gan(generator, \n",
    "                          discriminator, \n",
    "                          generator_optimizer, \n",
    "                          discriminator_optimizer, \n",
    "                          dataloader,\n",
    "                          label_smoothing=0.05,\n",
    "                          epochs=epochs,\n",
    "                          device=device, \n",
    "                          plot_generation_freq=50,\n",
    "                          plot_loss_freq=20,\n",
    "                          num_classes=10):\n",
    "\n",
    "    ### Define Loss Function (Will do Sigmoid Internally) ###\n",
    "    loss_func = nn.BCEWithLogitsLoss()\n",
    "\n",
    "    gen_losses, disc_losses = [], []\n",
    "    \n",
    "    for epoch in tqdm(range(epochs)):\n",
    "    \n",
    "        generator_epoch_losses = []\n",
    "        discriminator_epoch_losses = []\n",
    "        \n",
    "        for images, true_digits in dataloader:\n",
    "    \n",
    "            batch_size = images.shape[0]\n",
    "    \n",
    "            ### These are our real images!! ###\n",
    "            images = images.to(device)\n",
    "            true_digits = true_digits.to(device)\n",
    "            \n",
    "            ########################################################## \n",
    "            ################ TRAIN DISCRIMINATOR #####################\n",
    "            ########################################################## \n",
    "            \n",
    "            ### NEW: Sample noise/random digits for Generation ###\n",
    "            rand_digits = torch.randint(0,num_classes, size=(batch_size,), device=device)\n",
    "            noise = torch.randn(batch_size, latent_dimension, device=device)\n",
    "\n",
    "            ### Create Labels for Discriminator with label smoothing ###\n",
    "            generated_labels = torch.zeros(batch_size, 1, device=device) + label_smoothing\n",
    "            true_labels = torch.ones(batch_size, 1, device=device) - label_smoothing\n",
    "    \n",
    "            ### Generate Samples G(z) and Take Off Computational Graph ###\n",
    "            generated_images = generator(noise, rand_digits).detach()\n",
    "\n",
    "            ### Pass Generated and Real Images into Discriminator ###\n",
    "            real_discriminator_pred = discriminator(images, true_digits) \n",
    "            gen_discriminator_pred = discriminator(generated_images, rand_digits)\n",
    "\n",
    "            ### Compute Discriminator Loss ###\n",
    "            real_loss = loss_func(real_discriminator_pred, true_labels)\n",
    "            fake_loss = loss_func(gen_discriminator_pred, generated_labels)\n",
    "            discriminator_loss = (real_loss + fake_loss) / 2\n",
    "            discriminator_epoch_losses.append(discriminator_loss.item())\n",
    "\n",
    "            ### Update Discriminator ###\n",
    "            discriminator_optimizer.zero_grad()\n",
    "            discriminator_loss.backward()\n",
    "            discriminator_optimizer.step()\n",
    "\n",
    "            ########################################################## \n",
    "            ################## TRAIN GENERATOR #######################\n",
    "            ########################################################## \n",
    "            \n",
    "            ### NEW: Sample noise for Generation ###\n",
    "            rand_digits = torch.randint(0,num_classes, size=(batch_size,), device=device)\n",
    "            noise = torch.randn(batch_size, latent_dimension, device=device)\n",
    "\n",
    "            ### Generate Images ###\n",
    "            generated_images = generator(noise, rand_digits)\n",
    "\n",
    "            ### Pass Into Discriminator (to fool) ###\n",
    "            gen_discriminator_pred = discriminator(generated_images, rand_digits)\n",
    "\n",
    "            ### Compute Generator Loss ###\n",
    "            generator_loss = loss_func(gen_discriminator_pred, true_labels)\n",
    "            generator_epoch_losses.append(generator_loss.item())\n",
    "\n",
    "            ### Update the Generator ###\n",
    "            generator_optimizer.zero_grad()\n",
    "            generator_loss.backward()\n",
    "            generator_optimizer.step()\n",
    "            \n",
    "        generator_epoch_losses = np.mean(generator_epoch_losses)\n",
    "        discriminator_epoch_losses = np.mean(discriminator_epoch_losses)\n",
    "    \n",
    "        if epoch % plot_loss_freq == 0:\n",
    "            print(f\"Epoch: {epoch}/{epochs} | Generator Loss: {generator_epoch_losses} | Discriminator Loss: {discriminator_epoch_losses}\")\n",
    "    \n",
    "        gen_losses.append(generator_epoch_losses)\n",
    "        disc_losses.append(discriminator_epoch_losses)\n",
    "    \n",
    "        if epoch % plot_generation_freq == 0:\n",
    "            generator.eval()\n",
    "            with torch.no_grad():\n",
    "                digits = torch.arange(num_classes, device=device)\n",
    "                noise_sample = torch.randn(num_classes, latent_dimension, device=device)\n",
    "                generated_imgs = generator(noise_sample, digits).to(\"cpu\")\n",
    "        \n",
    "                fig, ax = plt.subplots(1,num_classes, figsize=(15,5))\n",
    "        \n",
    "                for i in range(num_classes):\n",
    "                    img = (generated_imgs[i].squeeze() + 1)/2\n",
    "                    ax[i].imshow(img.numpy(), cmap=\"gray\")\n",
    "                    ax[i].set_axis_off()\n",
    "        \n",
    "                plt.show()\n",
    "                \n",
    "            generator.train()\n",
    "\n",
    "    return generator, discriminator, gen_losses, disc_losses\n",
    "    \n",
    "generator, discriminator, gen_losses, disc_losses = train_conditional_gan(generator=generator, \n",
    "                                                                          discriminator=discriminator, \n",
    "                                                                          generator_optimizer=gen_optimizer, \n",
    "                                                                          discriminator_optimizer=disc_optimizer, \n",
    "                                                                          dataloader=trainloader,\n",
    "                                                                          epochs=epochs,\n",
    "                                                                          device=device, \n",
    "                                                                          plot_generation_freq=40,\n",
    "                                                                          plot_loss_freq=40)"
   ]
  },
  {
   "cell_type": "markdown",
   "id": "9ad03fac",
   "metadata": {},
   "source": [
    "## <span style=\"color:Orange\">What about Convolutions?</span>"
   ]
  },
  {
   "cell_type": "markdown",
   "id": "fd05c72c-5d16-489f-8eb1-bea5c6879694",
   "metadata": {},
   "source": [
    "So now we have a working idea of GANs being applied for conditional and unconditional tasks. But we have only been using linear layer, and if we are working with images, we know mechanisms like Convolutions are much better. So lets try to do exactly what we did, just rebuild the model with Convolutions instead."
   ]
  },
  {
   "cell_type": "markdown",
   "id": "01ad1204",
   "metadata": {},
   "source": [
    "### <span style=\"color:LightGreen\">Upsampling</span>"
   ]
  },
  {
   "cell_type": "markdown",
   "id": "ff75aa22",
   "metadata": {},
   "source": [
    "There are a bunch of ways we can do this actually, but the main idea is, if our final image is of size `28x28`, we can start by creating a tensor of size `7x7`, and use either transpose convolutions to upsample, or we can use basic biliear upsampling + convolution. This way we will upsample from `7x7` $\\to$ `14x14` $\\to$ `28x28` giving us the image size we want."
   ]
  },
  {
   "cell_type": "markdown",
   "id": "fe706e51",
   "metadata": {},
   "source": [
    "### <span style=\"color:LightGreen\">Noise and Conditioning</span>"
   ]
  },
  {
   "cell_type": "markdown",
   "id": "9cbb5e8d",
   "metadata": {},
   "source": [
    "The other thing is how we do our noise, and there are again a few ways to do this. For simplicity today, we will sample some latent_dimension (currently 100), concatenate our digit embeddings, and then use a linear layer to project it to a (`in_channels x 7 x 7`), where the number of input channels is a hyperparameter. We could also generate noise in the (`in_channels x 7 x 7`) shape we want to begin with, but then adding a conditioning signal becomes slightly more complicated and I'm going for barebones here for an introductory tutorial.\n",
    "\n",
    "When we look at [Diffusion](https://illinois-mlp.github.io/MachineLearningForPhysics/_sources/lectures/VariationalAutoEncoders.html) later we will explore the more complex Cross-Attention and Additive Conditioning, so for now lets just do this the easist way possible."
   ]
  },
  {
   "cell_type": "markdown",
   "id": "e0c17d26",
   "metadata": {},
   "source": [
    "___<span style=\"color:Violet\">Note: No Change to the Discriminator___</span>: Because MNIST is such a simple dataset we can probably just leave the discriminator as the regular ```MNISTConditionalDiscriminator``` we wrote earlier. In more complex generative tasks, we will have to explore more complex discriminators that leverage convolutions (i.e. PatchGAN), but for now lets keep it simple!\n"
   ]
  },
  {
   "cell_type": "code",
   "execution_count": 12,
   "id": "4c943e17-0953-4170-ac3a-72274bf2e961",
   "metadata": {},
   "outputs": [],
   "source": [
    "class UpsampleBlock(nn.Module):\n",
    "    def __init__(self, in_channels, out_channels, interpolate=False):\n",
    "        super().__init__()\n",
    "        if interpolate:\n",
    "            self.upsample = nn.Sequential(\n",
    "                nn.Upsample(scale_factor=2),\n",
    "                nn.Conv2d(in_channels, \n",
    "                          out_channels, \n",
    "                          kernel_size=3, \n",
    "                          padding=\"same\")\n",
    "            )\n",
    "\n",
    "        else:\n",
    "\n",
    "            # I just messed with the padding and output padding to ensure that\n",
    "            # (7x7) goes to (14x14) and (14x14) goes to (28x28)\n",
    "            # So we always have a 2x upsample\n",
    "            self.upsample = nn.ConvTranspose2d(in_channels, \n",
    "                                               out_channels,\n",
    "                                               kernel_size=3, \n",
    "                                               stride=2, \n",
    "                                               padding=1, \n",
    "                                               output_padding=1)\n",
    "            \n",
    "\n",
    "    def forward(self, x):\n",
    "        return self.upsample(x)\n",
    "        \n",
    "class ConvMNISTConditionalGenerator(nn.Module):\n",
    "    def __init__(self, \n",
    "                 in_channels=128,\n",
    "                 start_dim=7,\n",
    "                 latent_dimension=100,\n",
    "                 num_embeddings=10, \n",
    "                 embedding_dim=16,\n",
    "                 interpolate=False):\n",
    "        \n",
    "        super().__init__()\n",
    "\n",
    "        self.start_dim = start_dim\n",
    "        self.in_channels = in_channels\n",
    "        \n",
    "        self.embeddings = nn.Embedding(num_embeddings, embedding_dim)\n",
    "\n",
    "        self.lin2img = nn.Linear(latent_dimension+embedding_dim, in_channels * start_dim * start_dim)\n",
    "        \n",
    "        self.generator = nn.Sequential(\n",
    "            UpsampleBlock(in_channels, 256),\n",
    "            nn.BatchNorm2d(256),\n",
    "            nn.ReLU(),\n",
    "            nn.Conv2d(256,128,kernel_size=3, padding=\"same\"), \n",
    "            nn.BatchNorm2d(128),\n",
    "            nn.ReLU(),\n",
    "            UpsampleBlock(128, 64),\n",
    "            nn.BatchNorm2d(64),\n",
    "            nn.ReLU(),\n",
    "            nn.Conv2d(64,1,kernel_size=3, padding=\"same\"), \n",
    "            nn.Tanh()\n",
    "        )\n",
    "\n",
    "    def forward(self, noise, labels):\n",
    "        batch_size = noise.shape[0]\n",
    "\n",
    "        ### Get Digit Embeddings ###\n",
    "        embeddings = self.embeddings(labels)\n",
    "\n",
    "        ### Concat Embeddings onto Noise ###\n",
    "        noise = torch.cat([noise, embeddings], dim=-1)\n",
    "\n",
    "        ### Project Noise to Img Space ###\n",
    "        noise = self.lin2img(noise)\n",
    "\n",
    "        ### Reshape Noise to Image Shape ###\n",
    "        noise = noise.reshape(batch_size, self.in_channels, self.start_dim, self.start_dim)\n",
    "     \n",
    "        ### Pass Noise+Embeddings into Generator ###    \n",
    "        generated = self.generator(noise)\n",
    "        \n",
    "        return generated.reshape(batch_size, 1, 28, 28)\n"
   ]
  },
  {
   "cell_type": "code",
   "execution_count": 13,
   "id": "a1818191-faf6-4034-bdf2-e0141179d269",
   "metadata": {},
   "outputs": [
    {
     "data": {
      "application/vnd.jupyter.widget-view+json": {
       "model_id": "9794906ba97f42b89c5a0a39208d8c88",
       "version_major": 2,
       "version_minor": 0
      },
      "text/plain": [
       "  0%|          | 0/200 [00:00<?, ?it/s]"
      ]
     },
     "metadata": {},
     "output_type": "display_data"
    },
    {
     "name": "stdout",
     "output_type": "stream",
     "text": [
      "Epoch: 0/200 | Generator Loss: 1.8515087947535362 | Discriminator Loss: 0.4053894651851166\n"
     ]
    },
    {
     "data": {
      "image/png": "[encoded data removed]",
      "text/plain": [
       "<Figure size 1500x500 with 10 Axes>"
      ]
     },
     "metadata": {},
     "output_type": "display_data"
    },
    {
     "data": {
      "image/png": "[encoded data removed]",
      "text/plain": [
       "<Figure size 1500x500 with 10 Axes>"
      ]
     },
     "metadata": {},
     "output_type": "display_data"
    },
    {
     "name": "stdout",
     "output_type": "stream",
     "text": [
      "Epoch: 40/200 | Generator Loss: 0.7067192086278756 | Discriminator Loss: 0.6890663227546953\n"
     ]
    },
    {
     "data": {
      "image/png": "[encoded data removed]",
      "text/plain": [
       "<Figure size 1500x500 with 10 Axes>"
      ]
     },
     "metadata": {},
     "output_type": "display_data"
    },
    {
     "name": "stdout",
     "output_type": "stream",
     "text": [
      "Epoch: 80/200 | Generator Loss: 0.7044211410637349 | Discriminator Loss: 0.6896945334700887\n"
     ]
    },
    {
     "data": {
      "image/png": "[encoded data removed]",
      "text/plain": [
       "<Figure size 1500x500 with 10 Axes>"
      ]
     },
     "metadata": {},
     "output_type": "display_data"
    },
    {
     "name": "stdout",
     "output_type": "stream",
     "text": [
      "Epoch: 120/200 | Generator Loss: 0.7335786670128673 | Discriminator Loss: 0.6791371620540172\n"
     ]
    },
    {
     "data": {
      "image/png": "[encoded data removed]",
      "text/plain": [
       "<Figure size 1500x500 with 10 Axes>"
      ]
     },
     "metadata": {},
     "output_type": "display_data"
    },
    {
     "data": {
      "image/png": "[encoded data removed]",
      "text/plain": [
       "<Figure size 1500x500 with 10 Axes>"
      ]
     },
     "metadata": {},
     "output_type": "display_data"
    },
    {
     "name": "stdout",
     "output_type": "stream",
     "text": [
      "Epoch: 160/200 | Generator Loss: 0.8706077705822519 | Discriminator Loss: 0.6365595365256898\n"
     ]
    },
    {
     "data": {
      "image/png": "[encoded data removed]",
      "text/plain": [
       "<Figure size 1500x500 with 10 Axes>"
      ]
     },
     "metadata": {},
     "output_type": "display_data"
    }
   ],
   "source": [
    "generator_learning_rate = 0.0001\n",
    "discriminator_learning_rate = 0.0001\n",
    "\n",
    "### Define Models ###\n",
    "generator = ConvMNISTConditionalGenerator(interpolate=False).to(device)\n",
    "discriminator = MNISTConditionalDiscriminator().to(device)\n",
    "\n",
    "### Define Optimizers ###\n",
    "gen_optimizer = optim.Adam(generator.parameters(), generator_learning_rate)\n",
    "disc_optimizer = optim.Adam(discriminator.parameters(), discriminator_learning_rate)\n",
    "\n",
    "\n",
    "generator, discriminator, gen_losses, disc_losses = train_conditional_gan(generator=generator, \n",
    "                                                                          discriminator=discriminator, \n",
    "                                                                          generator_optimizer=gen_optimizer, \n",
    "                                                                          discriminator_optimizer=disc_optimizer, \n",
    "                                                                          dataloader=trainloader,\n",
    "                                                                          epochs=epochs,\n",
    "                                                                          device=device, \n",
    "                                                                          plot_generation_freq=30,\n",
    "                                                                          plot_loss_freq=40)"
   ]
  },
  {
   "cell_type": "markdown",
   "id": "cb2b1f73",
   "metadata": {},
   "source": [
    "## <span style=\"color:Orange\">Fin</span>"
   ]
  },
  {
   "cell_type": "markdown",
   "id": "7ce9d9a9-7e60-4a64-a951-5afb8c1fa6fb",
   "metadata": {},
   "source": [
    "That should get you started if you want to do more exploration of GANs. I personally don't see GANs being used directly as much anymore and Diffusion models provide better generative capabilities, but the GAN Loss on the other hand is employed quite a bit to promote realism when training!"
   ]
  },
  {
   "cell_type": "markdown",
   "id": "b3072df3",
   "metadata": {},
   "source": [
    "## <span style=\"color:Orange\">Acknowledgments</span>\n",
    "\n",
    "* Initial version: Mark Neubauer\n",
    "  * Modified from the following [tutorial](https://github.com/priyammaz/PyTorch-Adventures/tree/main/PyTorch%20for%20Generation/Generative%20Adversarial%20Network)\n",
    "\n",
    "© Copyright 2025"
   ]
  }
 ],
 "metadata": {
  "kernelspec": {
   "display_name": "venv",
   "language": "python",
   "name": "python3"
  },
  "language_info": {
   "codemirror_mode": {
    "name": "ipython",
    "version": 3
   },
   "file_extension": ".py",
   "mimetype": "text/x-python",
   "name": "python",
   "nbconvert_exporter": "python",
   "pygments_lexer": "ipython3",
   "version": "3.12.7"
  }
 },
 "nbformat": 4,
 "nbformat_minor": 5
}
