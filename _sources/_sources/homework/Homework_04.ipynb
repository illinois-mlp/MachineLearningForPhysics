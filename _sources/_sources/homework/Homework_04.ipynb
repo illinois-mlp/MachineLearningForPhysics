{
 "cells": [
  {
   "cell_type": "markdown",
   "metadata": {},
   "source": [
    "# Homework 04: Metropolis-Hastings and Cross Validation"
   ]
  },
  {
   "cell_type": "code",
   "execution_count": null,
   "metadata": {},
   "outputs": [],
   "source": [
    "%matplotlib inline\n",
    "import matplotlib.pyplot as plt\n",
    "import seaborn as sns; sns.set()\n",
    "import numpy as np\n",
    "import pandas as pd\n",
    "import os.path\n",
    "import subprocess"
   ]
  },
  {
   "cell_type": "code",
   "execution_count": null,
   "metadata": {},
   "outputs": [],
   "source": [
    "from sklearn import model_selection, ensemble"
   ]
  },
  {
   "cell_type": "markdown",
   "metadata": {},
   "source": [
    "Helpers for Getting, Loading and Locating Data"
   ]
  },
  {
   "cell_type": "code",
   "execution_count": null,
   "metadata": {},
   "outputs": [],
   "source": [
    "def wget_data(url: str):\n",
    "    local_path = './tmp_data'\n",
    "    p = subprocess.Popen([\"wget\", \"-nc\", \"-P\", local_path, url], stderr=subprocess.PIPE, encoding='UTF-8')\n",
    "    rc = None\n",
    "    while rc is None:\n",
    "      line = p.stderr.readline().strip('\\n')\n",
    "      if len(line) > 0:\n",
    "        print(line)\n",
    "      rc = p.poll()\n",
    "\n",
    "def locate_data(name, check_exists=True):\n",
    "    local_path='./tmp_data'\n",
    "    path = os.path.join(local_path, name)\n",
    "    if check_exists and not os.path.exists(path):\n",
    "        raise RuxntimeError('No such data file: {}'.format(path))\n",
    "    return path"
   ]
  },
  {
   "cell_type": "markdown",
   "metadata": {},
   "source": [
    "## <span style=\"color:Orange\">Problem 1</span>"
   ]
  },
  {
   "cell_type": "markdown",
   "metadata": {},
   "source": [
    "In this problem, you will implement a Metropolis update rule to sample a Markov chain for the un-normalized probability density:\n",
    "$$\n",
    "P(x, y) \\propto \\frac{1}{2} \\exp\\left[-\\frac{(x/s)^2 + (y s)^2}{2}\\right] +\n",
    "\\frac{1}{2} \\exp\\left[-\\frac{(x s)^2 + (y/s)^2}{2}\\right]\n",
    "$$\n",
    "with hyperparameter $s > 0$."
   ]
  },
  {
   "cell_type": "code",
   "execution_count": null,
   "metadata": {},
   "outputs": [],
   "source": [
    "def P(x,y,s):\n",
    "    return 0.5 * (np.exp(-0.5 * ((x / s) ** 2 + (y * s) ** 2)) + np.exp(-0.5 * ((x * s) ** 2 + (y / s) ** 2)))"
   ]
  },
  {
   "cell_type": "code",
   "execution_count": null,
   "metadata": {},
   "outputs": [],
   "source": [
    "def plot_P(s=3, lim=5):\n",
    "    fig = plt.figure(figsize=(6, 6))\n",
    "    xy = np.linspace(-lim, +lim, 250)\n",
    "    Pxy = P(xy, xy[:, np.newaxis], s)\n",
    "    plt.contour(xy, xy, Pxy, [0.1, 0.2, 0.3], colors='r')\n",
    "    \n",
    "plot_P()"
   ]
  },
  {
   "cell_type": "markdown",
   "metadata": {},
   "source": [
    "Implement the function below to perform a Metropolis update starting from $(x,y)$ and using a Gaussian proposal distribution $Q(x,y)$ centered at $(0,0)$ with standard deviation $\\sigma$ along both coordinates. Use the \"random walk\" mode for your proposed updates.  (Recall that Metropolis updates are a special case of Metropolis-Hastings updates where the ratio of $Q$ factors cancels in the Hastings ratio.)"
   ]
  },
  {
   "cell_type": "code",
   "execution_count": null,
   "metadata": {},
   "outputs": [],
   "source": [
    "def metropolis_update(x, y, s, gen, sigma=1):\n",
    "    \"\"\"Perform a single Metropolis update.\n",
    "    \n",
    "    Parameters\n",
    "    ----------\n",
    "    x : float\n",
    "        Value of x from the previous step.\n",
    "    y : float\n",
    "        Value of y from the previous step.\n",
    "    s : float\n",
    "        Value of the hyperparameter s.\n",
    "    gen : np.random.RandomState\n",
    "        Random state to use for reproducible random samples.\n",
    "    sigma : float\n",
    "        Standard deviation of the Gaussian proposal distribution Q(x,y).\n",
    "        \n",
    "    Returns\n",
    "    -------\n",
    "    tuple\n",
    "        Tuple (x,y) of the position after the update.\n",
    "\n",
    "    \"\"\"\n",
    "\n",
    "    # YOUR CODE HERE\n",
    "    raise NotImplementedError()"
   ]
  },
  {
   "cell_type": "code",
   "execution_count": null,
   "metadata": {},
   "outputs": [],
   "source": [
    "# A correct solution should pass these tests.\n",
    "s, n = 3, 1000\n",
    "gen = np.random.RandomState(seed=123)\n",
    "# Generate steps from (0, 0) with sigma=1\n",
    "xy = np.array([metropolis_update(0, 0, s, gen, sigma=1) for i in range(n)])\n",
    "nrepeat = np.count_nonzero(np.all(xy == [0, 0], axis=1))\n",
    "assert np.allclose(nrepeat / n, 0.69967, atol=0.1, rtol=0.1)\n",
    "assert np.allclose(np.mean(xy, axis=0), [0, 0], atol=0.1, rtol=0.1)\n",
    "# Generate steps from (5, 0) with sigma=1\n",
    "xy = np.array([metropolis_update(5, 0, s, gen, sigma=1) for i in range(n)])\n",
    "nrepeat = np.count_nonzero(np.all(xy == [5, 0], axis=1))\n",
    "assert np.allclose(nrepeat / n, 0.70136, atol=0.1, rtol=0.1)\n",
    "assert np.allclose(np.mean(xy, axis=0), [4.893, 0], atol=0.1, rtol=0.1)\n",
    "# Generate steps from (1, -1) with sigma=1\n",
    "xy = np.array([metropolis_update(1, -1, s, gen, sigma=1) for i in range(n)])\n",
    "nrepeat = np.count_nonzero(np.all(xy == [1, -1], axis=1))\n",
    "assert np.allclose(nrepeat / n, 0.26665, atol=0.1, rtol=0.1)\n",
    "assert np.allclose(np.mean(xy, axis=0), [0.822, -0.822], atol=0.1, rtol=0.1)\n",
    "# Generate steps from (1, -1) with sigma=2\n",
    "xy = np.array([metropolis_update(1, -1, s, gen, sigma=2) for i in range(n)])\n",
    "nrepeat = np.count_nonzero(np.all(xy == [1, -1], axis=1))\n",
    "assert np.allclose(nrepeat / n, 0.43847, atol=0.1, rtol=0.1)\n",
    "assert np.allclose(np.mean(xy, axis=0), [0.781, -0.781], atol=0.1, rtol=0.1)"
   ]
  },
  {
   "cell_type": "markdown",
   "metadata": {},
   "source": [
    "Test your solution with the following visualization:"
   ]
  },
  {
   "cell_type": "code",
   "execution_count": null,
   "metadata": {},
   "outputs": [],
   "source": [
    "def plot_chain(update_rule, x0=0, y0=0, s=3, n_updates=200, lim=5, seed=123, **kwargs):\n",
    "    gen = np.random.RandomState(seed=seed)\n",
    "    path = [(x0, y0)]\n",
    "    for i in range(n_updates):\n",
    "        path.append(update_rule(*path[-1], s, gen, **kwargs))\n",
    "    plot_P(s, lim)\n",
    "    x, y = np.array(path).T\n",
    "    plt.scatter(x, y, s=10, c='k')\n",
    "    plt.plot(x, y, 'k-', lw=0.5, alpha=0.3)\n",
    "    plt.xlim(-lim, +lim)\n",
    "    plt.ylim(-lim, +lim)\n",
    "    plt.xlabel('$x$')\n",
    "    plt.ylabel('$y$')"
   ]
  },
  {
   "cell_type": "code",
   "execution_count": null,
   "metadata": {},
   "outputs": [],
   "source": [
    "plot_chain(metropolis_update, sigma=2.0)"
   ]
  },
  {
   "cell_type": "code",
   "execution_count": null,
   "metadata": {},
   "outputs": [],
   "source": [
    "plot_chain(metropolis_update, sigma=1.0)"
   ]
  },
  {
   "cell_type": "code",
   "execution_count": null,
   "metadata": {},
   "outputs": [],
   "source": [
    "plot_chain(metropolis_update, sigma=0.5)"
   ]
  },
  {
   "cell_type": "markdown",
   "metadata": {},
   "source": [
    "## <span style=\"color:Orange\">Problem 2</span>"
   ]
  },
  {
   "cell_type": "markdown",
   "metadata": {},
   "source": [
    "In this problem you will implement a Gibbs update rule for the same probability density.\n",
    "\n",
    "Implement the function below to sample from the conditional distribution $P(x\\mid y)$. Hint: each sample can be drawn from a single Gaussian with $\\sigma = s$ or $\\sigma = 1/s$ as long as you weight the contributions from each Gaussian correctly given $y$."
   ]
  },
  {
   "cell_type": "code",
   "execution_count": null,
   "metadata": {},
   "outputs": [],
   "source": [
    "def sample_conditional(y, s, gen):\n",
    "    \"\"\"Sample from the conditional distribution P(x | y).\n",
    "    \n",
    "    Parameters\n",
    "    ----------\n",
    "    y : float\n",
    "        Fixed value of y to use.\n",
    "    s : float\n",
    "        Value of the hyperparameter s.\n",
    "    gen : np.random.RandomState\n",
    "        Random state to use for reproducible random samples.\n",
    "        \n",
    "    Returns\n",
    "    -------\n",
    "    float\n",
    "        Random value of x sampled from P(x | y).\n",
    "    \"\"\"\n",
    "\n",
    "    # YOUR CODE HERE\n",
    "    raise NotImplementedError()"
   ]
  },
  {
   "cell_type": "code",
   "execution_count": null,
   "metadata": {},
   "outputs": [],
   "source": [
    "# A correct solution should pass these tests.\n",
    "s, n = 3, 10000\n",
    "gen = np.random.RandomState(seed=123)\n",
    "# With y=+/-4, the distribution of x should be narrow.\n",
    "x = [sample_conditional(+4, s, gen) for i in range(n)]\n",
    "assert np.allclose(np.percentile(x, (5, 50, 95)), [-0.549, 0, +0.549], atol=0.1, rtol=0.1)\n",
    "x = [sample_conditional(-4, s, gen) for i in range(n)]\n",
    "assert np.allclose(np.percentile(x, (5, 50, 95)), [-0.549, 0, +0.549], atol=0.1, rtol=0.1)\n",
    "# With y=0, the distribution of x should have a narrow core and a wide tail.\n",
    "x = [sample_conditional(0, s, gen) for i in range(n)]\n",
    "assert np.allclose(np.percentile(x, (5, 25, 50, 75, 95)), [-3.84, -0.50, 0, +0.50, +3.84], atol=0.1, rtol=0.1)"
   ]
  },
  {
   "cell_type": "markdown",
   "metadata": {},
   "source": [
    "Implement the function below to perform a Gibbs update consisting of:\n",
    " - Sample $x_{n+1}$ from $P_X(x\\mid y_n)$\n",
    " - Sample $y_{n+1}$ from $P_Y(y\\mid x_{n+1})$\n",
    " \n",
    "Note that you can use `sample_conditional()` for both steps by noticing that $P_Y(y\\mid x)$ equals $P_X(x\\mid y)$ when $x$ and $y$ are swapped."
   ]
  },
  {
   "cell_type": "code",
   "execution_count": null,
   "metadata": {},
   "outputs": [],
   "source": [
    "def gibbs_update(x, y, s, gen):\n",
    "    \"\"\"Perform a single Gibbs update.\n",
    "    \n",
    "    Parameters\n",
    "    ----------\n",
    "    x : float\n",
    "        Value of x from the previous step.\n",
    "    y : float\n",
    "        Value of y from the previous step.\n",
    "    s : float\n",
    "        Value of the hyperparameter s.\n",
    "    gen : np.random.RandomState\n",
    "        Random state to use for reproducible random samples.\n",
    "        \n",
    "    Returns\n",
    "    -------\n",
    "    tuple\n",
    "        Tuple (x,y) of the position after the update.\n",
    "    \"\"\"\n",
    "\n",
    "    # YOUR CODE HERE\n",
    "    raise NotImplementedError()"
   ]
  },
  {
   "cell_type": "code",
   "execution_count": null,
   "metadata": {},
   "outputs": [],
   "source": [
    "# A correct solution should pass these tests.\n",
    "s, n = 3, 10000\n",
    "gen = np.random.RandomState(seed=123)\n",
    "# Generate steps from (0,0).\n",
    "xy = np.array([gibbs_update(0, 0, s, gen) for i in range(n)])\n",
    "assert np.allclose(\n",
    "    np.percentile(xy[:, 0], (5, 25, 50, 75, 95)),\n",
    "    [-3.849, -0.502, 0, +0.502, +3.849], atol=0.1, rtol=0.1)\n",
    "assert np.allclose(\n",
    "    np.percentile(xy[:, 1], (5, 25, 50, 75, 95)),\n",
    "    [-2.36, -0.297, 0, +0.297, +2.36], atol=0.1, rtol=0.1)\n",
    "# Steps from (5,0) have the same distribution.\n",
    "xy = np.array([gibbs_update(5, 0, s, gen) for i in range(n)])\n",
    "assert np.allclose(\n",
    "    np.percentile(xy[:, 0], (5, 25, 50, 75, 95)),\n",
    "    [-3.849, -0.502, 0, +0.502, +3.849], atol=0.1, rtol=0.1)\n",
    "assert np.allclose(\n",
    "    np.percentile(xy[:, 1], (5, 25, 50, 75, 95)),\n",
    "    [-2.36, -0.297, 0, +0.297, +2.36], atol=0.1, rtol=0.1)\n",
    "# Steps from (0,-5) have a different distribution.\n",
    "xy = np.array([gibbs_update(0, -5, s, gen) for i in range(n)])\n",
    "assert np.allclose(\n",
    "    np.percentile(xy[:, 0], (5, 25, 50, 75, 95)),\n",
    "    [-0.548, -0.225, 0, +0.225, +0.548], atol=0.1, rtol=0.1)\n",
    "assert np.allclose(\n",
    "    np.percentile(xy[:, 1], (5, 25, 50, 75, 95)),\n",
    "    [-3.42, -0.391, 0, +0.391, +3.42], atol=0.1, rtol=0.1)"
   ]
  },
  {
   "cell_type": "markdown",
   "metadata": {},
   "source": [
    "Test your solution with the following visualization:"
   ]
  },
  {
   "cell_type": "code",
   "execution_count": null,
   "metadata": {},
   "outputs": [],
   "source": [
    "plot_chain(gibbs_update)"
   ]
  },
  {
   "cell_type": "markdown",
   "metadata": {},
   "source": [
    "## <span style=\"color:Orange\">Problem 3</span>"
   ]
  },
  {
   "cell_type": "markdown",
   "metadata": {},
   "source": [
    "If we define the potential energy for a \"particle\" as:\n",
    "$$\n",
    "U(x,y) \\equiv -\\log P(x,y)\n",
    "$$\n",
    "it has partial derivatives:\n",
    "$$\n",
    "\\frac{\\partial}{\\partial x} U(x,y) = x\\, \\frac{E_1 / s^2 + E_2 s^2}{E_1 + E_2} \\quad, \\quad\n",
    "\\frac{\\partial}{\\partial y} U(x,y) = y\\, \\frac{E_1 s^2 + E_2 / s^2}{E_1 + E_2}\n",
    "$$\n",
    "with\n",
    "$$\n",
    "E_1(x,y) \\equiv \\frac{1}{2} \\exp\\left[-\\frac{(x/s)^2 + (y s)^2}{2}\\right] \\quad, \\quad\n",
    "E_2(x,y) \\equiv \\frac{1}{2} \\exp\\left[-\\frac{(x s)^2 + (y/s)^2}{2}\\right] \\; .\n",
    "$$\n",
    "A Hamiltonian MC simulates the trajectory of a particle using the equations of motion:\n",
    "$$\n",
    "x \\rightarrow x + p_x \\Delta t \\quad, \\quad\n",
    "y \\rightarrow y + p_y \\Delta t \\quad, \\quad\n",
    "p_x \\rightarrow p_x - \\frac{\\partial}{\\partial x} U(x,y) \\Delta t \\quad, \\quad\n",
    "p_y \\rightarrow p_y - \\frac{\\partial}{\\partial y} U(x,y) \\Delta t \\; ,\n",
    "$$\n",
    "where we have set all masses equal to 1 and the temperature $k_B T = 1$.\n",
    "\n",
    "Implement the function below to perform a single $\\Delta t$ step according to the equations above:"
   ]
  },
  {
   "cell_type": "code",
   "execution_count": null,
   "metadata": {},
   "outputs": [],
   "source": [
    "def HMC_step(x, y, px, py, s, dt):\n",
    "    \"\"\"Perform a single HMC dt step.\n",
    "    \n",
    "    Parameters\n",
    "    ----------\n",
    "    x : float\n",
    "        Current x position.\n",
    "    y : float\n",
    "        Current y position.\n",
    "    px : float\n",
    "        Current x momentum.\n",
    "    py : float\n",
    "        Current y momentum.\n",
    "    s : float\n",
    "        Value of the hyperparameter s.\n",
    "    dt : float\n",
    "        Step size to take.\n",
    "        \n",
    "    Returns\n",
    "    -------\n",
    "    tuple\n",
    "        Tuple (x, y, px, py) with particle position and momentum after this step.\n",
    "    \"\"\"\n",
    "\n",
    "    # YOUR CODE HERE\n",
    "    raise NotImplementedError()"
   ]
  },
  {
   "cell_type": "code",
   "execution_count": null,
   "metadata": {},
   "outputs": [],
   "source": [
    "# A correct solution should pass these tests.\n",
    "assert np.all(HMC_step(0., 0., 0., 0., 3, 1.) == np.array([0.,0.,0.,0.]))\n",
    "assert np.all(HMC_step(0., 0., 1., 1., 3, 0.) == np.array([0.,0.,1.,1.]))\n",
    "assert np.all(HMC_step(0., 0., 1., 1., 3, 1.) == np.array([1.,1.,1.,1.]))\n",
    "assert np.all(HMC_step(0., 0., 1., 1., 3, 2.) == np.array([2.,2.,1.,1.]))\n",
    "assert np.all(np.round(HMC_step(1., 1., -1., 1., 3, 1.), 3) == np.array([0.,2.,-5.556,-3.556]))\n",
    "assert np.all(np.round(HMC_step(0., 1., -1., 1., 3, 1.), 3) == np.array([-1.,2.,-1.,0.786]))\n",
    "assert np.all(np.round(HMC_step(1., 0., -1., 1., 3, 1.), 3) == np.array([0.,1.,-1.214,1.]))"
   ]
  },
  {
   "cell_type": "markdown",
   "metadata": {},
   "source": [
    "In order to perform an HMC update, we first need to generate random values of the (nuisance) parameters $p_x$ and $p_y$, then we follow the resulting particle from its initial conditions through a fixed number of steps. The result of the update is wherever the particle ends up. Note that the only use of random numbers is to generate the particle's initial momentum."
   ]
  },
  {
   "cell_type": "code",
   "execution_count": null,
   "metadata": {},
   "outputs": [],
   "source": [
    "def HMC_update(x0, y0, s, gen, p_sigma, n_steps, dt):\n",
    "    \"\"\"Perform a single HMC update by following a single particle for a fixed time.\n",
    "    \n",
    "    Parameters\n",
    "    ----------\n",
    "    x0 : float\n",
    "        Initial x position.\n",
    "    y0 : float\n",
    "        Initial y position.\n",
    "    s : float\n",
    "        Value of the hyperparameter s.\n",
    "    gen : np.random.RandomState\n",
    "        Random state to use for reproducible random samples.\n",
    "    p_sigma : float\n",
    "        Gaussian sigma for generating random initial (px,py) values.\n",
    "    n_steps : int\n",
    "        Number of particle steps to simulate.\n",
    "    dt : float\n",
    "        Size of each step.\n",
    "\n",
    "    Returns\n",
    "    -------\n",
    "    array\n",
    "        Array of shape (n_steps + 1, 4) with the particle position and momentum after each step.\n",
    "    \"\"\"\n",
    "    px0, py0 = gen.normal(scale=p_sigma, size=2)\n",
    "    path = [(x0, y0, px0, py0)]\n",
    "    for i in range(n_steps):\n",
    "        path.append(HMC_step(*path[-1], s, dt))\n",
    "    return np.array(path)"
   ]
  },
  {
   "cell_type": "markdown",
   "metadata": {},
   "source": [
    "Finally, use the following visualization to see the particle trajectories from different updates:"
   ]
  },
  {
   "cell_type": "code",
   "execution_count": null,
   "metadata": {},
   "outputs": [],
   "source": [
    "def plot_HMC(x0=0, y0=0, s=3, p_sigma=1., n_steps=500, dt=0.01, n_updates=50, lim=5, seed=3, **kwargs):\n",
    "    gen = np.random.RandomState(seed=seed)\n",
    "    plot_P(s, lim)\n",
    "    for i in range(n_updates):\n",
    "        path = HMC_update(x0, y0, s, gen, p_sigma, n_steps, dt)\n",
    "        x, y, px, py = np.array(path).T\n",
    "        plt.scatter(x[-1], y[-1], s=25, c='k')\n",
    "        plt.plot(x, y, 'b-', lw=1, alpha=0.3)\n",
    "    plt.xlim(-lim, +lim)\n",
    "    plt.ylim(-lim, +lim)\n",
    "    plt.xlabel('$x$')\n",
    "    plt.ylabel('$y$')\n",
    "    \n",
    "plot_HMC()"
   ]
  },
  {
   "cell_type": "markdown",
   "metadata": {},
   "source": [
    "## <span style=\"color:Orange\">Problem 4</span>"
   ]
  },
  {
   "cell_type": "markdown",
   "metadata": {},
   "source": [
    "The default score function used by sklearn to evaluate how well a regression model predicts data is the [coefficient of determination](https://en.wikipedia.org/wiki/Coefficient_of_determination) $R^2$. Implement the function below to calculate $R^2$:"
   ]
  },
  {
   "cell_type": "code",
   "execution_count": null,
   "metadata": {},
   "outputs": [],
   "source": [
    "def calculate_R2(y_data, y_pred):\n",
    "    \"\"\"Calculate the coefficient of determination R2 for two arrays.\n",
    "    \n",
    "    Parameters\n",
    "    ----------\n",
    "    y_data : array\n",
    "        Array of data values, must have the same shape as y_pred.\n",
    "    y_pred : array\n",
    "        Array of predicted values, must have the same shape as y_data.\n",
    "        \n",
    "    Returns\n",
    "    -------\n",
    "    float\n",
    "        Calculated coefficient of determination R2.\n",
    "    \"\"\"\n",
    "    assert y_data.shape == y_pred.shape\n",
    "\n",
    "    # YOUR CODE HERE\n",
    "    raise NotImplementedError()"
   ]
  },
  {
   "cell_type": "code",
   "execution_count": null,
   "metadata": {},
   "outputs": [],
   "source": [
    "# A correct solution should pass the tests below.\n",
    "gen = np.random.RandomState(seed=123)\n",
    "N = 100\n",
    "x = gen.uniform(size=N)\n",
    "y_pred = 2 * x - 1\n",
    "y_data = y_pred + gen.normal(scale=0.1, size=N)\n",
    "assert np.round(calculate_R2(y_data, y_pred), 3) == 0.961\n",
    "assert np.round(calculate_R2(y_data, -y_pred), 3) == -2.935\n",
    "assert np.round(calculate_R2(y_pred, y_pred), 3) == 1.000\n",
    "assert np.round(calculate_R2(y_pred, -y_pred), 3) == -3.000\n",
    "assert np.round(calculate_R2(y_data, np.full(N, np.mean(y_pred))), 3) == 0.000"
   ]
  },
  {
   "cell_type": "markdown",
   "metadata": {},
   "source": [
    "## <span style=\"color:Orange\">Problem 5</span>"
   ]
  },
  {
   "cell_type": "markdown",
   "metadata": {},
   "source": [
    "Implement the function below to perform a [grid-search cross validation](http://scikit-learn.org/stable/modules/generated/sklearn.model_selection.GridSearchCV.html) of a [random forest regression](http://scikit-learn.org/stable/modules/generated/sklearn.ensemble.RandomForestRegressor.html) over the following grid:\n",
    " - `min_samples_leaf` = 1, 10, 20\n",
    " - `n_estimators` = 5, 10, 15\n",
    " \n",
    "Hint: you will need to ensure reproducible \"random\" behavior in order to pass all the tests."
   ]
  },
  {
   "cell_type": "code",
   "execution_count": null,
   "metadata": {},
   "outputs": [],
   "source": [
    "def cv_summary(cv):\n",
    "    \"\"\"Summarize the results from a GridSearchCV fit.\n",
    "\n",
    "    Summarize a cross-validation grid search in a pandas DataFrame with the\n",
    "    following transformations of the full results:\n",
    "      - Remove all columns with timing measurements.\n",
    "      - Remove the 'param_' prefix from column names.\n",
    "      - Remove the '_score' suffix from column names.\n",
    "      - Round scores to 3 decimal places.\n",
    "\n",
    "     If the parameter grid is 1D, then this function also plots the test\n",
    "     and training R2 scores versus the parameter.\n",
    "\n",
    "    Parameters\n",
    "    ----------\n",
    "    cv : sklearn.model_selection.GridSearchCV\n",
    "        Instance of a GridSearchCV object that has been fit to some data.\n",
    "\n",
    "    Returns\n",
    "    -------\n",
    "    pandas.DataFrame\n",
    "        Summary table of cross-validation results.\n",
    "    \"\"\"\n",
    "    # Look up the list of parameters used in the grid.\n",
    "    params = list(cv.cv_results_['params'][0].keys())\n",
    "    # Index results by the test score rank.\n",
    "    index = cv.cv_results_['rank_test_score']\n",
    "    df = pd.DataFrame(cv.cv_results_, index=index).drop(columns=['params', 'rank_test_score'])\n",
    "    # Remove columns that measure running time.\n",
    "    df = df.drop(columns=[n for n in df.columns.values if n.endswith('_time')])\n",
    "    # Remove param_ prefix from column names.\n",
    "    df = df.rename(lambda n: n[6:] if n.startswith('param_') else n, axis='columns')\n",
    "    # Remove _score suffix from column names.\n",
    "    df = df.rename(lambda n: n[:-6] if n.endswith('_score') else n, axis='columns')\n",
    "    if len(params) == 1:\n",
    "        # Plot the test and training scores vs the grid parameter when there is only one.\n",
    "        plt.plot(df[params[0]], df['mean_train'], 'o:', label='train')\n",
    "        plt.plot(df[params[0]], df['mean_test'], 'o-', label='test')\n",
    "        plt.legend(fontsize='x-large')\n",
    "        plt.xlabel('Hyperparameter value')\n",
    "        plt.ylabel('Score $R^2$')\n",
    "        plt.ylim(max(-2, np.min(df['mean_test'])), 1)\n",
    "    return df.sort_index().round(3)"
   ]
  },
  {
   "cell_type": "code",
   "execution_count": null,
   "metadata": {},
   "outputs": [],
   "source": [
    "def cross_validate(X, Y, gen):\n",
    "    \"\"\"Perform cross validation of a random forest regression.\n",
    "    \n",
    "    Parameters\n",
    "    ----------\n",
    "    X : array\n",
    "        Array with shape (N, DX) of N samples with DX features.\n",
    "    Y : array\n",
    "        Array with shape (N, DY) of N samples with DY features.\n",
    "    gen : np.random.RandomState\n",
    "        Random state to use for reproducible random numbers.\n",
    "        \n",
    "    Returns\n",
    "    -------\n",
    "    pandas.DataFrame\n",
    "        Cross-validation summary table produced by cv_summary().\n",
    "    \"\"\"\n",
    "    assert len(X) == len(Y)\n",
    "\n",
    "    # YOUR CODE HERE\n",
    "    raise NotImplementedError()"
   ]
  },
  {
   "cell_type": "code",
   "execution_count": null,
   "metadata": {},
   "outputs": [],
   "source": [
    "wget_data('https://raw.githubusercontent.com/illinois-mlp/MachineLearningForPhysics/main/data/spectra_data.hf5')\n",
    "wget_data('https://raw.githubusercontent.com/illinois-mlp/MachineLearningForPhysics/main/data/spectra_targets.hf5')"
   ]
  },
  {
   "cell_type": "code",
   "execution_count": null,
   "metadata": {},
   "outputs": [],
   "source": [
    "X = pd.read_hdf(locate_data('spectra_data.hf5')).values\n",
    "Y = pd.read_hdf(locate_data('spectra_targets.hf5')).values"
   ]
  },
  {
   "cell_type": "code",
   "execution_count": null,
   "metadata": {},
   "outputs": [],
   "source": [
    "# A correct solution should pass the tests below.\n",
    "gen = np.random.RandomState(seed=123)\n",
    "cvs = cross_validate(X, Y, gen)\n",
    "assert np.all(cvs.columns.values == [\n",
    "    'min_samples_leaf', 'n_estimators', 'split0_test', 'split1_test', \n",
    "    'mean_test', 'std_test', 'split0_train', 'split1_train', 'mean_train', \n",
    "    'std_train'])\n",
    "assert np.all(cvs['min_samples_leaf'].values == [1, 1, 1, 10, 10, 10, 20, 20, 20])\n",
    "assert np.all(cvs['n_estimators'].values == [15, 10, 5, 15, 10, 5, 15, 10, 5])\n",
    "assert np.allclose(\n",
    "    cvs['mean_test'].values,\n",
    "    [0.961, 0.955, 0.942, 0.896, 0.891, 0.879, 0.496, 0.490, 0.480], atol=1e-3)\n",
    "assert np.allclose(\n",
    "    cvs['mean_train'].values,\n",
    "    [0.993, 0.992, 0.990, 0.909, 0.908, 0.905, 0.512, 0.515, 0.507], atol=1e-3)"
   ]
  },
  {
   "cell_type": "markdown",
   "metadata": {},
   "source": [
    "## <span style=\"color:Orange\">Acknowledgments</span>\n",
    "\n",
    "* Initial version: Mark Neubauer\n",
    "\n",
    "© Copyright 2024"
   ]
  }
 ],
 "metadata": {
  "kernelspec": {
   "display_name": "Python 3",
   "language": "python",
   "name": "python3"
  },
  "language_info": {
   "codemirror_mode": {
    "name": "ipython",
    "version": 3
   },
   "file_extension": ".py",
   "mimetype": "text/x-python",
   "name": "python",
   "nbconvert_exporter": "python",
   "pygments_lexer": "ipython3",
   "version": "3.11.2"
  }
 },
 "nbformat": 4,
 "nbformat_minor": 2
}
