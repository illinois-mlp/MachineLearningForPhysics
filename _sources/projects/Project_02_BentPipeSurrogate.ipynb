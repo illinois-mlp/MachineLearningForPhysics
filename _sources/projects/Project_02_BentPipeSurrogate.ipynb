{
  "cells": [
    {
      "cell_type": "markdown",
      "metadata": {},
      "source": [
        "# Fluid Dynamics of a Bent Pipe"
      ]
    },
    {
      "cell_type": "markdown",
      "metadata": {
        "id": "OVVf1DWa8XI9"
      },
      "source": [
        "<div>\n",
        "<img src=\"https://raw.githubusercontent.com/illinois-mlp/MachineLearningForPhysics/main/img/Project_BentPipeSurrogate_splash.png\" width=600>\n",
        "</div>"
      ]
    },
    {
      "cell_type": "markdown",
      "metadata": {
        "id": "cggz5y9Fvez8"
      },
      "source": [
        "## <span style=\"color:Orange\">Overview</span>"
      ]
    },
    {
      "cell_type": "markdown",
      "metadata": {
        "id": "wr0jahn7wNHN"
      },
      "source": [
        "Computational Fluid Dynamics (CFD) simulations are an essential but computationally expensive and time-consuming process. Surrogate modeling using machine learning can greatly speed up predictions by approximating the simulation results. In this notebook, we compare two surrogate approaches:\n",
        "- A Fully Connected Feedforward Neural Network (FCFNN) baseline, treating each point independently.\n",
        "- A Graph Neural Network (GNN) surrogate, leveraging the spatial mesh as a graph.\n",
        "\n",
        "We will train these surrogates on ground truth CFD data (outputs: turbulent kinetic energy, pressure, velocity) for a bent-pipe flow, and compare their performance using residual analysis, we will also compare their runtime to see which fits best for real-time monitoring for the pipe.\n",
        "\n",
        "By the end of this project hopefully you will be able to see the utility of surrogate models in fluid dynamics."
      ]
    },
    {
      "cell_type": "markdown",
      "metadata": {
        "id": "3gHbEv_q8XI9"
      },
      "source": [
        "## <span style=\"color:Orange\">Questions 1 & 2: Motivation for creating a surrogate model</span>"
      ]
    },
    {
      "cell_type": "markdown",
      "metadata": {
        "id": "Wb6uC2LFwejG"
      },
      "source": [
        "### <span style=\"color:LightGreen\">Question 01: CFD runtime</span>"
      ]
    },
    {
      "cell_type": "markdown",
      "metadata": {
        "id": "2NqTcsSfxyun"
      },
      "source": [
        "Why do traditional CFD simulations take so long to run? visit [Jose Alvarez and Mahmud Nobe's](https://colab.research.google.com/github/josealvarez97/The-Ultimate-Guide-to-Write-Your-First-CFD-Solver/blob/main/The_Ultimate_Guide_to_Write_Your_First_CFD_Solver.ipynb#scrollTo=fA1MTpR-FSmu) notebook to learn more about the math that goes behind the scenes when using a CFD simulation (hint: the infamous Navier–Stokes equation)"
      ]
    },
    {
      "cell_type": "markdown",
      "metadata": {
        "id": "EuL5h6dVhi2s"
      },
      "source": [
        "**(Answer here)**"
      ]
    },
    {
      "cell_type": "markdown",
      "metadata": {
        "id": "wBAN06Zrx-m_"
      },
      "source": [
        "## <span style=\"color:Orange\">Data structure from the CFD simulation</span>"
      ]
    },
    {
      "cell_type": "markdown",
      "metadata": {
        "id": "TN5O-gt6yIaZ"
      },
      "source": [
        "Training a surrogate model requires a large amount of data in the desired range, which is why we will use the data from [this](https://www.nature.com/articles/s41529-025-00557-y) paper to train our model. \n",
        "\n",
        "The system is a relatively simple bent pipe, structured as .txt files ranging from 0 to 200, with each file having a different velocity input towards the pipe. Each simulation file node data: \n",
        "\n",
        "`([nodenumber ,    x-coordinate,     y-coordinate,     z-coordinate, turb-kinetic-energy,         pressure,      temperature, velocity-magnitude])`. \n",
        "\n",
        "We drop the node index and filter out wall nodes (where velocity is zero) and we will ignore temperature. We then split into training and evaluation sets and compute normalization statistics."
      ]
    },
    {
      "cell_type": "code",
      "execution_count": null,
      "metadata": {
        "id": "6_p9jGM8hSfU"
      },
      "outputs": [],
      "source": [
        "!git clone https://github.com/lightiet/bended_pipe.git"
      ]
    },
    {
      "cell_type": "markdown",
      "metadata": {
        "id": "3wughGFYeWLf"
      },
      "source": [
        "### <span style=\"color:LightGreen\">Question 02: the 3 quantities </span>\n",
        "Why is it important to monitor these 3 quantities in a system of interest? as a reminder they are\n",
        "\n",
        "- Turbulent Kinetic Energy (TKE)\n",
        "\n",
        "- pressure\n",
        "\n",
        "- velocity"
      ]
    },
    {
      "cell_type": "markdown",
      "metadata": {
        "id": "rcyOkk4YhgS4"
      },
      "source": [
        "**(Answer here)**"
      ]
    },
    {
      "cell_type": "markdown",
      "metadata": {
        "id": "cdewsAB68XI_"
      },
      "source": [
        "## <span style=\"color:Orange\">Data preparation</span>"
      ]
    },
    {
      "cell_type": "code",
      "execution_count": null,
      "metadata": {
        "id": "xw8FWM7XvIsu"
      },
      "outputs": [],
      "source": [
        "!pip install -q torch-geometric\n",
        "import time\n",
        "from torch_geometric.data import Data\n",
        "from torch_geometric.nn import GCNConv, knn_graph\n",
        "from torch_geometric.utils import to_undirected\n",
        "import torch.nn as nn\n",
        "import torch.nn.functional as F\n",
        "from torch.utils.data import Dataset, DataLoader\n",
        "import torch\n",
        "import os\n",
        "import numpy as np\n",
        "import matplotlib.pyplot as plt\n",
        "from sklearn.neighbors import NearestNeighbors\n",
        "torch.manual_seed(42)\n",
        "np.random.seed(42)\n",
        "rng = np.random.default_rng(seed=42)\n",
        "device = torch.device(\"cuda\" if torch.cuda.is_available() else \"cpu\")\n"
      ]
    },
    {
      "cell_type": "markdown",
      "metadata": {
        "id": "QuZ_btpPyK4r"
      },
      "source": [
        "### <span style=\"color:LightGreen\">Question 03: Data preprocessing</span>"
      ]
    },
    {
      "cell_type": "markdown",
      "metadata": {
        "id": "x-kuOx3WyQWI"
      },
      "source": [
        "Prepare the data for training.\n",
        "\n",
        "think about the desired goal of this project, what should be the shape of the input and output vectors?"
      ]
    },
    {
      "cell_type": "code",
      "execution_count": null,
      "metadata": {
        "id": "ZacLXpFq1lBK"
      },
      "outputs": [],
      "source": [
        "data_dir     = \"bended_pipe/test_output_data\"\n",
        "file_pattern = \"axial_output_{}.txt\"\n",
        "start_index  = 0\n",
        "end_index    = 200  #\n",
        "num_sims = end_index - start_index + 1\n",
        "nodes_per_sim = 11340\n",
        "\n",
        "# 1) Fill in the correct shape: (num_sims, nodes_per_sim, number_of_features)\n",
        "#    Features here are: x, y, z, TKE, pressure, velocity\n",
        "data_tensor = np.empty() # YOUR CODE HERE\n",
        "\n",
        "for sim_idx, i in enumerate(range(start_index, end_index + 1)):\n",
        "    fn  = os.path.join(data_dir, file_pattern.format(i))\n",
        "    raw = np.loadtxt(fn, skiprows=1)           # shape (11340, 8)\n",
        "    raw = raw[raw[:, 0].argsort()]              # sort by node number\n",
        "\n",
        "    # 2) Select the correct columns for [x, y, z, TKE, pressure, velocity]:\n",
        "    #    Remember: raw has columns [node#, x, y, z, TKE, pressure, temp, velocity]\n",
        "    data_tensor[sim_idx] = raw[:,] # YOUR CODE HERE\n",
        "\n",
        "# 3) Build a mask that drops any node where velocity (last feature) == 0:\n",
        "mask = # YOUR CODE HERE\n",
        "data_tensor = data_tensor[:, mask, :]\n",
        "print(\"data_sorted!\")"
      ]
    },
    {
      "cell_type": "code",
      "execution_count": null,
      "metadata": {
        "id": "tH9OdNw58t0s"
      },
      "outputs": [],
      "source": [
        "#segregate data to training and eval\n",
        "perm      = rng.permutation(num_sims)\n",
        "split_pt  = int(0.2 * num_sims)\n",
        "eval_idx  = perm[:split_pt]\n",
        "train_idx = perm[split_pt:]\n",
        "\n",
        "train_tensor = data_tensor[train_idx]\n",
        "eval_tensor  = data_tensor[eval_idx]"
      ]
    },
    {
      "cell_type": "code",
      "execution_count": null,
      "metadata": {
        "id": "tbrh6ohZyuyR"
      },
      "outputs": [],
      "source": [
        "print(\"shape of the training tensor is\" , train_tensor.shape)\n",
        "print(\"shape of the evaluation tensor is\" , eval_tensor.shape)"
      ]
    },
    {
      "cell_type": "markdown",
      "metadata": {
        "id": "8OBifP_uh8pi"
      },
      "source": [
        "### <span style=\"color:LightGreen\">Reynolds Number (Re)</span>"
      ]
    },
    {
      "cell_type": "markdown",
      "metadata": {
        "id": "_6Op1fNUiEK8"
      },
      "source": [
        "The equation for Reynolds number is\n",
        "\n",
        "$$ \\Large\n",
        "Re = \\frac{\\rho U D}{\\mu}\n",
        "$$\n",
        "\n",
        "- ρ is the density of the water\n",
        "- U is the flow velocity (usually taken at the inlet)\n",
        "- D is the diameter of the opening which is 0.025 m in our case\n",
        "- μ is the dynamic viscosity of the water.\n",
        "\n",
        "This equation is especially important in fluid dynamics since it characterizes the regime of the system, when Re is high that means that the system is more turbulent and chaotic, and when Re is low the system is laminar and predictable."
      ]
    },
    {
      "cell_type": "code",
      "execution_count": null,
      "metadata": {
        "id": "zBsyAMQwkQWp"
      },
      "outputs": [],
      "source": [
        "def reynolds(U):\n",
        "    return 87500 * U #in our case we only have one variable in the equation, U, the constants turn out to be 87500 after simplification"
      ]
    },
    {
      "cell_type": "markdown",
      "metadata": {
        "id": "fc38edQejWRO"
      },
      "source": [
        "### <span style=\"color:LightGreen\">Question 04: Predictability and Re</span>\n",
        "\n",
        "based on what you just read, what do you think the relationship between our surrogate model's accuracy and Re will be?"
      ]
    },
    {
      "cell_type": "markdown",
      "metadata": {
        "id": "Oi27r_M9KPcl"
      },
      "source": [
        "**(Answer here)**"
      ]
    },
    {
      "cell_type": "markdown",
      "metadata": {
        "id": "koMMJOCO1FSt"
      },
      "source": [
        "### <span style=\"color:LightGreen\">Visualizing understanding the data</span>\n",
        "The following is a code snippet to visualize the data and help you gain intuition of what the data looks like"
      ]
    },
    {
      "cell_type": "code",
      "execution_count": null,
      "metadata": {
        "id": "RUjCD_SttR0L"
      },
      "outputs": [],
      "source": [
        "#mini helper function\n",
        "def get_inlet_vel(sim_idx: int):\n",
        "   return (data_tensor[sim_idx, 2, 5]) #3rd node's velocity is the inlet velocity"
      ]
    },
    {
      "cell_type": "code",
      "execution_count": null,
      "metadata": {
        "id": "Y7eLzk2G02cY"
      },
      "outputs": [],
      "source": [
        "# 1) extract the velocity arrays for each simulation\n",
        "velocities = data_tensor[:, :, 5]  # shape: (201, N_nodes)\n",
        "\n",
        "# 2) compute per‐simulation statistics\n",
        "max_vels = np.max(velocities, axis=1)  # highest velocity in each sim\n",
        "min_vels = np.min(velocities, axis=1)  # lowest velocity in each sim\n",
        "\n",
        "# 3) find the best (lowest max), worst (highest max), and the median‐case sim\n",
        "best_idx   = np.argmin(max_vels)\n",
        "worst_idx  = np.argmax(max_vels)\n",
        "\n",
        "# for the median‐case, sort by max_vel and pick the middle simulation\n",
        "sorted_by_max = np.argsort(max_vels)\n",
        "median_idx    = sorted_by_max[len(sorted_by_max) // 2]\n",
        "\n",
        "# collect indices for plotting\n",
        "sim_indices = np.array([best_idx, median_idx, worst_idx])\n"
      ]
    },
    {
      "cell_type": "code",
      "execution_count": null,
      "metadata": {
        "id": "w8g1gNhsnkFt"
      },
      "outputs": [],
      "source": [
        "var_names   = ['TKE', 'Pressure', 'Velocity']\n",
        "case_labels = ['Re best case', 'Re 50% case', 'Re worst case']\n",
        "\n",
        "vmins, vmaxs = [], []\n",
        "for idx in range(len(var_names)):\n",
        "    vals = data_tensor[sim_indices, :, 3 + idx]\n",
        "    vmins.append(vals.min())\n",
        "    vmaxs.append(vals.max())\n",
        "\n",
        "for sim, label in zip(sim_indices, case_labels):\n",
        "    # get inlet velocity and compute Reynolds number\n",
        "    inlet_vel = get_inlet_vel(sim)\n",
        "    Re_number = reynolds(inlet_vel)\n",
        "\n",
        "    x = data_tensor[sim, :, 0]\n",
        "    z = data_tensor[sim, :, 2]\n",
        "\n",
        "    fig, axs = plt.subplots(1, len(var_names), figsize=(18, 5))\n",
        "    for idx, name in enumerate(var_names):\n",
        "        ax = axs[idx]\n",
        "        values = data_tensor[sim, :, 3 + idx]\n",
        "        sc = ax.scatter(\n",
        "            x, z, c=values, s=10,\n",
        "            vmin=vmins[idx], vmax=vmaxs[idx]\n",
        "        )\n",
        "        fig.colorbar(sc, ax=ax, label=name)\n",
        "        ax.set_title(f\"{name}\")\n",
        "        ax.set_xlabel(\"x\")\n",
        "        ax.set_ylabel(\"z\")\n",
        "\n",
        "    fig.suptitle(f\"{label} (Re = {Re_number:.0f})\", fontsize=16)\n",
        "    plt.tight_layout(rect=[0, 0.03, 1, 0.95])\n",
        "    plt.show()\n"
      ]
    },
    {
      "cell_type": "markdown",
      "metadata": {
        "id": "yF9uLukR8XJB"
      },
      "source": [
        "## <span style=\"color:Orange\">Real-time monitoring  of the pipe by ML</span>"
      ]
    },
    {
      "cell_type": "markdown",
      "metadata": {
        "id": "Jb2_jbi98XJB"
      },
      "source": [
        "Now that we've established that CFD models require significant computational resources, naturally they are not suitable for real-time prediction of a system's state. This is where machine learning becomes valuable: by training models specifically on the geometry and outputs of our system, we can achieve accurate, real-time predictions.\n",
        "\n",
        "Two approaches are presented below—try both and compare their performance.\n",
        "\n",
        "\n",
        "\n",
        "\n",
        "\n",
        "\n",
        "\n",
        "\n"
      ]
    },
    {
      "cell_type": "markdown",
      "metadata": {
        "id": "BJxAqs5H8XJB"
      },
      "source": [
        "### <span style=\"color:LightGreen\">Question 05: Fully Connected Feedforward Neural Network (FCFNN) approach</span>\n",
        "let's try the simplest method we have at our disposal, a FCFNN.\n",
        "Build an FCFNN that takes in the `[x,y,z,U]` and spits out `[TKE, Pressure, Velocity]`"
      ]
    },
    {
      "cell_type": "markdown",
      "metadata": {
        "id": "z817LM298XJB"
      },
      "source": [
        "To begin, we’ll load the data into a tensor and normalize it to prepare it for training."
      ]
    },
    {
      "cell_type": "code",
      "execution_count": null,
      "metadata": {
        "id": "1MBo6jbW8XJB"
      },
      "outputs": [],
      "source": [
        "coords_train = train_tensor[:,:,0:3].reshape(-1,3)\n",
        "inlet_flat   = train_tensor[:,2,5].reshape(-1,1)  # velocity at node 2\n",
        "Xcat = np.hstack([ np.repeat(coords_train, 1, axis=0),\n",
        "                   np.repeat(inlet_flat, coords_train.shape[0]//inlet_flat.shape[0], axis=0) ])\n",
        "Y_flat = train_tensor[:,:,3:6].reshape(-1,3)\n",
        "\n",
        "mu_in,  s_in  = Xcat.mean(axis=0), Xcat.std(axis=0)  + 1e-8\n",
        "mu_out, s_out = Y_flat.mean(axis=0), Y_flat.std(axis=0) + 1e-8\n",
        "\n",
        "norm_stats = (\n",
        "    torch.tensor(mu_in,  dtype=torch.float32),\n",
        "    torch.tensor(s_in,   dtype=torch.float32),\n",
        "    torch.tensor(mu_out, dtype=torch.float32),\n",
        "    torch.tensor(s_out,  dtype=torch.float32)\n",
        ")"
      ]
    },
    {
      "cell_type": "markdown",
      "metadata": {
        "id": "LM1TEAUf8XJB"
      },
      "source": [
        "Now we have\n",
        "- `mu_in, s_in`\n",
        "\n",
        "which are the per‑feature mean and standard deviation of inputs [x, y, z, U]\n",
        "- `mu_out, s_out`\n",
        "\n",
        " which are  the per‑feature mean and standard deviation of targets [TKE, Pressure, Velocity]."
      ]
    },
    {
      "cell_type": "code",
      "execution_count": null,
      "metadata": {
        "id": "G6rGqcPL8XJB"
      },
      "outputs": [],
      "source": [
        "class FCFNN(nn.Module):\n",
        "    #YOUR CODE HERE\n",
        "model = \n",
        "torch.save(model.state_dict(), 'fcfnn_checkpoint.pth')"
      ]
    },
    {
      "cell_type": "markdown",
      "metadata": {
        "id": "YZOy3JsNNBmp"
      },
      "source": [
        "### <span style=\"color:LightGreen\">Question 06: Graph neural networks</span>\n",
        "Treat each mesh point in the CFD simulation as a node whose behavior is influenced by its neighbors, and capture these local interactions with a graph neural network. Construct a GNN that first builds a K‑nearest‑neighbor graph based on the 3D coordinates, then processes the normalized input features`[x,y,z,U]` through an encoder, several graph‑convolution layers, and a decoder to predict the three target fields `[TKE, Pressure, Velocity]` just like the FCFNN.\n",
        "\n",
        "Be sure to standardize both inputs and outputs before training."
      ]
    },
    {
      "cell_type": "code",
      "execution_count": null,
      "metadata": {
        "id": "m2HPzWQG8XJC"
      },
      "outputs": [],
      "source": [
        "SEED = 42\n",
        "hidden_dim     = 128\n",
        "num_layers     = 3\n",
        "learning_rate  = 1e-3\n",
        "epochs          = 15\n",
        "batch_size      = 1\n",
        "k_neighbors     = 6      # for KNN graph"
      ]
    },
    {
      "cell_type": "code",
      "execution_count": null,
      "metadata": {
        "id": "MwZkGqRx8XJC"
      },
      "outputs": [],
      "source": [
        "def build_knn_graph(coords, k):\n",
        "    \"\"\"\n",
        "    Given coords of shape (N,3), build a 2xE edge_index tensor\n",
        "    connecting each node to its k nearest neighbors (excluding itself).\n",
        "    Returns: torch.LongTensor edge_index\n",
        "    \"\"\"\n"
      ]
    },
    {
      "cell_type": "code",
      "execution_count": null,
      "metadata": {
        "id": "lCZQ2nst8XJF"
      },
      "outputs": [],
      "source": [
        "class FlowDataset(Dataset):\n",
        "    def __init__(self, data_tensor, mask=None, norm_stats=None):\n",
        "        self.data = data_tensor\n",
        "        self.mask = mask\n",
        "        self.mu_in, self.s_in, self.mu_out, self.s_out = norm_stats\n",
        "        # coords identical for every sim\n",
        "        self.coords = torch.tensor(data_tensor[0,:,:3][mask], dtype=torch.float32)\n",
        "        self.edge_index = build_knn_graph(self.coords.numpy(), k_neighbors)\n",
        "    def __len__(self):\n",
        "        return self.data.shape[0]\n",
        "\n",
        "    def __getitem__(self, idx):\n",
        "        arr = self.data[idx]\n",
        "        # 2) Extract xyz positions and inlet velocity and normalize inputs (x) and outputs (y)\n",
        "\n",
        "        # YOUR CODE HERE\n",
        "\n",
        "        return x, y, self.edge_index\n",
        "\n",
        "def collate_graph(batch):\n",
        "    return batch[0]"
      ]
    },
    {
      "cell_type": "code",
      "execution_count": null,
      "metadata": {
        "id": "H3VLVPx98XJF"
      },
      "outputs": [],
      "source": [
        "class GraphConvLayer(nn.Module):\n",
        "    def __init__(self, dim):\n",
        "        super().__init__()\n",
        "        # Initialize linear layers for self‑ and neighbor contributions\n",
        "        # YOUR CODE HERE\n",
        "\n",
        "    def forward(self, h, edge_index):\n",
        "        #implement message passing\n",
        "        # YOUR CODE HERE\n",
        "\n",
        "\n",
        "class FlowGNN(nn.Module):\n",
        "    def __init__(self, in_dim=4, hidden_dim=128, out_dim=3, n_layers=3):\n",
        "        super().__init__()\n",
        "        # 1) Define an encoder to map input features to hidden_dim\n",
        "        # 2) Create a sequence of GraphConvLayer modules\n",
        "        # 3) Define a decoder to map back to output dimension\n",
        "\n",
        "        # YOUR CODE HERE\n",
        "\n",
        "    def forward(self, x, edge_index):\n",
        "        # implement GNN forward\n",
        "        # YOUR CODE HERE"
      ]
    },
    {
      "cell_type": "markdown",
      "metadata": {
        "id": "WCZHYDkq8XJF"
      },
      "source": [
        "Now create a training loop"
      ]
    },
    {
      "cell_type": "code",
      "execution_count": null,
      "metadata": {
        "id": "ykXF_MfwBs5M"
      },
      "outputs": [],
      "source": [
        "train_set = FlowDataset(train_tensor, mask, norm_stats)\n",
        "train_loader = DataLoader(train_set, batch_size=batch_size, shuffle=True)\n",
        "model = FlowGNN().to(device)\n",
        "optimizer = torch.optim.Adam(model.parameters(), lr=learning_rate)\n",
        "criterion = nn.MSELoss()\n",
        "for epoch in range(1, epochs+1):\n",
        "    #YOUR CODE HERE\n",
        "\n",
        "torch.save(model.state_dict(), 'gnn_checkpoint.pth')"
      ]
    },
    {
      "cell_type": "markdown",
      "metadata": {
        "id": "7k8D3wj21y6u"
      },
      "source": [
        "### <span style=\"color:LightGreen\">Question 07: Visualizing the output of the models</span>\n",
        "Implement a function `predict_fields(U)` that, given an inlet velocity `U` and model `GNN` or `FCFNN`, computes and returns the model’s predicted field values across the entire pipe."
      ]
    },
    {
      "cell_type": "code",
      "execution_count": null,
      "metadata": {
        "id": "dty-_x_XF5nA"
      },
      "outputs": [],
      "source": [
        "def predict_fields(U: float, model_type: str) -> np.ndarray:\n",
        "    \"\"\"\n",
        "    Given inlet velocity U, returns an (N, 6) array:\n",
        "    [x, y, z, TKE_pred, pressure_pred, velocity_pred]\n",
        "    \"\"\"\n",
        "    if model_type.upper() == \"GNN\":\n",
        "        ckpt = torch.load(\"flow_gnn_checkpoint.pt\", map_location=device)\n",
        "        model = FlowGNN(in_dim=4, hidden_dim=hidden_dim, out_dim=3, n_layers=num_layers)\n",
        "    elif model_type.upper() == \"FCFNN\":\n",
        "        ckpt = torch.load(\"fcfnn_checkpoint.pt\", map_location=device)\n",
        "        model = FCFNN(input_dim=4, hidden_dims=(hidden_dim,)*num_layers, output_dim=3) #you might want to change these values to match your model\n",
        "    else:\n",
        "        raise ValueError(f\"Unsupported model_type: {model_type}\")\n",
        "\n",
        "    model.load_state_dict(ckpt['model_state_dict'])\n",
        "    model.to(device).eval()\n",
        "    mu_in, s_in, mu_out, s_out = ckpt['norm_stats']\n",
        "\n",
        "    coords_np  = data_tensor[0, :, :3].astype(np.float32)\n",
        "    edge_index = build_knn_graph(coords_np, k_neighbors).to(device)\n",
        "\n",
        "    N = coords_np.shape[0]\n",
        "    U_col = np.full((N, 1), U, dtype=np.float32)\n",
        "    X_raw = np.hstack([coords_np, U_col])\n",
        "    X_norm = (X_raw - mu_in.cpu().numpy()) / s_in.cpu().numpy()\n",
        "\n",
        "    x_t = torch.from_numpy(X_norm).float().to(device)\n",
        "\n",
        "    with torch.no_grad():\n",
        "        if model_type.upper() == \"GNN\":\n",
        "            out_norm = model(Data(x=x_t, edge_index=edge_index))\n",
        "        else:\n",
        "            out_norm = model(x_t)\n",
        "\n",
        "    # De-normalize outputs\n",
        "    Y_pred = (out_norm.cpu().numpy() * s_out.cpu().numpy()) + mu_out.cpu().numpy()\n",
        "\n",
        "    # Return stacked coords + predictions\n",
        "    return np.hstack([coords_np, Y_pred])"
      ]
    },
    {
      "cell_type": "markdown",
      "metadata": {
        "id": "1PkDnafXIheO"
      },
      "source": [
        "Now we are ready! with the simple call of a function and an input of inlet velocity, we can get the profile for the whole pipe.\n",
        "\n",
        "Now let's test the run time and plot an example."
      ]
    },
    {
      "cell_type": "markdown",
      "metadata": {
        "id": "L5NNBy1g8XJG"
      },
      "source": [
        "### <span style=\"color:LightGreen\">Question 08: Evaluation of the models </span>\n"
      ]
    },
    {
      "cell_type": "code",
      "execution_count": null,
      "metadata": {
        "id": "LvQV6RmwUJKR"
      },
      "outputs": [],
      "source": [
        "# Time GNN prediction\n",
        "start = time.perf_counter()\n",
        "gnn_output = #YOUR CODE HERE\n",
        "end = time.perf_counter()\n",
        "print(f\"GNN predict_fields took {end - start:.6f} seconds\")\n",
        "\n",
        "# Time FCFNN prediction\n",
        "start = time.perf_counter()\n",
        "fcfnn_output = #YOUR CODE HERE\n",
        "end = time.perf_counter()\n",
        "print(f\"FCFNN predict_fields took {end - start:.6f} seconds\")\n",
        "\n",
        "# plot outputs\n",
        "var_names = ['TKE', 'Pressure', 'Velocity']\n",
        "model_outputs = [gnn_output, fcfnn_output]\n",
        "model_labels = ['GNN', 'FCFNN']\n",
        "\n",
        "for model_out, model_label in zip(model_outputs, model_labels):\n",
        "    x = model_out[:, 0]\n",
        "    z = model_out[:, 2]\n",
        "\n",
        "    fig, axs = plt.subplots(1, len(var_names), figsize=(18, 5))\n",
        "    for idx, name in enumerate(var_names):\n",
        "        ax = axs[idx]\n",
        "        values = model_out[:, 3 + idx]\n",
        "        sc = ax.scatter(x, z, c=values, s=10)\n",
        "        fig.colorbar(sc, ax=ax, label=name)\n",
        "        ax.set_title(f\"{model_label} - {name}\")\n",
        "        ax.set_xlabel(\"x\")\n",
        "        ax.set_ylabel(\"z\")\n",
        "\n",
        "    fig.suptitle(f\"{model_label} Single Simulation Visualization\", fontsize=16)\n",
        "    plt.tight_layout(rect=[0, 0.03, 1, 0.95])\n",
        "    plt.show()"
      ]
    },
    {
      "cell_type": "markdown",
      "metadata": {
        "id": "gIJpffn0I2HT"
      },
      "source": [
        "As you can see this is quite powerful, we no longer need to compute the profile of the pipe using CFD anymore, we can just call the predict_fields function and we will get what we need in an instant!\n",
        "\n",
        "now before we use this model to monitor our pipe, we should check for validity, the code below shows the loss in each of the 4 outputs."
      ]
    },
    {
      "cell_type": "code",
      "execution_count": null,
      "metadata": {
        "id": "TlYZ5nXagTrr"
      },
      "outputs": [],
      "source": [
        "sim   = 0\n",
        "U_val = 0.69\n",
        "ε     = 1e-8 #to avoid accidental division by 0\n",
        "coords_np = data_tensor[0, :, :3].astype(np.float32)\n",
        "\n",
        "# Ground truth\n",
        "actual    = data_tensor[sim, :, 3:6]\n",
        "\n",
        "# Predictions\n",
        "gnn_pred    = predict_fields(U_val, \"GNN\")[:, 3:6]\n",
        "fcfnn_pred  = predict_fields(U_val, \"FCFNN\")[:, 3:6]\n",
        "\n",
        "# Compute relative errors: |pred - true| / (|true| + ε)\n",
        "gnn_rel_err   = np.abs(gnn_pred   - actual) / (np.abs(actual) + ε)\n",
        "fcfnn_rel_err = np.abs(fcfnn_pred - actual) / (np.abs(actual) + ε)\n",
        "\n",
        "for rel_err, label in [(gnn_rel_err, \"GNN\"), (fcfnn_rel_err, \"FCFNN\")]:\n",
        "    x = coords_np[:, 0]\n",
        "    z = coords_np[:, 2]\n",
        "\n",
        "    fig, axs = plt.subplots(1, len(var_names), figsize=(18, 5))\n",
        "    for idx, name in enumerate(var_names):\n",
        "        ax = axs[idx]\n",
        "        sc = ax.scatter(\n",
        "            x, z,\n",
        "            c=rel_err[:, idx],\n",
        "            s=10,\n",
        "            cmap='viridis'\n",
        "        )\n",
        "        fig.colorbar(sc, ax=ax, label=f\"{name} Relative Error\")\n",
        "        ax.set_title(f\"{label} – {name} Rel. Error\")\n",
        "        ax.set_xlabel(\"x\")\n",
        "        ax.set_ylabel(\"z\")\n",
        "\n",
        "    fig.suptitle(f\"{label} Relative Error Field\", fontsize=16)\n",
        "    plt.tight_layout(rect=[0, 0.03, 1, 0.95])\n",
        "    plt.show()"
      ]
    },
    {
      "cell_type": "markdown",
      "metadata": {
        "id": "7BFVSyMu8XJH"
      },
      "source": [
        "From the results above, which NN works best for this use case?"
      ]
    },
    {
      "cell_type": "markdown",
      "metadata": {
        "id": "O3SUaiYJ8XJH"
      },
      "source": [
        "**(Answer here)**"
      ]
    },
    {
      "cell_type": "markdown",
      "metadata": {},
      "source": [
        "### <span style=\"color:LightGreen\">Question 09: Relationship between Re and loss </span>\n",
        "Write a breif scrip that plots Re vs model loss for both models over the evaluation simulations."
      ]
    },
    {
      "cell_type": "code",
      "execution_count": null,
      "metadata": {},
      "outputs": [],
      "source": [
        "#YOUR CODE HERE"
      ]
    },
    {
      "cell_type": "markdown",
      "metadata": {},
      "source": [
        "Was your initial guess about the relationship between Re and the model's accuracy correct?"
      ]
    },
    {
      "cell_type": "markdown",
      "metadata": {},
      "source": [
        "**(Answer here)**"
      ]
    },
    {
      "cell_type": "markdown",
      "metadata": {
        "id": "8iZG2hCuJUlF"
      },
      "source": [
        "### <span style=\"color:LightGreen\">Question 10: Possible improvements (optional) </span>\n",
        "What enhancements or modifications would you suggest for these surrogate models?\n",
        "\n",
        "Is there another technique that you think will work better? feel free to test it down below."
      ]
    },
    {
      "cell_type": "markdown",
      "metadata": {},
      "source": [
        "## <span style=\"color:Orange\">Acknowledgements</span>\n",
        "\n",
        "* Initial version: Abdulaziz Alshohail with some guidance from Mark Neubauer\n",
        "\n",
        "© Copyright 2025"
      ]
    }
  ],
  "metadata": {
    "accelerator": "GPU",
    "colab": {
      "gpuType": "T4",
      "provenance": []
    },
    "kernelspec": {
      "display_name": "Python 3",
      "name": "python3"
    },
    "language_info": {
      "codemirror_mode": {
        "name": "ipython",
        "version": 3
      },
      "file_extension": ".py",
      "mimetype": "text/x-python",
      "name": "python",
      "nbconvert_exporter": "python",
      "pygments_lexer": "ipython3",
      "version": "3.12.10"
    }
  },
  "nbformat": 4,
  "nbformat_minor": 0
}
