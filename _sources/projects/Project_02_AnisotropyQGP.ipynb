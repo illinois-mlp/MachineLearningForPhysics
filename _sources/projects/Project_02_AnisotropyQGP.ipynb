{
 "cells": [
  {
   "cell_type": "markdown",
   "metadata": {},
   "source": [
    "# Anisotropy in the Quark Gluon Plasma"
   ]
  },
  {
   "cell_type": "markdown",
   "metadata": {},
   "source": [
    "<img src=\"https://raw.githubusercontent.com/illinois-mlp/MachineLearningForPhysics/main/img/Project_AnisotropyQGP-Figure.png\" width=400 align=left></img><br>"
   ]
  },
  {
   "cell_type": "code",
   "execution_count": 12,
   "metadata": {},
   "outputs": [],
   "source": [
    "%matplotlib inline\n",
    "import matplotlib.pyplot as plt\n",
    "import seaborn as sns; sns.set()\n",
    "import numpy as np\n",
    "import pandas as pd\n",
    "import os.path\n",
    "import subprocess\n",
    "import h5py"
   ]
  },
  {
   "cell_type": "markdown",
   "metadata": {},
   "source": [
    "## <span style=\"color:Orange\">Overview</span>"
   ]
  },
  {
   "cell_type": "markdown",
   "metadata": {},
   "source": [
    "The Quark Gluon Plasma is a deconfined state of matter created in heavy ion collisions in the Large Hadron Collider. In this project you will learn how to characterize the shapes of the quark gluon plasma produced in these collisions, and leverage the shapes to characterize how particles lose energy while traversing through the medium. "
   ]
  },
  {
   "cell_type": "markdown",
   "metadata": {},
   "source": [
    "## <span style=\"color:Orange\">Data Sources</span>"
   ]
  },
  {
   "cell_type": "markdown",
   "metadata": {},
   "source": [
    "The data for this project can be found at:\n",
    "* https://courses.physics.illinois.edu/phys498mlp/sp2024/data/projects/AnisotropyQGP/events.hdf\n",
    "\n",
    "Jet Energy information:\n",
    "* https://courses.physics.illinois.edu/phys498mlp/sp2024/data/projects/AnisotropyQGP/jet_energy.txt\n",
    "\n",
    "TRENTO heavy ion initial states:\n",
    "* http://qcd.phy.duke.edu/trento/examples.html"
   ]
  },
  {
   "cell_type": "markdown",
   "metadata": {},
   "source": [
    "## <span style=\"color:Orange\">Questions</span>"
   ]
  },
  {
   "cell_type": "markdown",
   "metadata": {},
   "source": [
    "### <span style=\"color:LightGreen\">Question 01</span>"
   ]
  },
  {
   "cell_type": "markdown",
   "metadata": {},
   "source": [
    "One of the most important signals of the quark gluon plasma in heavy ion collisions is the presence of \"azimuthal anisotropy.\" Azimuthal anisotropy in heavy ion collisions is quantified by $v_n$, the coefficients in a fourier series fit to momentum deposits in particle detectors. Using equations (1) and (2) in https://arxiv.org/pdf/0809.2949.pdf, write a method to evaluate $v_n$ for an array of particles and angles. Assume the $\\delta_n$ in equation 2 is 0 -- the term comes from correlated particle decays which we will not consider in this project. \n",
    "\n"
   ]
  },
  {
   "cell_type": "code",
   "execution_count": 16,
   "metadata": {},
   "outputs": [],
   "source": [
    "\n",
    "def vn(n,particles):\n",
    "    \n",
    "    # particles is a nx2 array, particles[i][0] is the energy of the i-th particle and particles[i][1] is the angle of the i-th particle\n",
    "    \n",
    "\n",
    "\n",
    "    return v\n"
   ]
  },
  {
   "cell_type": "markdown",
   "metadata": {},
   "source": [
    "### <span style=\"color:LightGreen\">Question 02</span>"
   ]
  },
  {
   "cell_type": "markdown",
   "metadata": {},
   "source": [
    "Azimuthal anisotropy in heavy ion collisions arises because of asymmetry in the initial states of heavy ion collisions. These initial states can be modeled by software like TRENTO. \n",
    "\n",
    "\n",
    "http://qcd.phy.duke.edu/trento/index.html\n",
    "\n",
    "https://arxiv.org/pdf/1412.4708.pdf\n",
    "\n",
    "\n",
    "Using the \"Examples\" in the documentation, read and produce images of some TRENTO PbPb events. They should be found in the TRENTO data file. In a couple sentences, write about the dimensions of this data: how do we quantify the QGP initial state? What units are used for position within the event, and what's the \"z\" axis on all of these plots?"
   ]
  },
  {
   "cell_type": "markdown",
   "metadata": {},
   "source": [
    "### <span style=\"color:LightGreen\">Question 03</span>"
   ]
  },
  {
   "cell_type": "markdown",
   "metadata": {},
   "source": [
    " This paper: https://arxiv.org/pdf/1512.07443.pdf addresses how high energy sprays of particles (called jets) lose energy as they traverse the QGP medium. \n",
    "\n",
    " As you can see in Eqs. (1) and (2), the authors describe jet energy loss in the QGP as a function of $E(\\tau)$, the energy of the jet, $e(\\tau)$, the energy density of the medium, and $|\\tau|$, the path length that the jet has travelled. We will tweak this model slightly, and add some hyperparameters: \n",
    "\n",
    " $$ \\Large\n",
    " \\frac{dE}{d\\tau} = cE(\\tau)^{\\alpha}e(\\tau)^{\\beta}|\\tau|^\\gamma\n",
    " $$\n",
    "\n",
    " For this question, we will place a jet into a TRENTO event, and allow it to propagate through the medium, losing energy along the way.\n",
    " "
   ]
  },
  {
   "cell_type": "markdown",
   "metadata": {},
   "source": []
  },
  {
   "cell_type": "code",
   "execution_count": 14,
   "metadata": {},
   "outputs": [],
   "source": [
    "def eloss(seed,event,E,c,a,b,g):\n",
    "\n",
    "    # Event is the event number of the TRENTO event used in this exercise\n",
    "    # E is the initial energy of the jet\n",
    "    # c,a,b,g are the parameters from the model\n",
    "\n",
    "    # Initialize by importing the correct TRENTO event, selecting a random location within the event, and picking a random angle for the jet to propagate\n",
    "    # using a timestep (dtau = 1 will suffice), allow the jet to pass through the event, and lose energy\n",
    "    # return the final energy held by the jet\n",
    "\n",
    "    return E,theta"
   ]
  },
  {
   "cell_type": "markdown",
   "metadata": {},
   "source": [
    "### <span style=\"color:LightGreen\">Question 04</span>"
   ]
  },
  {
   "cell_type": "markdown",
   "metadata": {},
   "source": [
    "Now we will start putting the pieces together. Let's see how well our model replicates real $v_n$ data taken at the LHC!\n",
    "\n",
    "First, sample initial jet energies (in GeV) from the data in the jet energy data file.\n",
    "\n",
    "Then, using the TRENTO events, generate an array of final jet energies and angles. Using your code from problem 1,  evaluate $v_2$. Make sure to explain any uncertainty or \"errorbars\" in your answer. An easy way to evaluate these errorbars is by subsampling your data (calculate $v_2$ many times on a smaller sample size, and evaluate the uncertainty of the distribution of your $v_2$ values)\n",
    "\n",
    "\n",
    "Compare your answer to results in this paper: https://arxiv.org/pdf/2111.06606.pdf. Specifically, fig. 8. in the 5-10% centrality bin. \n",
    "\n",
    "\n",
    "NOTE: \n",
    "\n",
    "1.) \"Centrality\" is a term used to denote how large the overlap region between the two colliding nuclei is, and it takes values from 0% to 100% (head-on collisions take values closer to 0-10%, while more glancing collisions end up in the 90-100% range). For simplicity, the TRENTO events for this project are all within the 5-10% centrality range. \n",
    "\n",
    "2.) $p_T$ is used to denote \"transverse momentum,\" or the amount of momentum that a jet carries perpendicular to the collider beamline. Jets at the LHC have so much energy that we can consider them to be approximately massless, meaning that for our modeling purposes $p_T$ is essentially interchangeable with energy.\n",
    "\n",
    "\n"
   ]
  },
  {
   "cell_type": "markdown",
   "metadata": {},
   "source": [
    "### <span style=\"color:LightGreen\">Question 05</span>"
   ]
  },
  {
   "cell_type": "markdown",
   "metadata": {},
   "source": [
    "Using an optimization method discussed in class, find \"optimized\" values for your coefficents $c,\\alpha,\\beta,\\gamma$. \n",
    "\n",
    "Your loss function should use 5-10% centrality data from figure 7 of https://arxiv.org/pdf/2111.06606.pdf as datapoints for this regression. For simplicity, I have included them here using https://plotdigitizer.com/app\n",
    "\n",
    "What are your final values? Plot your model's predicted $v_2$ values alongside the experimentally determined ones. "
   ]
  },
  {
   "cell_type": "code",
   "execution_count": 15,
   "metadata": {},
   "outputs": [],
   "source": [
    "v2_values = np.array([\n",
    " 0.0248856,\n",
    " 0.0221773,\n",
    " 0.0195450,\n",
    " 0.0180492,\n",
    " 0.0178510,\n",
    " 0.0086814,\n",
    " 0.0120297,\n",
    " 0.0036979,\n",
    " 0.0138812,\n",
    "])\n",
    "v2_errors = np.array([\n",
    " 0.0050671,\n",
    " 0.0049263,\n",
    " 0.0042100,\n",
    " 0.0038375,\n",
    " 0.0038205,\n",
    " 0.0041046,\n",
    " 0.0048910,\n",
    " 0.0053504,\n",
    " 0.0092933,\n",
    "])\n",
    "\n",
    "pt_bin_edges = np.array([79,89,100,126,158,200,251,316,398])\n",
    "\n"
   ]
  },
  {
   "cell_type": "markdown",
   "metadata": {},
   "source": [
    "### <span style=\"color:LightGreen\">Question 06</span>"
   ]
  },
  {
   "cell_type": "markdown",
   "metadata": {},
   "source": [
    "Eccentricity, $\\varepsilon_n$, is a similarly defined quantity to $v_n$, designed to measure azimuthal anisotropy for heavy ion initial state models. While $v_n$ is defined in terms of the distribution of particle angles in a detector, $\\varepsilon_n$ is defined using the energy density of an heavy ion initial state, a quantity which is only accessible by theoretical models. You can find more information about eccentricity in https://arxiv.org/pdf/1412.4708.pdf, and the eccentricities $\\varepsilon_n$ for each TRENTO event are included in the files you used earlier for problem 2. \n",
    "\n",
    "Using your optimized code, compute $v_2$ for the TRENTO events. Then, plot the correlation between each event's $\\varepsilon_2$ and $v_2$."
   ]
  },
  {
   "cell_type": "markdown",
   "metadata": {},
   "source": [
    "### <span style=\"color:LightGreen\">Question 07</span>\n",
    "\n"
   ]
  },
  {
   "cell_type": "markdown",
   "metadata": {},
   "source": [
    "\n",
    "Using the TRENTO events, train a Neural Network to produce new heavy ion initial state energy density grids (100x100 pixels) simply by knowing the 2,3,4th, and 5th $\\varepsilon_n$ coefficients. A successful model should be able to produce events with output eccentricity values that correspond to the inputs.\n",
    "\n",
    "\n",
    " Then, calculate $v_2$ from these generated events, and plot the correlation between $\\varepsilon_2$ and $v_2$. Was your answer similar to the plot you made for question 6?\n",
    "\n",
    "\n"
   ]
  },
  {
   "cell_type": "markdown",
   "metadata": {},
   "source": [
    "## <span style=\"color:Orange\">References</span>\n",
    "\n",
    "[1] Voloshin, Sergei A.  Poskanzer, Arthur M. and Snellings, Raimond  \"Collective phenomena in non-central nuclear collisions\", e-Print [0809.2949](https://arxiv.org/abs/0809.2949) [nucl-ex]\n",
    "\n",
    "[2] Moreland, J. Scott and Bernhard, Jonah E. and Bass, Steffen A. \"Alternative ansatz to wounded nucleon and binary collision scaling in high-energy nuclear collisions\" _Phys.Rev.C 97 (2015) 1, e-Print [1412.4708](https://arxiv.org/abs/0809.2949) [nucl-th]\n",
    "\n",
    "[3] B. Betz, F. Senzel, C. Greiner and M. Gyulassy,\n",
    "``The impact of the medium and the jet-medium coupling on jet measurements at RHIC and LHC,''\n",
    "[1512.07443](https://arxiv.org/abs/1512.07443) [hep-ph].\n",
    "\n",
    "\n",
    "[4] G. Aad et al. [ATLAS],\n",
    "``Measurements of azimuthal anisotropies of jet production in Pb+Pb collisions at $\\sqrt{s_{NN}} =$ 5.02 TeV with the ATLAS detector,''\n",
    "Phys. Rev. C 105, no.6, 064903 (2022)\n",
    "doi:10.1103/PhysRevC.105.064903\n",
    "[arXiv:2111.06606 [nucl-ex]].\n",
    "\n",
    "\n"
   ]
  }
 ],
 "metadata": {
  "kernelspec": {
   "display_name": "p498",
   "language": "python",
   "name": "python3"
  },
  "language_info": {
   "codemirror_mode": {
    "name": "ipython",
    "version": 3
   },
   "file_extension": ".py",
   "mimetype": "text/x-python",
   "name": "python",
   "nbconvert_exporter": "python",
   "pygments_lexer": "ipython3",
   "version": "3.10.13"
  }
 },
 "nbformat": 4,
 "nbformat_minor": 2
}
